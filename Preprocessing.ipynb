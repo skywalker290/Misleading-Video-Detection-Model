{
 "cells": [
  {
   "cell_type": "markdown",
   "metadata": {},
   "source": [
    "# Preprocessing Data"
   ]
  },
  {
   "cell_type": "markdown",
   "metadata": {},
   "source": [
    "1. Convert Different Language Comments into English"
   ]
  },
  {
   "cell_type": "code",
   "execution_count": 30,
   "metadata": {},
   "outputs": [],
   "source": [
    "from deep_translator import GoogleTranslator\n",
    "\n",
    "def translate(text):\n",
    "    translator = GoogleTranslator(source='auto',target='en')\n",
    "    return translator.translate(text)\n"
   ]
  },
  {
   "cell_type": "code",
   "execution_count": 40,
   "metadata": {},
   "outputs": [],
   "source": [
    "import pandas as pd\n",
    "import numpy as np\n",
    "import tqdm"
   ]
  },
  {
   "cell_type": "code",
   "execution_count": 33,
   "metadata": {},
   "outputs": [],
   "source": [
    "fvc = pd.read_csv(\"Datasets/Updated_FVC.csv\")\n",
    "mvd = pd.read_csv(\"Datasets/Updated_MVD.csv\")\n",
    "bolly = pd.read_csv(\"Datasets/Updated_BollyBAIT.csv\")\n",
    "combined = pd.read_csv(\"Datasets/Updated_Combined.csv\")"
   ]
  },
  {
   "cell_type": "code",
   "execution_count": 34,
   "metadata": {},
   "outputs": [
    {
     "data": {
      "text/html": [
       "<div>\n",
       "<style scoped>\n",
       "    .dataframe tbody tr th:only-of-type {\n",
       "        vertical-align: middle;\n",
       "    }\n",
       "\n",
       "    .dataframe tbody tr th {\n",
       "        vertical-align: top;\n",
       "    }\n",
       "\n",
       "    .dataframe thead th {\n",
       "        text-align: right;\n",
       "    }\n",
       "</style>\n",
       "<table border=\"1\" class=\"dataframe\">\n",
       "  <thead>\n",
       "    <tr style=\"text-align: right;\">\n",
       "      <th></th>\n",
       "      <th>video_id</th>\n",
       "      <th>LABEL</th>\n",
       "      <th>title</th>\n",
       "      <th>description</th>\n",
       "      <th>likes</th>\n",
       "      <th>comments</th>\n",
       "      <th>views</th>\n",
       "    </tr>\n",
       "  </thead>\n",
       "  <tbody>\n",
       "    <tr>\n",
       "      <th>0</th>\n",
       "      <td>Y7MJlmbnLQA</td>\n",
       "      <td>FAKE</td>\n",
       "      <td>بنت سقطت في حمم بركانيه 🙀</td>\n",
       "      <td>اللهم اجرنا من عذاب جهنم</td>\n",
       "      <td>66</td>\n",
       "      <td>42</td>\n",
       "      <td>18201</td>\n",
       "    </tr>\n",
       "    <tr>\n",
       "      <th>1</th>\n",
       "      <td>AEPvSo8bE2I</td>\n",
       "      <td>FAKE</td>\n",
       "      <td>Michel &amp; Sven - Der Tischdeckentrick - Teil 4 ...</td>\n",
       "      <td>http://www.facebook.com/michelundsven\\nhttp://...</td>\n",
       "      <td>92529</td>\n",
       "      <td>0</td>\n",
       "      <td>25398348</td>\n",
       "    </tr>\n",
       "    <tr>\n",
       "      <th>2</th>\n",
       "      <td>CXOU10WBogs</td>\n",
       "      <td>FAKE</td>\n",
       "      <td>Backflip and almost hit by car!</td>\n",
       "      <td>Jukin Media Verified (Original)\\n* For licensi...</td>\n",
       "      <td>384</td>\n",
       "      <td>26</td>\n",
       "      <td>169870</td>\n",
       "    </tr>\n",
       "    <tr>\n",
       "      <th>3</th>\n",
       "      <td>ZoHAf7VtIhA</td>\n",
       "      <td>FAKE</td>\n",
       "      <td>Shark Attack - Cam Girl Bitten off Florida Coast</td>\n",
       "      <td>Camsoda model Molly Cavalli was bitten while b...</td>\n",
       "      <td>8608</td>\n",
       "      <td>1930</td>\n",
       "      <td>17784032</td>\n",
       "    </tr>\n",
       "    <tr>\n",
       "      <th>4</th>\n",
       "      <td>RXF5yZZe8nQ</td>\n",
       "      <td>FAKE</td>\n",
       "      <td>American Airline plane catches fire on runway</td>\n",
       "      <td>Passengers run for survival as a plane catches...</td>\n",
       "      <td>36</td>\n",
       "      <td>24</td>\n",
       "      <td>4682</td>\n",
       "    </tr>\n",
       "    <tr>\n",
       "      <th>...</th>\n",
       "      <td>...</td>\n",
       "      <td>...</td>\n",
       "      <td>...</td>\n",
       "      <td>...</td>\n",
       "      <td>...</td>\n",
       "      <td>...</td>\n",
       "      <td>...</td>\n",
       "    </tr>\n",
       "    <tr>\n",
       "      <th>242</th>\n",
       "      <td>XvMoYEUVcB4</td>\n",
       "      <td>REAL</td>\n",
       "      <td>Dolphin Seen at Mahalaxmi Mumbai</td>\n",
       "      <td>Today people seen Dolphins In Mahalaxmi Mumbai...</td>\n",
       "      <td>11</td>\n",
       "      <td>0</td>\n",
       "      <td>971</td>\n",
       "    </tr>\n",
       "    <tr>\n",
       "      <th>243</th>\n",
       "      <td>lYFpga7kJxE</td>\n",
       "      <td>REAL</td>\n",
       "      <td>Angry mob throwing stones on mumbai local trai...</td>\n",
       "      <td>Angry mob throwing stones on mumbai local trai...</td>\n",
       "      <td>3275</td>\n",
       "      <td>418</td>\n",
       "      <td>2439095</td>\n",
       "    </tr>\n",
       "    <tr>\n",
       "      <th>244</th>\n",
       "      <td>WNjFFTQsIAg</td>\n",
       "      <td>REAL</td>\n",
       "      <td>Woman carted off by Muslim horde into subway s...</td>\n",
       "      <td>No idea where this was filmed, some are saying...</td>\n",
       "      <td>43</td>\n",
       "      <td>22</td>\n",
       "      <td>4943</td>\n",
       "    </tr>\n",
       "    <tr>\n",
       "      <th>245</th>\n",
       "      <td>x76VEPXYaI0</td>\n",
       "      <td>REAL</td>\n",
       "      <td>GoPro: Backflip Over 72ft Canyon - Kelly McGar...</td>\n",
       "      <td>Shot 100% on the HD HERO3+® camera from ‪http:...</td>\n",
       "      <td>2561286</td>\n",
       "      <td>58142</td>\n",
       "      <td>224438799</td>\n",
       "    </tr>\n",
       "    <tr>\n",
       "      <th>246</th>\n",
       "      <td>VESBrSWm3Yg</td>\n",
       "      <td>REAL</td>\n",
       "      <td>People running from scene of terrorist attack ...</td>\n",
       "      <td>Still ongoing. At least 5 dead.</td>\n",
       "      <td>10</td>\n",
       "      <td>5</td>\n",
       "      <td>26658</td>\n",
       "    </tr>\n",
       "  </tbody>\n",
       "</table>\n",
       "<p>247 rows × 7 columns</p>\n",
       "</div>"
      ],
      "text/plain": [
       "        video_id LABEL                                              title  \\\n",
       "0    Y7MJlmbnLQA  FAKE                          بنت سقطت في حمم بركانيه 🙀   \n",
       "1    AEPvSo8bE2I  FAKE  Michel & Sven - Der Tischdeckentrick - Teil 4 ...   \n",
       "2    CXOU10WBogs  FAKE                    Backflip and almost hit by car!   \n",
       "3    ZoHAf7VtIhA  FAKE   Shark Attack - Cam Girl Bitten off Florida Coast   \n",
       "4    RXF5yZZe8nQ  FAKE      American Airline plane catches fire on runway   \n",
       "..           ...   ...                                                ...   \n",
       "242  XvMoYEUVcB4  REAL                   Dolphin Seen at Mahalaxmi Mumbai   \n",
       "243  lYFpga7kJxE  REAL  Angry mob throwing stones on mumbai local trai...   \n",
       "244  WNjFFTQsIAg  REAL  Woman carted off by Muslim horde into subway s...   \n",
       "245  x76VEPXYaI0  REAL  GoPro: Backflip Over 72ft Canyon - Kelly McGar...   \n",
       "246  VESBrSWm3Yg  REAL  People running from scene of terrorist attack ...   \n",
       "\n",
       "                                           description    likes  comments  \\\n",
       "0                             اللهم اجرنا من عذاب جهنم       66        42   \n",
       "1    http://www.facebook.com/michelundsven\\nhttp://...    92529         0   \n",
       "2    Jukin Media Verified (Original)\\n* For licensi...      384        26   \n",
       "3    Camsoda model Molly Cavalli was bitten while b...     8608      1930   \n",
       "4    Passengers run for survival as a plane catches...       36        24   \n",
       "..                                                 ...      ...       ...   \n",
       "242  Today people seen Dolphins In Mahalaxmi Mumbai...       11         0   \n",
       "243  Angry mob throwing stones on mumbai local trai...     3275       418   \n",
       "244  No idea where this was filmed, some are saying...       43        22   \n",
       "245  Shot 100% on the HD HERO3+® camera from ‪http:...  2561286     58142   \n",
       "246                    Still ongoing. At least 5 dead.       10         5   \n",
       "\n",
       "         views  \n",
       "0        18201  \n",
       "1     25398348  \n",
       "2       169870  \n",
       "3     17784032  \n",
       "4         4682  \n",
       "..         ...  \n",
       "242        971  \n",
       "243    2439095  \n",
       "244       4943  \n",
       "245  224438799  \n",
       "246      26658  \n",
       "\n",
       "[247 rows x 7 columns]"
      ]
     },
     "execution_count": 34,
     "metadata": {},
     "output_type": "execute_result"
    }
   ],
   "source": [
    "fvc"
   ]
  },
  {
   "cell_type": "code",
   "execution_count": 44,
   "metadata": {},
   "outputs": [],
   "source": [
    "\n",
    "def dataframe_translate(df,columns):\n",
    "    df1=df\n",
    "    with tqdm.tqdm(total=len(df)*len(columns), desc=\"Translating\") as progress_bar:\n",
    "        for col in columns:\n",
    "            for i in range(len(df)):\n",
    "                df1.loc[i,col]=translate(df.loc[i,col])\n",
    "                progress_bar.update(1)\n",
    "    return df1\n"
   ]
  },
  {
   "cell_type": "code",
   "execution_count": 45,
   "metadata": {},
   "outputs": [
    {
     "name": "stderr",
     "output_type": "stream",
     "text": [
      "Translating:   0%|          | 0/494 [00:00<?, ?it/s]"
     ]
    },
    {
     "name": "stderr",
     "output_type": "stream",
     "text": [
      "Translating:  51%|█████     | 253/494 [02:03<01:58,  2.04it/s]\n"
     ]
    },
    {
     "ename": "NotValidPayload",
     "evalue": "nan --> text must be a valid text with maximum 5000 character,otherwise it cannot be translated",
     "output_type": "error",
     "traceback": [
      "\u001b[0;31m---------------------------------------------------------------------------\u001b[0m",
      "\u001b[0;31mNotValidPayload\u001b[0m                           Traceback (most recent call last)",
      "Cell \u001b[0;32mIn[45], line 2\u001b[0m\n\u001b[1;32m      1\u001b[0m df \u001b[38;5;241m=\u001b[39m fvc\n\u001b[0;32m----> 2\u001b[0m df\u001b[38;5;241m=\u001b[39m\u001b[43mdataframe_translate\u001b[49m\u001b[43m(\u001b[49m\u001b[43mdf\u001b[49m\u001b[43m,\u001b[49m\u001b[43m[\u001b[49m\u001b[38;5;124;43m'\u001b[39;49m\u001b[38;5;124;43mtitle\u001b[39;49m\u001b[38;5;124;43m'\u001b[39;49m\u001b[43m,\u001b[49m\u001b[38;5;124;43m'\u001b[39;49m\u001b[38;5;124;43mdescription\u001b[39;49m\u001b[38;5;124;43m'\u001b[39;49m\u001b[43m]\u001b[49m\u001b[43m)\u001b[49m\n\u001b[1;32m      3\u001b[0m df\n",
      "Cell \u001b[0;32mIn[44], line 6\u001b[0m, in \u001b[0;36mdataframe_translate\u001b[0;34m(df, columns)\u001b[0m\n\u001b[1;32m      4\u001b[0m     \u001b[38;5;28;01mfor\u001b[39;00m col \u001b[38;5;129;01min\u001b[39;00m columns:\n\u001b[1;32m      5\u001b[0m         \u001b[38;5;28;01mfor\u001b[39;00m i \u001b[38;5;129;01min\u001b[39;00m \u001b[38;5;28mrange\u001b[39m(\u001b[38;5;28mlen\u001b[39m(df)):\n\u001b[0;32m----> 6\u001b[0m             df1\u001b[38;5;241m.\u001b[39mloc[i,col]\u001b[38;5;241m=\u001b[39m\u001b[43mtranslate\u001b[49m\u001b[43m(\u001b[49m\u001b[43mdf\u001b[49m\u001b[38;5;241;43m.\u001b[39;49m\u001b[43mloc\u001b[49m\u001b[43m[\u001b[49m\u001b[43mi\u001b[49m\u001b[43m,\u001b[49m\u001b[43mcol\u001b[49m\u001b[43m]\u001b[49m\u001b[43m)\u001b[49m\n\u001b[1;32m      7\u001b[0m             progress_bar\u001b[38;5;241m.\u001b[39mupdate(\u001b[38;5;241m1\u001b[39m)\n\u001b[1;32m      8\u001b[0m \u001b[38;5;28;01mreturn\u001b[39;00m df1\n",
      "Cell \u001b[0;32mIn[30], line 5\u001b[0m, in \u001b[0;36mtranslate\u001b[0;34m(text)\u001b[0m\n\u001b[1;32m      3\u001b[0m \u001b[38;5;28;01mdef\u001b[39;00m \u001b[38;5;21mtranslate\u001b[39m(text):\n\u001b[1;32m      4\u001b[0m     translator \u001b[38;5;241m=\u001b[39m GoogleTranslator(source\u001b[38;5;241m=\u001b[39m\u001b[38;5;124m'\u001b[39m\u001b[38;5;124mauto\u001b[39m\u001b[38;5;124m'\u001b[39m,target\u001b[38;5;241m=\u001b[39m\u001b[38;5;124m'\u001b[39m\u001b[38;5;124men\u001b[39m\u001b[38;5;124m'\u001b[39m)\n\u001b[0;32m----> 5\u001b[0m     \u001b[38;5;28;01mreturn\u001b[39;00m \u001b[43mtranslator\u001b[49m\u001b[38;5;241;43m.\u001b[39;49m\u001b[43mtranslate\u001b[49m\u001b[43m(\u001b[49m\u001b[43mtext\u001b[49m\u001b[43m)\u001b[49m\n",
      "File \u001b[0;32m~/.pyenv/versions/3.12.2/lib/python3.12/site-packages/deep_translator/google.py:57\u001b[0m, in \u001b[0;36mGoogleTranslator.translate\u001b[0;34m(self, text, **kwargs)\u001b[0m\n\u001b[1;32m     51\u001b[0m \u001b[38;5;28;01mdef\u001b[39;00m \u001b[38;5;21mtranslate\u001b[39m(\u001b[38;5;28mself\u001b[39m, text: \u001b[38;5;28mstr\u001b[39m, \u001b[38;5;241m*\u001b[39m\u001b[38;5;241m*\u001b[39mkwargs) \u001b[38;5;241m-\u001b[39m\u001b[38;5;241m>\u001b[39m \u001b[38;5;28mstr\u001b[39m:\n\u001b[1;32m     52\u001b[0m \u001b[38;5;250m    \u001b[39m\u001b[38;5;124;03m\"\"\"\u001b[39;00m\n\u001b[1;32m     53\u001b[0m \u001b[38;5;124;03m    function to translate a text\u001b[39;00m\n\u001b[1;32m     54\u001b[0m \u001b[38;5;124;03m    @param text: desired text to translate\u001b[39;00m\n\u001b[1;32m     55\u001b[0m \u001b[38;5;124;03m    @return: str: translated text\u001b[39;00m\n\u001b[1;32m     56\u001b[0m \u001b[38;5;124;03m    \"\"\"\u001b[39;00m\n\u001b[0;32m---> 57\u001b[0m     \u001b[38;5;28;01mif\u001b[39;00m \u001b[43mis_input_valid\u001b[49m\u001b[43m(\u001b[49m\u001b[43mtext\u001b[49m\u001b[43m,\u001b[49m\u001b[43m \u001b[49m\u001b[43mmax_chars\u001b[49m\u001b[38;5;241;43m=\u001b[39;49m\u001b[38;5;241;43m5000\u001b[39;49m\u001b[43m)\u001b[49m:\n\u001b[1;32m     58\u001b[0m         text \u001b[38;5;241m=\u001b[39m text\u001b[38;5;241m.\u001b[39mstrip()\n\u001b[1;32m     59\u001b[0m         \u001b[38;5;28;01mif\u001b[39;00m \u001b[38;5;28mself\u001b[39m\u001b[38;5;241m.\u001b[39m_same_source_target() \u001b[38;5;129;01mor\u001b[39;00m is_empty(text):\n",
      "File \u001b[0;32m~/.pyenv/versions/3.12.2/lib/python3.12/site-packages/deep_translator/validate.py:39\u001b[0m, in \u001b[0;36mis_input_valid\u001b[0;34m(text, min_chars, max_chars)\u001b[0m\n\u001b[1;32m     30\u001b[0m \u001b[38;5;250m\u001b[39m\u001b[38;5;124;03m\"\"\"\u001b[39;00m\n\u001b[1;32m     31\u001b[0m \u001b[38;5;124;03mvalidate the target text to translate\u001b[39;00m\n\u001b[1;32m     32\u001b[0m \u001b[38;5;124;03m@param min_chars: min characters\u001b[39;00m\n\u001b[0;32m   (...)\u001b[0m\n\u001b[1;32m     35\u001b[0m \u001b[38;5;124;03m@return: bool\u001b[39;00m\n\u001b[1;32m     36\u001b[0m \u001b[38;5;124;03m\"\"\"\u001b[39;00m\n\u001b[1;32m     38\u001b[0m \u001b[38;5;28;01mif\u001b[39;00m \u001b[38;5;129;01mnot\u001b[39;00m \u001b[38;5;28misinstance\u001b[39m(text, \u001b[38;5;28mstr\u001b[39m):\n\u001b[0;32m---> 39\u001b[0m     \u001b[38;5;28;01mraise\u001b[39;00m NotValidPayload(text)\n\u001b[1;32m     40\u001b[0m \u001b[38;5;28;01mif\u001b[39;00m max_chars \u001b[38;5;129;01mand\u001b[39;00m (\u001b[38;5;129;01mnot\u001b[39;00m min_chars \u001b[38;5;241m<\u001b[39m\u001b[38;5;241m=\u001b[39m \u001b[38;5;28mlen\u001b[39m(text) \u001b[38;5;241m<\u001b[39m max_chars):\n\u001b[1;32m     41\u001b[0m     \u001b[38;5;28;01mraise\u001b[39;00m NotValidLength(text, min_chars, max_chars)\n",
      "\u001b[0;31mNotValidPayload\u001b[0m: nan --> text must be a valid text with maximum 5000 character,otherwise it cannot be translated"
     ]
    }
   ],
   "source": [
    "df = fvc\n",
    "df=dataframe_translate(df,['title','description'])\n",
    "df"
   ]
  },
  {
   "cell_type": "code",
   "execution_count": null,
   "metadata": {},
   "outputs": [],
   "source": []
  }
 ],
 "metadata": {
  "kernelspec": {
   "display_name": "Python 3",
   "language": "python",
   "name": "python3"
  },
  "language_info": {
   "codemirror_mode": {
    "name": "ipython",
    "version": 3
   },
   "file_extension": ".py",
   "mimetype": "text/x-python",
   "name": "python",
   "nbconvert_exporter": "python",
   "pygments_lexer": "ipython3",
   "version": "3.12.2"
  }
 },
 "nbformat": 4,
 "nbformat_minor": 2
}
