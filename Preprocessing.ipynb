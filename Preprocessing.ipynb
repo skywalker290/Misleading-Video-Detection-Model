{
 "cells": [
  {
   "cell_type": "markdown",
   "metadata": {},
   "source": [
    "# Preprocessing Data"
   ]
  },
  {
   "cell_type": "markdown",
   "metadata": {},
   "source": [
    "1. Convert Different Language Comments into English"
   ]
  },
  {
   "cell_type": "code",
   "execution_count": 2,
   "metadata": {},
   "outputs": [
    {
     "name": "stdout",
     "output_type": "stream",
     "text": [
      "Collecting langid\n",
      "  Downloading langid-1.1.6.tar.gz (1.9 MB)\n",
      "\u001b[2K     \u001b[90m━━━━━━━━━━━━━━━━━━━━━━━━━━━━━━━━━━━━━━━━\u001b[0m \u001b[32m1.9/1.9 MB\u001b[0m \u001b[31m1.0 MB/s\u001b[0m eta \u001b[36m0:00:00\u001b[0ma \u001b[36m0:00:01\u001b[0m0m\n",
      "\u001b[?25h  Installing build dependencies ... \u001b[?25ldone\n",
      "\u001b[?25h  Getting requirements to build wheel ... \u001b[?25ldone\n",
      "\u001b[?25h  Installing backend dependencies ... \u001b[?25ldone\n",
      "\u001b[?25h  Preparing metadata (pyproject.toml) ... \u001b[?25ldone\n",
      "\u001b[?25hRequirement already satisfied: numpy in /home/skywalker/.pyenv/versions/3.12.2/lib/python3.12/site-packages (from langid) (1.26.4)\n",
      "Building wheels for collected packages: langid\n",
      "  Building wheel for langid (pyproject.toml) ... \u001b[?25ldone\n",
      "\u001b[?25h  Created wheel for langid: filename=langid-1.1.6-py3-none-any.whl size=1941172 sha256=20079b31a08c28e849ff1d4ade94a7457990d72747bd2583cfe90895f311826e\n",
      "  Stored in directory: /home/skywalker/.cache/pip/wheels/3c/bc/9d/266e27289b9019680d65d9b608c37bff1eff565b001c977ec5\n",
      "Successfully built langid\n",
      "Installing collected packages: langid\n",
      "Successfully installed langid-1.1.6\n",
      "Note: you may need to restart the kernel to use updated packages.\n"
     ]
    }
   ],
   "source": [
    "%pip install langid"
   ]
  },
  {
   "cell_type": "code",
   "execution_count": 3,
   "metadata": {},
   "outputs": [],
   "source": [
    "import pandas as pd\n",
    "import numpy as np\n",
    "import tqdm"
   ]
  },
  {
   "cell_type": "code",
   "execution_count": 4,
   "metadata": {},
   "outputs": [],
   "source": [
    "from deep_translator import GoogleTranslator\n",
    "import langid\n",
    "\n",
    "def translate(text):\n",
    "  if ((not pd.isna(text)) and langid.classify(text) != 'en'):\n",
    "    translator = GoogleTranslator(source='auto', target='en')\n",
    "    return translator.translate(text)\n",
    "  else:\n",
    "    return text\n"
   ]
  },
  {
   "cell_type": "code",
   "execution_count": 6,
   "metadata": {},
   "outputs": [],
   "source": [
    "fvc = pd.read_csv(\"Datasets/Updated_FVC.csv\")\n",
    "mvd = pd.read_csv(\"Datasets/Updated_MVD.csv\")\n",
    "bolly = pd.read_csv(\"Datasets/Updated_BollyBAIT.csv\")\n",
    "combined = pd.read_csv(\"Datasets/Updated_Combined.csv\")"
   ]
  },
  {
   "cell_type": "code",
   "execution_count": 7,
   "metadata": {},
   "outputs": [
    {
     "data": {
      "text/html": [
       "<div>\n",
       "<style scoped>\n",
       "    .dataframe tbody tr th:only-of-type {\n",
       "        vertical-align: middle;\n",
       "    }\n",
       "\n",
       "    .dataframe tbody tr th {\n",
       "        vertical-align: top;\n",
       "    }\n",
       "\n",
       "    .dataframe thead th {\n",
       "        text-align: right;\n",
       "    }\n",
       "</style>\n",
       "<table border=\"1\" class=\"dataframe\">\n",
       "  <thead>\n",
       "    <tr style=\"text-align: right;\">\n",
       "      <th></th>\n",
       "      <th>video_id</th>\n",
       "      <th>LABEL</th>\n",
       "      <th>title</th>\n",
       "      <th>description</th>\n",
       "      <th>likes</th>\n",
       "      <th>comments</th>\n",
       "      <th>views</th>\n",
       "    </tr>\n",
       "  </thead>\n",
       "  <tbody>\n",
       "    <tr>\n",
       "      <th>0</th>\n",
       "      <td>Y7MJlmbnLQA</td>\n",
       "      <td>FAKE</td>\n",
       "      <td>بنت سقطت في حمم بركانيه 🙀</td>\n",
       "      <td>اللهم اجرنا من عذاب جهنم</td>\n",
       "      <td>66</td>\n",
       "      <td>42</td>\n",
       "      <td>18201</td>\n",
       "    </tr>\n",
       "    <tr>\n",
       "      <th>1</th>\n",
       "      <td>AEPvSo8bE2I</td>\n",
       "      <td>FAKE</td>\n",
       "      <td>Michel &amp; Sven - Der Tischdeckentrick - Teil 4 ...</td>\n",
       "      <td>http://www.facebook.com/michelundsven\\nhttp://...</td>\n",
       "      <td>92529</td>\n",
       "      <td>0</td>\n",
       "      <td>25398348</td>\n",
       "    </tr>\n",
       "    <tr>\n",
       "      <th>2</th>\n",
       "      <td>CXOU10WBogs</td>\n",
       "      <td>FAKE</td>\n",
       "      <td>Backflip and almost hit by car!</td>\n",
       "      <td>Jukin Media Verified (Original)\\n* For licensi...</td>\n",
       "      <td>384</td>\n",
       "      <td>26</td>\n",
       "      <td>169870</td>\n",
       "    </tr>\n",
       "    <tr>\n",
       "      <th>3</th>\n",
       "      <td>ZoHAf7VtIhA</td>\n",
       "      <td>FAKE</td>\n",
       "      <td>Shark Attack - Cam Girl Bitten off Florida Coast</td>\n",
       "      <td>Camsoda model Molly Cavalli was bitten while b...</td>\n",
       "      <td>8608</td>\n",
       "      <td>1930</td>\n",
       "      <td>17784032</td>\n",
       "    </tr>\n",
       "    <tr>\n",
       "      <th>4</th>\n",
       "      <td>RXF5yZZe8nQ</td>\n",
       "      <td>FAKE</td>\n",
       "      <td>American Airline plane catches fire on runway</td>\n",
       "      <td>Passengers run for survival as a plane catches...</td>\n",
       "      <td>36</td>\n",
       "      <td>24</td>\n",
       "      <td>4682</td>\n",
       "    </tr>\n",
       "    <tr>\n",
       "      <th>...</th>\n",
       "      <td>...</td>\n",
       "      <td>...</td>\n",
       "      <td>...</td>\n",
       "      <td>...</td>\n",
       "      <td>...</td>\n",
       "      <td>...</td>\n",
       "      <td>...</td>\n",
       "    </tr>\n",
       "    <tr>\n",
       "      <th>242</th>\n",
       "      <td>XvMoYEUVcB4</td>\n",
       "      <td>REAL</td>\n",
       "      <td>Dolphin Seen at Mahalaxmi Mumbai</td>\n",
       "      <td>Today people seen Dolphins In Mahalaxmi Mumbai...</td>\n",
       "      <td>11</td>\n",
       "      <td>0</td>\n",
       "      <td>971</td>\n",
       "    </tr>\n",
       "    <tr>\n",
       "      <th>243</th>\n",
       "      <td>lYFpga7kJxE</td>\n",
       "      <td>REAL</td>\n",
       "      <td>Angry mob throwing stones on mumbai local trai...</td>\n",
       "      <td>Angry mob throwing stones on mumbai local trai...</td>\n",
       "      <td>3275</td>\n",
       "      <td>418</td>\n",
       "      <td>2439095</td>\n",
       "    </tr>\n",
       "    <tr>\n",
       "      <th>244</th>\n",
       "      <td>WNjFFTQsIAg</td>\n",
       "      <td>REAL</td>\n",
       "      <td>Woman carted off by Muslim horde into subway s...</td>\n",
       "      <td>No idea where this was filmed, some are saying...</td>\n",
       "      <td>43</td>\n",
       "      <td>22</td>\n",
       "      <td>4943</td>\n",
       "    </tr>\n",
       "    <tr>\n",
       "      <th>245</th>\n",
       "      <td>x76VEPXYaI0</td>\n",
       "      <td>REAL</td>\n",
       "      <td>GoPro: Backflip Over 72ft Canyon - Kelly McGar...</td>\n",
       "      <td>Shot 100% on the HD HERO3+® camera from ‪http:...</td>\n",
       "      <td>2561286</td>\n",
       "      <td>58142</td>\n",
       "      <td>224438799</td>\n",
       "    </tr>\n",
       "    <tr>\n",
       "      <th>246</th>\n",
       "      <td>VESBrSWm3Yg</td>\n",
       "      <td>REAL</td>\n",
       "      <td>People running from scene of terrorist attack ...</td>\n",
       "      <td>Still ongoing. At least 5 dead.</td>\n",
       "      <td>10</td>\n",
       "      <td>5</td>\n",
       "      <td>26658</td>\n",
       "    </tr>\n",
       "  </tbody>\n",
       "</table>\n",
       "<p>247 rows × 7 columns</p>\n",
       "</div>"
      ],
      "text/plain": [
       "        video_id LABEL                                              title  \\\n",
       "0    Y7MJlmbnLQA  FAKE                          بنت سقطت في حمم بركانيه 🙀   \n",
       "1    AEPvSo8bE2I  FAKE  Michel & Sven - Der Tischdeckentrick - Teil 4 ...   \n",
       "2    CXOU10WBogs  FAKE                    Backflip and almost hit by car!   \n",
       "3    ZoHAf7VtIhA  FAKE   Shark Attack - Cam Girl Bitten off Florida Coast   \n",
       "4    RXF5yZZe8nQ  FAKE      American Airline plane catches fire on runway   \n",
       "..           ...   ...                                                ...   \n",
       "242  XvMoYEUVcB4  REAL                   Dolphin Seen at Mahalaxmi Mumbai   \n",
       "243  lYFpga7kJxE  REAL  Angry mob throwing stones on mumbai local trai...   \n",
       "244  WNjFFTQsIAg  REAL  Woman carted off by Muslim horde into subway s...   \n",
       "245  x76VEPXYaI0  REAL  GoPro: Backflip Over 72ft Canyon - Kelly McGar...   \n",
       "246  VESBrSWm3Yg  REAL  People running from scene of terrorist attack ...   \n",
       "\n",
       "                                           description    likes  comments  \\\n",
       "0                             اللهم اجرنا من عذاب جهنم       66        42   \n",
       "1    http://www.facebook.com/michelundsven\\nhttp://...    92529         0   \n",
       "2    Jukin Media Verified (Original)\\n* For licensi...      384        26   \n",
       "3    Camsoda model Molly Cavalli was bitten while b...     8608      1930   \n",
       "4    Passengers run for survival as a plane catches...       36        24   \n",
       "..                                                 ...      ...       ...   \n",
       "242  Today people seen Dolphins In Mahalaxmi Mumbai...       11         0   \n",
       "243  Angry mob throwing stones on mumbai local trai...     3275       418   \n",
       "244  No idea where this was filmed, some are saying...       43        22   \n",
       "245  Shot 100% on the HD HERO3+® camera from ‪http:...  2561286     58142   \n",
       "246                    Still ongoing. At least 5 dead.       10         5   \n",
       "\n",
       "         views  \n",
       "0        18201  \n",
       "1     25398348  \n",
       "2       169870  \n",
       "3     17784032  \n",
       "4         4682  \n",
       "..         ...  \n",
       "242        971  \n",
       "243    2439095  \n",
       "244       4943  \n",
       "245  224438799  \n",
       "246      26658  \n",
       "\n",
       "[247 rows x 7 columns]"
      ]
     },
     "execution_count": 7,
     "metadata": {},
     "output_type": "execute_result"
    }
   ],
   "source": [
    "fvc"
   ]
  },
  {
   "cell_type": "code",
   "execution_count": 10,
   "metadata": {},
   "outputs": [
    {
     "data": {
      "text/plain": [
       "'إعصار,\\nإعصار البحر,\\nارما,\\nإرما,\\nاعصار ارما,\\nإعصار إرما,\\nسرعة الرياح فى الاعصار,\\nسرعة رياح اعصار ارما,\\nإعصار النار,\\nإعصار اليابان,\\nإعصار اليابان 2017,\\nإعصار بغداد,\\nإعصار تسونامي,\\nإعصار فيه نار,\\nإعصار قوي,\\nإعصار نان مادول,\\nاخر اعصار ضرب امريكا,\\nاعصار,\\nاعصار 2016,\\nاعصار 2016 امريكا,\\nاعصار 2017,\\nاعصار ارما,\\nاعصار اسطنبول,\\nاعصار اسماك القرش 2,\\nاعصار البحر,\\nاعصار الفلبين,\\nاعصار الفلبين 2016,\\nاعصار القرش,\\nاعصار النار,\\nاعصار اليابان,\\nاعصار اليابان 2017,\\nاعصار امريكا,\\nاعصار اولاد سي حمد,\\nاعصار ايرما,\\nاعصار باتريسيا,\\nاعصار بالي,\\nاعصار بحر,\\nاعصار بحر العرب,\\nاعصار بحري,\\nاعصار بداخلي,\\nاعصار بداخلي 3,\\nاعصار بغداد,\\nاعصار بنجلاديش,\\nاعصار تاتسوماكي,\\nاعصار تالاس,\\nاعصار تايوان,\\nاعصار تايوان 2016,\\nاعصار ترابي,\\nاعصار تركيا,\\nاعصار تركيا اليوم,\\nاعصار تركيا امس,\\nاعصار تسونامي,\\nاعصار تسونامي خالد الراشد,\\nاعصار تسونامي في اليابان,\\nاعصار تشابالا,\\nاعصار تشابالا في اليمن,\\nاعصار ثلجي,\\nاعصار جازان,\\nاعصار جده,\\nاعصار جميل,\\nاعصار جوبلين,\\nاعصار جونو,\\nاعصار جونو 2007,\\nاعصار جونو حيل الغاف,\\nاعصار جونو عمان,\\nاعصار جونو في سلطنة عمان 2010,\\nاعصار جونو في مسقط,\\nاعصار جونو قريات,\\nاعصار جونو مسقط,\\nاعصار حضرموت,\\nاعصار حفر الباطن,\\nاعصار حقيقي,\\nاعصار حلزوني,\\nاعصار خطير,\\nاعصار خليج البنغال,\\nاعصار داخل الطائرة,\\nاعصار دالاس,\\nاعصار دبي,\\nاعصار دبي 2017,\\nاعصار دريم بارك,\\nاعصار دمياط,\\nاعصار دورا,\\nاعصار دورا في امريكا,\\nاعصار ديبي استراليا,\\nاعصار رابغ,\\nاعصار راس غارب,\\nاعصار رملي,\\nاعصار روانو,\\nاعصار روسيا,\\nاعصار روسيا اليوم,\\nاعصار روك,\\nاعصار روما,\\nاعصار ريال مدريد,\\nاعصار ريال مدريد يضرب برشلونة المحظوظ,\\nاعصار ساندى 2012 فى امريكا,\\nاعصار ساندي,\\nاعصار ساندي بامريكا 2012,\\nاعصار ساندي في امريكا,\\nاعصار ساندي في نيويورك,\\nاعصار سقطرى,\\nاعصار سكور,\\nاعصار سلطنة عمان,\\nاعصار سمك القرش,\\nاعصار شابالا,\\nاعصار شابالا في اليمن,\\nاعصار شديد,\\nاعصار شرباص,\\nاعصار شرم الشيخ,\\nاعصار شلف,\\nاعصار شمسي,\\nاعصار صغير,\\nاعصار صلاله,\\nاعصار صلاله 2002,\\nاعصار ضخم,\\nاعصار طرطوس,\\nاعصار ظفار,\\nاعصار ظفار 2002,\\nاعصار عمان,\\nاعصار عمان 2006,\\nاعصار عمان 2007,\\nاعصار عمان 2015,\\nاعصار عمان 2016,\\nاعصار عمان 2017,\\nاعصار عنيف,\\nاعصار عين ولمان,\\nاعصار غارب,\\nاعصار غربي,\\nاعصار غريب,\\nاعصار غونو,\\nاعصار فلوريدا 2016,\\nاعصار في اسطنبول,\\nاعصار في البحر,\\nاعصار في اليابان,\\nاعصار في اليمن,\\nاعصار في امريكا,\\nاعصار في جده,\\nاعصار في داخلي,\\nاعصار في داخلي 3,\\nاعصار في عمان,\\nاعصار في ماين كرافت,\\nاعصار في ولاية الجلفة,\\nاعصار فيه نار,\\nاعصار قادم,\\nاعصار قادم يضرب دول الخليج,\\nاعصار قطر,\\nاعصار قلبي,\\nاعصار قمعي,\\nاعصار قوي,\\nاعصار قوي جدا,\\nاعصار قوي جدا ينثر السيارات في الفضاء مثل الاوراق,\\nاعصار قوي يضرب تايوان,\\nاعصار كاترين,\\nاعصار كاترينا,\\nاعصار كاترينا في الولايات المتحدة الامريكية,\\nاعصار كاليفورنيا,\\nاعصار كبير,\\nاعصار كرتون,\\nاعصار كندا,\\nاعصار كندا 2017,\\nاعصار كوريا,\\nاعصار كوكب المشتري,\\nاعصار لاوين,\\nاعصار لاوين الفلبين,\\nاعصار لاين,\\nاعصار لعبه,\\nاعصار لوس انجلوس,\\nاعصار لويزيانا,\\nاعصار م,\\nاعصار مائي,\\nاعصار ماثيو,\\nاعصار ماثيو 2016,\\nاعصار ماثيو في فلوريدا,\\nاعصار ماثيو ولاية فلوريدا,\\nاعصار ماين كرافت,\\nاعصار مباشر,\\nاعصار مخيف,\\nاعصار مدمر,\\nاعصار مرسى مطر ح,\\nاعصار مرعب,\\nاعصار مكة,\\nاعصار من نار,\\nاعصار ميامي,\\nاعصار ميتش,\\nاعصار ناري,\\nاعصار ناري في امريكا,\\nاعصار نان مادول,\\nاعصار نان مادول اليابان,\\nاعصار نانسي,\\nاعصار نرجس,\\nاعصار نورو,\\nاعصار نيسات,\\nاعصار نيلوفر عمان,\\nاعصار نيويورك,\\nاعصار هائل,\\nاعصار هارفي,\\nاعصار هاري,\\nاعصار هايان,\\nاعصار هايان في الفلبين,\\nاعصار هايتان,\\nاعصار هايتي,\\nاعصار هوائي,\\nاعصار هوريكان,\\nاعصار هونج كونج,\\nاعصار وبرق,\\nاعصار وثائقي,\\nاعصار ولاية فلوريدا,\\nاعصار ومدينه,\\nاعصار ويلما,\\nاعصار يابان,\\nاعصار يضرب العراق,\\nاعصار يضرب اليمن,\\nاعصار يضرب امريكا,\\nاعصار يضرب بنغلاديش,\\nاعصار يضرب تركيا,\\nاعصار يضرب روسيا,\\nاعصار يضرب مرسي مطروح,\\nاعصار يطير الناس,\\nاعصار يوتيوب,\\nاقوى اعصار 2016,\\nالاعصار,\\nالاعصار الذي بداخلي,\\nالاعصار الذي بداخلي 1,\\nالاعصار الذي بداخلي 2,\\nالاعصار الذي بداخلي 3,\\nالاعصار الذي بداخلي 5,\\nالاعصار الذي بداخلي 6,\\nالاعصار الذي بداخلي 7,\\nالاعصار الذي بداخلي الحلقة 1,\\nالاعصار الذي بداخلي ١,\\nالبشير شو اعصار معتصمادا,\\nتصوير اعصار عن قرب,\\nجومارو ضد اعصار,\\nحقيقة اعصار,\\nحقيقة اعصار ماثيو,\\nحكايا مرايا اعصار ميتش,\\nحوادث اعصار,\\nخشه اعصار,\\nزامل اعصار البقع,\\nسانشيرو ضد اعصار,\\nشيلة اعصار,\\nصك اعسار,\\nصلاح الدين اعصار,\\nصنع اعصار,\\nصوت اعصار,\\nصوت اعصار ماثيو,\\nضحايا اعصار ماثيو,\\nلحظة اعصار,\\nلحظة وصول اعصار,\\nلحظة وصول اعصار ماثيو,\\nلقطات من اعصار ماثيو,'"
      ]
     },
     "execution_count": 10,
     "metadata": {},
     "output_type": "execute_result"
    }
   ],
   "source": [
    "fvc.loc[13,'description']"
   ]
  },
  {
   "cell_type": "code",
   "execution_count": 13,
   "metadata": {},
   "outputs": [],
   "source": [
    "not_translated=[]"
   ]
  },
  {
   "cell_type": "code",
   "execution_count": 18,
   "metadata": {},
   "outputs": [],
   "source": [
    "\n",
    "def dataframe_translate(df,columns):\n",
    "    df1=df\n",
    "    with tqdm.tqdm(total=len(df)*len(columns), desc=\"Translating\") as progress_bar:\n",
    "        for col in columns:\n",
    "            for i in range(len(df)):\n",
    "                try:\n",
    "                    df1.loc[i,col]=translate(df.loc[i,col])\n",
    "                    if(df1.loc[i,col]==df.loc[i,col]):\n",
    "                        not_translated.append(i)\n",
    "                except Exception as e:\n",
    "                    print(f\"Error translating row {i + 1}: {e}\")\n",
    "                    not_translated.append(i)\n",
    "                    \n",
    "                progress_bar.update(1)\n",
    "    return df1\n"
   ]
  },
  {
   "cell_type": "code",
   "execution_count": 19,
   "metadata": {},
   "outputs": [
    {
     "name": "stderr",
     "output_type": "stream",
     "text": [
      "Translating:  22%|██▏       | 107/494 [02:59<12:04,  1.87s/it]"
     ]
    }
   ],
   "source": [
    "df = fvc\n",
    "df=dataframe_translate(df,['title','description'])\n",
    "df"
   ]
  },
  {
   "cell_type": "code",
   "execution_count": 16,
   "metadata": {},
   "outputs": [
    {
     "name": "stdout",
     "output_type": "stream",
     "text": [
      "Collecting mtranslate\n",
      "  Downloading mtranslate-1.8.tar.gz (2.4 kB)\n",
      "  Installing build dependencies ... \u001b[?25ldone\n",
      "\u001b[?25h  Getting requirements to build wheel ... \u001b[?25ldone\n",
      "\u001b[?25h  Installing backend dependencies ... \u001b[?25ldone\n",
      "\u001b[?25h  Preparing metadata (pyproject.toml) ... \u001b[?25ldone\n",
      "\u001b[?25hBuilding wheels for collected packages: mtranslate\n",
      "  Building wheel for mtranslate (pyproject.toml) ... \u001b[?25ldone\n",
      "\u001b[?25h  Created wheel for mtranslate: filename=mtranslate-1.8-py3-none-any.whl size=3672 sha256=d63ae7a23fa9fda4943604ee810b31b3ebc27d94637693f2068a5d9d981eb512\n",
      "  Stored in directory: /home/skywalker/.cache/pip/wheels/04/5b/83/c25d4a866e5f15021667de75eebe8e9aec1b673237a44c4d0a\n",
      "Successfully built mtranslate\n",
      "Installing collected packages: mtranslate\n",
      "Successfully installed mtranslate-1.8\n",
      "Note: you may need to restart the kernel to use updated packages.\n"
     ]
    }
   ],
   "source": [
    "%pip install mtranslate"
   ]
  },
  {
   "cell_type": "code",
   "execution_count": 17,
   "metadata": {},
   "outputs": [
    {
     "name": "stdout",
     "output_type": "stream",
     "text": [
      "Deep Translator: A girl fell into lava 🙀\n",
      "Googletrans: A girl fell into lava 🙀\n",
      "mtranslate: A girl fell into lava 🙀\n"
     ]
    },
    {
     "ename": "AttributeError",
     "evalue": "'str' object has no attribute 'text'",
     "output_type": "error",
     "traceback": [
      "\u001b[0;31m---------------------------------------------------------------------------\u001b[0m",
      "\u001b[0;31mAttributeError\u001b[0m                            Traceback (most recent call last)",
      "Cell \u001b[0;32mIn[17], line 44\u001b[0m\n\u001b[1;32m     41\u001b[0m \u001b[38;5;28mprint\u001b[39m(\u001b[38;5;124mf\u001b[39m\u001b[38;5;124m\"\u001b[39m\u001b[38;5;124mmtranslate: \u001b[39m\u001b[38;5;132;01m{\u001b[39;00mresult_mtranslate\u001b[38;5;132;01m}\u001b[39;00m\u001b[38;5;124m\"\u001b[39m)\n\u001b[1;32m     43\u001b[0m \u001b[38;5;66;03m# translate\u001b[39;00m\n\u001b[0;32m---> 44\u001b[0m result_translate \u001b[38;5;241m=\u001b[39m \u001b[43mtranslate_with_translate\u001b[49m\u001b[43m(\u001b[49m\u001b[43mtext_to_translate\u001b[49m\u001b[43m)\u001b[49m\n\u001b[1;32m     45\u001b[0m \u001b[38;5;28mprint\u001b[39m(\u001b[38;5;124mf\u001b[39m\u001b[38;5;124m\"\u001b[39m\u001b[38;5;124mtranslate: \u001b[39m\u001b[38;5;132;01m{\u001b[39;00mresult_translate\u001b[38;5;132;01m}\u001b[39;00m\u001b[38;5;124m\"\u001b[39m)\n\u001b[1;32m     47\u001b[0m \u001b[38;5;66;03m# langid\u001b[39;00m\n",
      "Cell \u001b[0;32mIn[17], line 21\u001b[0m, in \u001b[0;36mtranslate_with_translate\u001b[0;34m(text)\u001b[0m\n\u001b[1;32m     19\u001b[0m \u001b[38;5;28;01mdef\u001b[39;00m \u001b[38;5;21mtranslate_with_translate\u001b[39m(text):\n\u001b[1;32m     20\u001b[0m     translator \u001b[38;5;241m=\u001b[39m TranslateTranslator(to_lang\u001b[38;5;241m=\u001b[39m\u001b[38;5;124m'\u001b[39m\u001b[38;5;124men\u001b[39m\u001b[38;5;124m'\u001b[39m)\n\u001b[0;32m---> 21\u001b[0m     \u001b[38;5;28;01mreturn\u001b[39;00m \u001b[43mtranslator\u001b[49m\u001b[38;5;241;43m.\u001b[39;49m\u001b[43mtranslate\u001b[49m\u001b[43m(\u001b[49m\u001b[43mtext\u001b[49m\u001b[43m)\u001b[49m\u001b[38;5;241;43m.\u001b[39;49m\u001b[43mtext\u001b[49m\n",
      "\u001b[0;31mAttributeError\u001b[0m: 'str' object has no attribute 'text'"
     ]
    }
   ],
   "source": [
    "from deep_translator import GoogleTranslator\n",
    "from googletrans import Translator as GoogleTransTranslator\n",
    "from mtranslate import translate as MTranslateTranslator\n",
    "from translate import Translator as TranslateTranslator\n",
    "import langid\n",
    "\n",
    "def translate_with_deep_translator(text):\n",
    "    translator = GoogleTranslator(source='auto', target='en')\n",
    "    return translator.translate(text)\n",
    "\n",
    "def translate_with_googletrans(text):\n",
    "    translator = GoogleTransTranslator()\n",
    "    translation = translator.translate(text, src='auto', dest='en')\n",
    "    return translation.text\n",
    "\n",
    "def translate_with_mtranslate(text):\n",
    "    return MTranslateTranslator(text, 'en')\n",
    "\n",
    "def translate_with_translate(text):\n",
    "    translator = TranslateTranslator(to_lang='en')\n",
    "    return translator.translate(text).text  # Access the text attribute\n",
    "\n",
    "def translate_with_langid(text):\n",
    "    _, lang = langid.classify(text)\n",
    "    if lang != 'en':\n",
    "        return translate_with_translate(text)\n",
    "    return text\n",
    "\n",
    "text_to_translate = \"بنت سقطت في حمم بركانيه 🙀\"\n",
    "\n",
    "# Deep Translator\n",
    "result_deep_translator = translate_with_deep_translator(text_to_translate)\n",
    "print(f\"Deep Translator: {result_deep_translator}\")\n",
    "\n",
    "# Googletrans\n",
    "result_googletrans = translate_with_googletrans(text_to_translate)\n",
    "print(f\"Googletrans: {result_googletrans}\")\n",
    "\n",
    "# mtranslate\n",
    "result_mtranslate = translate_with_mtranslate(text_to_translate)\n",
    "print(f\"mtranslate: {result_mtranslate}\")\n",
    "\n",
    "# translate\n",
    "result_translate = translate_with_translate(text_to_translate)\n",
    "print(f\"translate: {result_translate}\")\n",
    "\n",
    "# langid\n",
    "result_langid = translate_with_langid(text_to_translate)\n",
    "print(f\"langid: {result_langid}\")\n"
   ]
  },
  {
   "cell_type": "code",
   "execution_count": null,
   "metadata": {},
   "outputs": [],
   "source": []
  }
 ],
 "metadata": {
  "kernelspec": {
   "display_name": "Python 3",
   "language": "python",
   "name": "python3"
  },
  "language_info": {
   "codemirror_mode": {
    "name": "ipython",
    "version": 3
   },
   "file_extension": ".py",
   "mimetype": "text/x-python",
   "name": "python",
   "nbconvert_exporter": "python",
   "pygments_lexer": "ipython3",
   "version": "3.12.2"
  }
 },
 "nbformat": 4,
 "nbformat_minor": 2
}
