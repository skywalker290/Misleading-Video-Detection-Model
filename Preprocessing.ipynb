{
  "cells": [
    {
      "cell_type": "markdown",
      "metadata": {
        "id": "view-in-github",
        "colab_type": "text"
      },
      "source": [
        "<a href=\"https://colab.research.google.com/github/skywalker290/Misleading-Video-Detection-Model/blob/main/Preprocessing.ipynb\" target=\"_parent\"><img src=\"https://colab.research.google.com/assets/colab-badge.svg\" alt=\"Open In Colab\"/></a>"
      ]
    },
    {
      "cell_type": "markdown",
      "metadata": {
        "id": "DQWLh8Ghp1hY"
      },
      "source": [
        "# Preprocessing Data"
      ]
    },
    {
      "cell_type": "markdown",
      "metadata": {
        "id": "ziKwihwlp1hZ"
      },
      "source": [
        "1. Convert Different Language Comments into English"
      ]
    },
    {
      "cell_type": "code",
      "execution_count": 1,
      "metadata": {
        "id": "juDbWA3bK8j5"
      },
      "outputs": [],
      "source": [
        "# https://drive.google.com/drive/folders/1--vfiPO8heaGgPA9SSmeoezrronPgTUu?usp=sharing"
      ]
    },
    {
      "cell_type": "code",
      "execution_count": 1,
      "metadata": {
        "colab": {
          "base_uri": "https://localhost:8080/"
        },
        "id": "s8Z-xG0Wo7cc",
        "outputId": "1eef66b8-5716-475a-c49a-156e0d37f05b"
      },
      "outputs": [
        {
          "output_type": "stream",
          "name": "stdout",
          "text": [
            "Cloning into 'hack'...\n",
            "remote: Enumerating objects: 1894, done.\u001b[K\n",
            "remote: Counting objects: 100% (1893/1893), done.\u001b[K\n",
            "remote: Compressing objects: 100% (1779/1779), done.\u001b[K\n",
            "remote: Total 1894 (delta 80), reused 1868 (delta 65), pack-reused 1\u001b[K\n",
            "Receiving objects: 100% (1894/1894), 27.71 MiB | 16.49 MiB/s, done.\n",
            "Resolving deltas: 100% (80/80), done.\n",
            "Updating files: 100% (3474/3474), done.\n"
          ]
        }
      ],
      "source": [
        "!git clone https://github.com/skywalker290/hack.git\n",
        "!cp hack/Datasets . -r"
      ]
    },
    {
      "cell_type": "code",
      "execution_count": 2,
      "metadata": {
        "colab": {
          "base_uri": "https://localhost:8080/"
        },
        "id": "wc1iDP9CHiqN",
        "outputId": "ab653d68-6931-4016-b451-e5c896abdfca"
      },
      "outputs": [
        {
          "output_type": "stream",
          "name": "stdout",
          "text": [
            "Mounted at /content/drive\n"
          ]
        }
      ],
      "source": [
        "from google.colab import drive\n",
        "drive.mount('/content/drive')"
      ]
    },
    {
      "cell_type": "code",
      "execution_count": 3,
      "metadata": {
        "colab": {
          "base_uri": "https://localhost:8080/"
        },
        "id": "0vCUqcwUp1hZ",
        "outputId": "902810a6-065c-44b4-f5a4-d030c651fd41"
      },
      "outputs": [
        {
          "output_type": "stream",
          "name": "stdout",
          "text": [
            "Collecting deep_translator\n",
            "  Downloading deep_translator-1.11.4-py3-none-any.whl (42 kB)\n",
            "\u001b[?25l     \u001b[90m━━━━━━━━━━━━━━━━━━━━━━━━━━━━━━━━━━━━━━━━\u001b[0m \u001b[32m0.0/42.3 kB\u001b[0m \u001b[31m?\u001b[0m eta \u001b[36m-:--:--\u001b[0m\r\u001b[2K     \u001b[90m━━━━━━━━━━━━━━━━━━━━━━━━━━━━━━━━━━━━━━━━\u001b[0m \u001b[32m42.3/42.3 kB\u001b[0m \u001b[31m1.8 MB/s\u001b[0m eta \u001b[36m0:00:00\u001b[0m\n",
            "\u001b[?25hCollecting langid\n",
            "  Downloading langid-1.1.6.tar.gz (1.9 MB)\n",
            "\u001b[2K     \u001b[90m━━━━━━━━━━━━━━━━━━━━━━━━━━━━━━━━━━━━━━━━\u001b[0m \u001b[32m1.9/1.9 MB\u001b[0m \u001b[31m37.4 MB/s\u001b[0m eta \u001b[36m0:00:00\u001b[0m\n",
            "\u001b[?25h  Preparing metadata (setup.py) ... \u001b[?25l\u001b[?25hdone\n",
            "Collecting langdetect\n",
            "  Downloading langdetect-1.0.9.tar.gz (981 kB)\n",
            "\u001b[2K     \u001b[90m━━━━━━━━━━━━━━━━━━━━━━━━━━━━━━━━━━━━━━━━\u001b[0m \u001b[32m981.5/981.5 kB\u001b[0m \u001b[31m55.0 MB/s\u001b[0m eta \u001b[36m0:00:00\u001b[0m\n",
            "\u001b[?25h  Preparing metadata (setup.py) ... \u001b[?25l\u001b[?25hdone\n",
            "Requirement already satisfied: beautifulsoup4<5.0.0,>=4.9.1 in /usr/local/lib/python3.10/dist-packages (from deep_translator) (4.12.3)\n",
            "Requirement already satisfied: requests<3.0.0,>=2.23.0 in /usr/local/lib/python3.10/dist-packages (from deep_translator) (2.31.0)\n",
            "Requirement already satisfied: numpy in /usr/local/lib/python3.10/dist-packages (from langid) (1.25.2)\n",
            "Requirement already satisfied: six in /usr/local/lib/python3.10/dist-packages (from langdetect) (1.16.0)\n",
            "Requirement already satisfied: soupsieve>1.2 in /usr/local/lib/python3.10/dist-packages (from beautifulsoup4<5.0.0,>=4.9.1->deep_translator) (2.5)\n",
            "Requirement already satisfied: charset-normalizer<4,>=2 in /usr/local/lib/python3.10/dist-packages (from requests<3.0.0,>=2.23.0->deep_translator) (3.3.2)\n",
            "Requirement already satisfied: idna<4,>=2.5 in /usr/local/lib/python3.10/dist-packages (from requests<3.0.0,>=2.23.0->deep_translator) (3.6)\n",
            "Requirement already satisfied: urllib3<3,>=1.21.1 in /usr/local/lib/python3.10/dist-packages (from requests<3.0.0,>=2.23.0->deep_translator) (2.0.7)\n",
            "Requirement already satisfied: certifi>=2017.4.17 in /usr/local/lib/python3.10/dist-packages (from requests<3.0.0,>=2.23.0->deep_translator) (2024.2.2)\n",
            "Building wheels for collected packages: langid, langdetect\n",
            "  Building wheel for langid (setup.py) ... \u001b[?25l\u001b[?25hdone\n",
            "  Created wheel for langid: filename=langid-1.1.6-py3-none-any.whl size=1941172 sha256=62c3d474948fbac7f9f4da01d814c19faf95dd7e5d5a92255ba52ec3d6473ae3\n",
            "  Stored in directory: /root/.cache/pip/wheels/23/c8/c6/eed80894918490a175677414d40bd7c851413bbe03d4856c3c\n",
            "  Building wheel for langdetect (setup.py) ... \u001b[?25l\u001b[?25hdone\n",
            "  Created wheel for langdetect: filename=langdetect-1.0.9-py3-none-any.whl size=993227 sha256=03ff6424427b9de2adfe7a50a3d53b29601efaa925aab715ac3ed1d8f1fee322\n",
            "  Stored in directory: /root/.cache/pip/wheels/95/03/7d/59ea870c70ce4e5a370638b5462a7711ab78fba2f655d05106\n",
            "Successfully built langid langdetect\n",
            "Installing collected packages: langid, langdetect, deep_translator\n",
            "Successfully installed deep_translator-1.11.4 langdetect-1.0.9 langid-1.1.6\n"
          ]
        }
      ],
      "source": [
        "# Library Instalation\n",
        "%pip install deep_translator langid langdetect emoji clean-text unidecode"
      ]
    },
    {
      "cell_type": "code",
      "execution_count": 4,
      "metadata": {
        "id": "AfloKZYAp1ha"
      },
      "outputs": [],
      "source": [
        "import pandas as pd\n",
        "import numpy as np\n",
        "import tqdm\n",
        "import seaborn as sns\n",
        "import matplotlib.pyplot as plt\n",
        "import re\n",
        "from numba import jit, cuda\n",
        "import numpy as np\n",
        "import os"
      ]
    },
    {
      "cell_type": "markdown",
      "metadata": {
        "id": "xJO5_wJgB1Ym"
      },
      "source": [
        "Text Traslate Function"
      ]
    },
    {
      "cell_type": "code",
      "execution_count": 31,
      "metadata": {
        "id": "8C_HYxCNp1ha"
      },
      "outputs": [],
      "source": [
        "from deep_translator import GoogleTranslator\n",
        "import langid\n",
        "\n",
        "def translate(text):\n",
        "\n",
        "  # This function Transalted Recieved Text in diffrent Languages\n",
        "  # into English Language.\n",
        "\n",
        "  try:\n",
        "    if ((not pd.isna(text)) and langid.classify(text)[0] != 'en' and text.startswith('<error>:')):\n",
        "      text = text[6:]\n",
        "      chunks = []\n",
        "      if(len(text)>=5000):\n",
        "        for i in range(0,len(text),4999):\n",
        "          chunks.append(text[i:4999+i])\n",
        "        for i in range(len(chunks)):\n",
        "          chunks[i] = translate(chunks[i])\n",
        "        return \", \".join(chunks)\n",
        "      else:\n",
        "        translator = GoogleTranslator(source='auto', target='en')\n",
        "        return translator.translate(text)\n",
        "    else:\n",
        "        return text\n",
        "  except Exception as e:\n",
        "    print('Error Occured In translate Function',{e},text)\n",
        "    return \"<error>:\"+text"
      ]
    },
    {
      "cell_type": "markdown",
      "metadata": {
        "id": "KEmQbH30B8ZP"
      },
      "source": [
        "Dataframe Translate Function"
      ]
    },
    {
      "cell_type": "code",
      "execution_count": 6,
      "metadata": {
        "id": "LT5tNDS4B7iR"
      },
      "outputs": [],
      "source": [
        "def dataframe_translate(df,columns):\n",
        "# This Function takes Dataframe, Column List and translate those column's data into English language.\n",
        "# Returns Translated Dataframe.\n",
        "    not_translated=[]\n",
        "    df1=df\n",
        "    with tqdm.tqdm(total=len(df)*len(columns), desc=\"Translating\") as progress_bar:\n",
        "        for col in columns:\n",
        "            for i in range(len(df)):\n",
        "                try:\n",
        "                    df1.loc[i,col]=translate(df.loc[i,col])\n",
        "\n",
        "                except Exception as e:\n",
        "                    print(f\"Error translating row {i + 1}: {e}\")\n",
        "                    not_translated.append(i)\n",
        "\n",
        "                progress_bar.update(1)\n",
        "    if(len(not_translated)>0):print(\"Not Translated Rows:\", not_translated)\n",
        "    return df1\n"
      ]
    },
    {
      "cell_type": "markdown",
      "metadata": {
        "id": "GdsswqANUeJV"
      },
      "source": [
        "Fake Real Bar graph"
      ]
    },
    {
      "cell_type": "code",
      "execution_count": 7,
      "metadata": {
        "id": "gnqLeWmqUdjH"
      },
      "outputs": [],
      "source": [
        "def fake_real_graph(df):\n",
        "  # This Function plots a bar graph for REAL and FAKE frequency.\n",
        "  df.groupby('LABEL').size().plot(kind='barh', color=sns.palettes.mpl_palette('Dark2'))\n",
        "  plt.gca().spines[['top', 'right',]].set_visible(False)"
      ]
    },
    {
      "cell_type": "markdown",
      "metadata": {
        "id": "X1A02xLfLx3H"
      },
      "source": [
        "File Translate Function"
      ]
    },
    {
      "cell_type": "markdown",
      "metadata": {
        "id": "tk4LmUsoLvHl"
      },
      "source": [
        "File Check Function"
      ]
    },
    {
      "cell_type": "code",
      "execution_count": 1,
      "metadata": {
        "id": "xn3XbZQEq7mi"
      },
      "outputs": [],
      "source": [
        "import csv\n",
        "def error_append(filename):\n",
        "# this Function Appends the <error> tag at the start of the line if it finds an error while translating the file.\n",
        "      with open('/content/drive/MyDrive/error.csv', 'a', newline='') as csvfile:\n",
        "          writer = csv.writer(csvfile)\n",
        "          writer.writerow([filename])\n",
        "\n",
        "def translate_file(input_file, output_file):\n",
        "    # This function translates the content of the input file line by line and writes the translated content to the output file.\n",
        "\n",
        "    try:\n",
        "      with open(input_file, 'r', encoding='utf-8') as f_in:\n",
        "          lines = f_in.readlines()\n",
        "\n",
        "      translated_lines = []\n",
        "\n",
        "      with tqdm.tqdm(total=len(lines), disable=True) as pbar:\n",
        "          for line in lines:\n",
        "              line = line.replace('<br>', '')\n",
        "              line = re.sub(r'http[s]?://(?:[a-zA-Z]|[0-9]|[$-_@.&+]|[!*\\\\(\\\\),]|(?:%[0-9a-fA-F][0-9a-fA-F]))+', '', line)\n",
        "\n",
        "              if len(line) >= 5000:\n",
        "                  text = re.split(r'[.,]', line)\n",
        "                  for i in range(len(text)):\n",
        "                      t = translate(text[i])\n",
        "                      if(t[:8]=='<error>:'):\n",
        "                        error_append(input_file)\n",
        "                  text = \". \".join(text)\n",
        "                  translated_lines.append(text)\n",
        "\n",
        "              else:\n",
        "                  translated_line = translate(line)\n",
        "                  translated_lines.append(translated_line)\n",
        "              pbar.update(1)\n",
        "\n",
        "      with open(output_file, 'w', encoding='utf-8') as f_out:\n",
        "          for translated_line in translated_lines:\n",
        "              if translated_line is not None:\n",
        "                  f_out.write(translated_line + '\\n')\n",
        "    except Exception as e:\n",
        "      1>0\n",
        "\n"
      ]
    },
    {
      "cell_type": "code",
      "execution_count": 10,
      "metadata": {
        "id": "asL1R5qBp1ha"
      },
      "outputs": [],
      "source": [
        "fvc = pd.read_csv(\"Datasets/Updated_FVC.csv\")\n",
        "mvd = pd.read_csv(\"Datasets/Updated_MVD.csv\")\n",
        "bolly = pd.read_csv(\"Datasets/Updated_BollyBAIT.csv\")\n",
        "combined = pd.read_csv(\"Datasets/Updated_Combined.csv\")"
      ]
    },
    {
      "cell_type": "markdown",
      "metadata": {
        "id": "l3RKFbB1TusP"
      },
      "source": [
        "# Translate CSV datasets"
      ]
    },
    {
      "cell_type": "markdown",
      "metadata": {
        "id": "TMH1Jae5CKRN"
      },
      "source": [
        "# Translate FVC Dataset"
      ]
    },
    {
      "cell_type": "code",
      "execution_count": null,
      "metadata": {
        "colab": {
          "base_uri": "https://localhost:8080/",
          "height": 460
        },
        "id": "7CqrkzVrp1hb",
        "outputId": "c98fa8dd-174f-4008-a17d-3bbe8c7bb839"
      },
      "outputs": [
        {
          "name": "stderr",
          "output_type": "stream",
          "text": [
            "Translating:  53%|█████▎    | 262/494 [00:50<00:39,  5.80it/s]"
          ]
        },
        {
          "name": "stdout",
          "output_type": "stream",
          "text": [
            "Error translating row 14: Request exception can happen due to an api connection error. Please check your connection and try again\n"
          ]
        },
        {
          "name": "stderr",
          "output_type": "stream",
          "text": [
            "Translating: 100%|██████████| 494/494 [01:32<00:00,  5.32it/s]\n"
          ]
        },
        {
          "data": {
            "application/vnd.google.colaboratory.intrinsic+json": {
              "summary": "{\n  \"name\": \"fvc\",\n  \"rows\": 247,\n  \"fields\": [\n    {\n      \"column\": \"video_id\",\n      \"properties\": {\n        \"dtype\": \"string\",\n        \"num_unique_values\": 247,\n        \"samples\": [\n          \"n-oJCiGCQ9c\",\n          \"PtWNknwUCE8\",\n          \"TfpR8AFegdI\"\n        ],\n        \"semantic_type\": \"\",\n        \"description\": \"\"\n      }\n    },\n    {\n      \"column\": \"LABEL\",\n      \"properties\": {\n        \"dtype\": \"category\",\n        \"num_unique_values\": 2,\n        \"samples\": [\n          \"REAL\",\n          \"FAKE\"\n        ],\n        \"semantic_type\": \"\",\n        \"description\": \"\"\n      }\n    },\n    {\n      \"column\": \"title\",\n      \"properties\": {\n        \"dtype\": \"string\",\n        \"num_unique_values\": 246,\n        \"samples\": [\n          \"The first teleportation in Penza (The first teleportation in Russia)\",\n          \"Reporter hit by stop sign during live tv.\"\n        ],\n        \"semantic_type\": \"\",\n        \"description\": \"\"\n      }\n    },\n    {\n      \"column\": \"description\",\n      \"properties\": {\n        \"dtype\": \"string\",\n        \"num_unique_values\": 235,\n        \"samples\": [\n          \"Elimination of a militants' strong point (Aleppo province)\",\n          \"For the Full video with original voice watch here https://goo.gl/fasfU2\\n Forward to 3 minutes and this scene is there with the original\\nBarack Obama All Laughs After Bush Whispers Something During Bill Clinton Speech\\nBush cracks joke to Obama while Clinton makes a speech\\nBush cracks joke to Obama while Clinton makes a speech\\nBush cracks joke to Obama while Clinton makes a speech\\nBush cracks joke to Obama while Clinton makes a speech\\nA few years ago, I had attended a conference where W was the keynote speaker. During his presidency, I was totally against him and did not like him one bit. In person, as he sat on stage and engaging with the moderator, he was personable and not the buffoon that we often saw with his Bushisms. He was great, funny and someone who I'd love to have a few beers with. After seeing him, I purchased his book.\\nQuite often former presidents become close friends with other former presidents, even when they're of different parties and politically polar opposites of each other. Seeing photos of the Obama's and Bush's show that they're genuinely fond of each other and are quite close.\\n\\nIf you like the video then must hit thumbs up. Your one Subscribe hit will motivate us.Must subscribe our channel for more good videos\"\n        ],\n        \"semantic_type\": \"\",\n        \"description\": \"\"\n      }\n    },\n    {\n      \"column\": \"likes\",\n      \"properties\": {\n        \"dtype\": \"number\",\n        \"std\": 262081,\n        \"min\": 0,\n        \"max\": 2561286,\n        \"num_unique_values\": 217,\n        \"samples\": [\n          2314,\n          11\n        ],\n        \"semantic_type\": \"\",\n        \"description\": \"\"\n      }\n    },\n    {\n      \"column\": \"comments\",\n      \"properties\": {\n        \"dtype\": \"number\",\n        \"std\": 17495,\n        \"min\": 0,\n        \"max\": 171011,\n        \"num_unique_values\": 188,\n        \"samples\": [\n          2601,\n          90\n        ],\n        \"semantic_type\": \"\",\n        \"description\": \"\"\n      }\n    },\n    {\n      \"column\": \"views\",\n      \"properties\": {\n        \"dtype\": \"number\",\n        \"std\": 19962091,\n        \"min\": 75,\n        \"max\": 224438799,\n        \"num_unique_values\": 247,\n        \"samples\": [\n          1542563,\n          696532\n        ],\n        \"semantic_type\": \"\",\n        \"description\": \"\"\n      }\n    }\n  ]\n}",
              "type": "dataframe",
              "variable_name": "fvc"
            },
            "text/html": [
              "\n",
              "  <div id=\"df-3fbeba4c-a486-4c2c-acb4-cfcc60cd218b\" class=\"colab-df-container\">\n",
              "    <div>\n",
              "<style scoped>\n",
              "    .dataframe tbody tr th:only-of-type {\n",
              "        vertical-align: middle;\n",
              "    }\n",
              "\n",
              "    .dataframe tbody tr th {\n",
              "        vertical-align: top;\n",
              "    }\n",
              "\n",
              "    .dataframe thead th {\n",
              "        text-align: right;\n",
              "    }\n",
              "</style>\n",
              "<table border=\"1\" class=\"dataframe\">\n",
              "  <thead>\n",
              "    <tr style=\"text-align: right;\">\n",
              "      <th></th>\n",
              "      <th>video_id</th>\n",
              "      <th>LABEL</th>\n",
              "      <th>title</th>\n",
              "      <th>description</th>\n",
              "      <th>likes</th>\n",
              "      <th>comments</th>\n",
              "      <th>views</th>\n",
              "    </tr>\n",
              "  </thead>\n",
              "  <tbody>\n",
              "    <tr>\n",
              "      <th>0</th>\n",
              "      <td>Y7MJlmbnLQA</td>\n",
              "      <td>FAKE</td>\n",
              "      <td>A girl fell into lava 🙀</td>\n",
              "      <td>Oh God, save us from the torment of hell</td>\n",
              "      <td>66</td>\n",
              "      <td>42</td>\n",
              "      <td>18201</td>\n",
              "    </tr>\n",
              "    <tr>\n",
              "      <th>1</th>\n",
              "      <td>AEPvSo8bE2I</td>\n",
              "      <td>FAKE</td>\n",
              "      <td>Michel &amp; Sven - The Table Cloth Trick - Part 4...</td>\n",
              "      <td>http://www.facebook.com/michelundsven\\nhttp://...</td>\n",
              "      <td>92529</td>\n",
              "      <td>0</td>\n",
              "      <td>25398348</td>\n",
              "    </tr>\n",
              "    <tr>\n",
              "      <th>2</th>\n",
              "      <td>CXOU10WBogs</td>\n",
              "      <td>FAKE</td>\n",
              "      <td>Backflip and almost hit by car!</td>\n",
              "      <td>Jukin Media Verified (Original)\\n* For licensi...</td>\n",
              "      <td>384</td>\n",
              "      <td>26</td>\n",
              "      <td>169870</td>\n",
              "    </tr>\n",
              "    <tr>\n",
              "      <th>3</th>\n",
              "      <td>ZoHAf7VtIhA</td>\n",
              "      <td>FAKE</td>\n",
              "      <td>Shark Attack - Cam Girl Bitten off Florida Coast</td>\n",
              "      <td>Camsoda model Molly Cavalli was bitten while b...</td>\n",
              "      <td>8608</td>\n",
              "      <td>1930</td>\n",
              "      <td>17784032</td>\n",
              "    </tr>\n",
              "    <tr>\n",
              "      <th>4</th>\n",
              "      <td>RXF5yZZe8nQ</td>\n",
              "      <td>FAKE</td>\n",
              "      <td>American Airline plane catches fire on runway</td>\n",
              "      <td>Passengers run for survival as a plane catches...</td>\n",
              "      <td>36</td>\n",
              "      <td>24</td>\n",
              "      <td>4682</td>\n",
              "    </tr>\n",
              "    <tr>\n",
              "      <th>...</th>\n",
              "      <td>...</td>\n",
              "      <td>...</td>\n",
              "      <td>...</td>\n",
              "      <td>...</td>\n",
              "      <td>...</td>\n",
              "      <td>...</td>\n",
              "      <td>...</td>\n",
              "    </tr>\n",
              "    <tr>\n",
              "      <th>242</th>\n",
              "      <td>XvMoYEUVcB4</td>\n",
              "      <td>REAL</td>\n",
              "      <td>Dolphin Seen at Mahalaxmi Mumbai</td>\n",
              "      <td>Today people seen Dolphins In Mahalaxmi Mumbai...</td>\n",
              "      <td>11</td>\n",
              "      <td>0</td>\n",
              "      <td>971</td>\n",
              "    </tr>\n",
              "    <tr>\n",
              "      <th>243</th>\n",
              "      <td>lYFpga7kJxE</td>\n",
              "      <td>REAL</td>\n",
              "      <td>Angry mob throwing stones on mumbai local trai...</td>\n",
              "      <td>Angry mob throwing stones on mumbai local trai...</td>\n",
              "      <td>3275</td>\n",
              "      <td>418</td>\n",
              "      <td>2439095</td>\n",
              "    </tr>\n",
              "    <tr>\n",
              "      <th>244</th>\n",
              "      <td>WNjFFTQsIAg</td>\n",
              "      <td>REAL</td>\n",
              "      <td>Woman carted off by Muslim horde into subway s...</td>\n",
              "      <td>No idea where this was filmed, some are saying...</td>\n",
              "      <td>43</td>\n",
              "      <td>22</td>\n",
              "      <td>4943</td>\n",
              "    </tr>\n",
              "    <tr>\n",
              "      <th>245</th>\n",
              "      <td>x76VEPXYaI0</td>\n",
              "      <td>REAL</td>\n",
              "      <td>GoPro: Backflip Over 72ft Canyon - Kelly McGar...</td>\n",
              "      <td>Shot 100% on the HD HERO3+® camera from ‪http:...</td>\n",
              "      <td>2561286</td>\n",
              "      <td>58142</td>\n",
              "      <td>224438799</td>\n",
              "    </tr>\n",
              "    <tr>\n",
              "      <th>246</th>\n",
              "      <td>VESBrSWm3Yg</td>\n",
              "      <td>REAL</td>\n",
              "      <td>People running from scene of terrorist attack ...</td>\n",
              "      <td>Still ongoing. At least 5 dead.</td>\n",
              "      <td>10</td>\n",
              "      <td>5</td>\n",
              "      <td>26658</td>\n",
              "    </tr>\n",
              "  </tbody>\n",
              "</table>\n",
              "<p>247 rows × 7 columns</p>\n",
              "</div>\n",
              "    <div class=\"colab-df-buttons\">\n",
              "\n",
              "  <div class=\"colab-df-container\">\n",
              "    <button class=\"colab-df-convert\" onclick=\"convertToInteractive('df-3fbeba4c-a486-4c2c-acb4-cfcc60cd218b')\"\n",
              "            title=\"Convert this dataframe to an interactive table.\"\n",
              "            style=\"display:none;\">\n",
              "\n",
              "  <svg xmlns=\"http://www.w3.org/2000/svg\" height=\"24px\" viewBox=\"0 -960 960 960\">\n",
              "    <path d=\"M120-120v-720h720v720H120Zm60-500h600v-160H180v160Zm220 220h160v-160H400v160Zm0 220h160v-160H400v160ZM180-400h160v-160H180v160Zm440 0h160v-160H620v160ZM180-180h160v-160H180v160Zm440 0h160v-160H620v160Z\"/>\n",
              "  </svg>\n",
              "    </button>\n",
              "\n",
              "  <style>\n",
              "    .colab-df-container {\n",
              "      display:flex;\n",
              "      gap: 12px;\n",
              "    }\n",
              "\n",
              "    .colab-df-convert {\n",
              "      background-color: #E8F0FE;\n",
              "      border: none;\n",
              "      border-radius: 50%;\n",
              "      cursor: pointer;\n",
              "      display: none;\n",
              "      fill: #1967D2;\n",
              "      height: 32px;\n",
              "      padding: 0 0 0 0;\n",
              "      width: 32px;\n",
              "    }\n",
              "\n",
              "    .colab-df-convert:hover {\n",
              "      background-color: #E2EBFA;\n",
              "      box-shadow: 0px 1px 2px rgba(60, 64, 67, 0.3), 0px 1px 3px 1px rgba(60, 64, 67, 0.15);\n",
              "      fill: #174EA6;\n",
              "    }\n",
              "\n",
              "    .colab-df-buttons div {\n",
              "      margin-bottom: 4px;\n",
              "    }\n",
              "\n",
              "    [theme=dark] .colab-df-convert {\n",
              "      background-color: #3B4455;\n",
              "      fill: #D2E3FC;\n",
              "    }\n",
              "\n",
              "    [theme=dark] .colab-df-convert:hover {\n",
              "      background-color: #434B5C;\n",
              "      box-shadow: 0px 1px 3px 1px rgba(0, 0, 0, 0.15);\n",
              "      filter: drop-shadow(0px 1px 2px rgba(0, 0, 0, 0.3));\n",
              "      fill: #FFFFFF;\n",
              "    }\n",
              "  </style>\n",
              "\n",
              "    <script>\n",
              "      const buttonEl =\n",
              "        document.querySelector('#df-3fbeba4c-a486-4c2c-acb4-cfcc60cd218b button.colab-df-convert');\n",
              "      buttonEl.style.display =\n",
              "        google.colab.kernel.accessAllowed ? 'block' : 'none';\n",
              "\n",
              "      async function convertToInteractive(key) {\n",
              "        const element = document.querySelector('#df-3fbeba4c-a486-4c2c-acb4-cfcc60cd218b');\n",
              "        const dataTable =\n",
              "          await google.colab.kernel.invokeFunction('convertToInteractive',\n",
              "                                                    [key], {});\n",
              "        if (!dataTable) return;\n",
              "\n",
              "        const docLinkHtml = 'Like what you see? Visit the ' +\n",
              "          '<a target=\"_blank\" href=https://colab.research.google.com/notebooks/data_table.ipynb>data table notebook</a>'\n",
              "          + ' to learn more about interactive tables.';\n",
              "        element.innerHTML = '';\n",
              "        dataTable['output_type'] = 'display_data';\n",
              "        await google.colab.output.renderOutput(dataTable, element);\n",
              "        const docLink = document.createElement('div');\n",
              "        docLink.innerHTML = docLinkHtml;\n",
              "        element.appendChild(docLink);\n",
              "      }\n",
              "    </script>\n",
              "  </div>\n",
              "\n",
              "\n",
              "<div id=\"df-70fb407b-26a6-4c34-9556-984d54116a9c\">\n",
              "  <button class=\"colab-df-quickchart\" onclick=\"quickchart('df-70fb407b-26a6-4c34-9556-984d54116a9c')\"\n",
              "            title=\"Suggest charts\"\n",
              "            style=\"display:none;\">\n",
              "\n",
              "<svg xmlns=\"http://www.w3.org/2000/svg\" height=\"24px\"viewBox=\"0 0 24 24\"\n",
              "     width=\"24px\">\n",
              "    <g>\n",
              "        <path d=\"M19 3H5c-1.1 0-2 .9-2 2v14c0 1.1.9 2 2 2h14c1.1 0 2-.9 2-2V5c0-1.1-.9-2-2-2zM9 17H7v-7h2v7zm4 0h-2V7h2v10zm4 0h-2v-4h2v4z\"/>\n",
              "    </g>\n",
              "</svg>\n",
              "  </button>\n",
              "\n",
              "<style>\n",
              "  .colab-df-quickchart {\n",
              "      --bg-color: #E8F0FE;\n",
              "      --fill-color: #1967D2;\n",
              "      --hover-bg-color: #E2EBFA;\n",
              "      --hover-fill-color: #174EA6;\n",
              "      --disabled-fill-color: #AAA;\n",
              "      --disabled-bg-color: #DDD;\n",
              "  }\n",
              "\n",
              "  [theme=dark] .colab-df-quickchart {\n",
              "      --bg-color: #3B4455;\n",
              "      --fill-color: #D2E3FC;\n",
              "      --hover-bg-color: #434B5C;\n",
              "      --hover-fill-color: #FFFFFF;\n",
              "      --disabled-bg-color: #3B4455;\n",
              "      --disabled-fill-color: #666;\n",
              "  }\n",
              "\n",
              "  .colab-df-quickchart {\n",
              "    background-color: var(--bg-color);\n",
              "    border: none;\n",
              "    border-radius: 50%;\n",
              "    cursor: pointer;\n",
              "    display: none;\n",
              "    fill: var(--fill-color);\n",
              "    height: 32px;\n",
              "    padding: 0;\n",
              "    width: 32px;\n",
              "  }\n",
              "\n",
              "  .colab-df-quickchart:hover {\n",
              "    background-color: var(--hover-bg-color);\n",
              "    box-shadow: 0 1px 2px rgba(60, 64, 67, 0.3), 0 1px 3px 1px rgba(60, 64, 67, 0.15);\n",
              "    fill: var(--button-hover-fill-color);\n",
              "  }\n",
              "\n",
              "  .colab-df-quickchart-complete:disabled,\n",
              "  .colab-df-quickchart-complete:disabled:hover {\n",
              "    background-color: var(--disabled-bg-color);\n",
              "    fill: var(--disabled-fill-color);\n",
              "    box-shadow: none;\n",
              "  }\n",
              "\n",
              "  .colab-df-spinner {\n",
              "    border: 2px solid var(--fill-color);\n",
              "    border-color: transparent;\n",
              "    border-bottom-color: var(--fill-color);\n",
              "    animation:\n",
              "      spin 1s steps(1) infinite;\n",
              "  }\n",
              "\n",
              "  @keyframes spin {\n",
              "    0% {\n",
              "      border-color: transparent;\n",
              "      border-bottom-color: var(--fill-color);\n",
              "      border-left-color: var(--fill-color);\n",
              "    }\n",
              "    20% {\n",
              "      border-color: transparent;\n",
              "      border-left-color: var(--fill-color);\n",
              "      border-top-color: var(--fill-color);\n",
              "    }\n",
              "    30% {\n",
              "      border-color: transparent;\n",
              "      border-left-color: var(--fill-color);\n",
              "      border-top-color: var(--fill-color);\n",
              "      border-right-color: var(--fill-color);\n",
              "    }\n",
              "    40% {\n",
              "      border-color: transparent;\n",
              "      border-right-color: var(--fill-color);\n",
              "      border-top-color: var(--fill-color);\n",
              "    }\n",
              "    60% {\n",
              "      border-color: transparent;\n",
              "      border-right-color: var(--fill-color);\n",
              "    }\n",
              "    80% {\n",
              "      border-color: transparent;\n",
              "      border-right-color: var(--fill-color);\n",
              "      border-bottom-color: var(--fill-color);\n",
              "    }\n",
              "    90% {\n",
              "      border-color: transparent;\n",
              "      border-bottom-color: var(--fill-color);\n",
              "    }\n",
              "  }\n",
              "</style>\n",
              "\n",
              "  <script>\n",
              "    async function quickchart(key) {\n",
              "      const quickchartButtonEl =\n",
              "        document.querySelector('#' + key + ' button');\n",
              "      quickchartButtonEl.disabled = true;  // To prevent multiple clicks.\n",
              "      quickchartButtonEl.classList.add('colab-df-spinner');\n",
              "      try {\n",
              "        const charts = await google.colab.kernel.invokeFunction(\n",
              "            'suggestCharts', [key], {});\n",
              "      } catch (error) {\n",
              "        console.error('Error during call to suggestCharts:', error);\n",
              "      }\n",
              "      quickchartButtonEl.classList.remove('colab-df-spinner');\n",
              "      quickchartButtonEl.classList.add('colab-df-quickchart-complete');\n",
              "    }\n",
              "    (() => {\n",
              "      let quickchartButtonEl =\n",
              "        document.querySelector('#df-70fb407b-26a6-4c34-9556-984d54116a9c button');\n",
              "      quickchartButtonEl.style.display =\n",
              "        google.colab.kernel.accessAllowed ? 'block' : 'none';\n",
              "    })();\n",
              "  </script>\n",
              "</div>\n",
              "\n",
              "  <div id=\"id_804fd648-aaf8-4474-9a7b-c168f8686840\">\n",
              "    <style>\n",
              "      .colab-df-generate {\n",
              "        background-color: #E8F0FE;\n",
              "        border: none;\n",
              "        border-radius: 50%;\n",
              "        cursor: pointer;\n",
              "        display: none;\n",
              "        fill: #1967D2;\n",
              "        height: 32px;\n",
              "        padding: 0 0 0 0;\n",
              "        width: 32px;\n",
              "      }\n",
              "\n",
              "      .colab-df-generate:hover {\n",
              "        background-color: #E2EBFA;\n",
              "        box-shadow: 0px 1px 2px rgba(60, 64, 67, 0.3), 0px 1px 3px 1px rgba(60, 64, 67, 0.15);\n",
              "        fill: #174EA6;\n",
              "      }\n",
              "\n",
              "      [theme=dark] .colab-df-generate {\n",
              "        background-color: #3B4455;\n",
              "        fill: #D2E3FC;\n",
              "      }\n",
              "\n",
              "      [theme=dark] .colab-df-generate:hover {\n",
              "        background-color: #434B5C;\n",
              "        box-shadow: 0px 1px 3px 1px rgba(0, 0, 0, 0.15);\n",
              "        filter: drop-shadow(0px 1px 2px rgba(0, 0, 0, 0.3));\n",
              "        fill: #FFFFFF;\n",
              "      }\n",
              "    </style>\n",
              "    <button class=\"colab-df-generate\" onclick=\"generateWithVariable('fvc')\"\n",
              "            title=\"Generate code using this dataframe.\"\n",
              "            style=\"display:none;\">\n",
              "\n",
              "  <svg xmlns=\"http://www.w3.org/2000/svg\" height=\"24px\"viewBox=\"0 0 24 24\"\n",
              "       width=\"24px\">\n",
              "    <path d=\"M7,19H8.4L18.45,9,17,7.55,7,17.6ZM5,21V16.75L18.45,3.32a2,2,0,0,1,2.83,0l1.4,1.43a1.91,1.91,0,0,1,.58,1.4,1.91,1.91,0,0,1-.58,1.4L9.25,21ZM18.45,9,17,7.55Zm-12,3A5.31,5.31,0,0,0,4.9,8.1,5.31,5.31,0,0,0,1,6.5,5.31,5.31,0,0,0,4.9,4.9,5.31,5.31,0,0,0,6.5,1,5.31,5.31,0,0,0,8.1,4.9,5.31,5.31,0,0,0,12,6.5,5.46,5.46,0,0,0,6.5,12Z\"/>\n",
              "  </svg>\n",
              "    </button>\n",
              "    <script>\n",
              "      (() => {\n",
              "      const buttonEl =\n",
              "        document.querySelector('#id_804fd648-aaf8-4474-9a7b-c168f8686840 button.colab-df-generate');\n",
              "      buttonEl.style.display =\n",
              "        google.colab.kernel.accessAllowed ? 'block' : 'none';\n",
              "\n",
              "      buttonEl.onclick = () => {\n",
              "        google.colab.notebook.generateWithVariable('fvc');\n",
              "      }\n",
              "      })();\n",
              "    </script>\n",
              "  </div>\n",
              "\n",
              "    </div>\n",
              "  </div>\n"
            ],
            "text/plain": [
              "        video_id LABEL                                              title  \\\n",
              "0    Y7MJlmbnLQA  FAKE                            A girl fell into lava 🙀   \n",
              "1    AEPvSo8bE2I  FAKE  Michel & Sven - The Table Cloth Trick - Part 4...   \n",
              "2    CXOU10WBogs  FAKE                    Backflip and almost hit by car!   \n",
              "3    ZoHAf7VtIhA  FAKE   Shark Attack - Cam Girl Bitten off Florida Coast   \n",
              "4    RXF5yZZe8nQ  FAKE      American Airline plane catches fire on runway   \n",
              "..           ...   ...                                                ...   \n",
              "242  XvMoYEUVcB4  REAL                   Dolphin Seen at Mahalaxmi Mumbai   \n",
              "243  lYFpga7kJxE  REAL  Angry mob throwing stones on mumbai local trai...   \n",
              "244  WNjFFTQsIAg  REAL  Woman carted off by Muslim horde into subway s...   \n",
              "245  x76VEPXYaI0  REAL  GoPro: Backflip Over 72ft Canyon - Kelly McGar...   \n",
              "246  VESBrSWm3Yg  REAL  People running from scene of terrorist attack ...   \n",
              "\n",
              "                                           description    likes  comments  \\\n",
              "0             Oh God, save us from the torment of hell       66        42   \n",
              "1    http://www.facebook.com/michelundsven\\nhttp://...    92529         0   \n",
              "2    Jukin Media Verified (Original)\\n* For licensi...      384        26   \n",
              "3    Camsoda model Molly Cavalli was bitten while b...     8608      1930   \n",
              "4    Passengers run for survival as a plane catches...       36        24   \n",
              "..                                                 ...      ...       ...   \n",
              "242  Today people seen Dolphins In Mahalaxmi Mumbai...       11         0   \n",
              "243  Angry mob throwing stones on mumbai local trai...     3275       418   \n",
              "244  No idea where this was filmed, some are saying...       43        22   \n",
              "245  Shot 100% on the HD HERO3+® camera from ‪http:...  2561286     58142   \n",
              "246                    Still ongoing. At least 5 dead.       10         5   \n",
              "\n",
              "         views  \n",
              "0        18201  \n",
              "1     25398348  \n",
              "2       169870  \n",
              "3     17784032  \n",
              "4         4682  \n",
              "..         ...  \n",
              "242        971  \n",
              "243    2439095  \n",
              "244       4943  \n",
              "245  224438799  \n",
              "246      26658  \n",
              "\n",
              "[247 rows x 7 columns]"
            ]
          },
          "execution_count": 21,
          "metadata": {},
          "output_type": "execute_result"
        }
      ],
      "source": [
        "df = fvc\n",
        "df=dataframe_translate(df,['title','description'])\n",
        "df"
      ]
    },
    {
      "cell_type": "code",
      "execution_count": null,
      "metadata": {
        "id": "NyHJJVuRtZ_E"
      },
      "outputs": [],
      "source": [
        "# Row 13 has more than 5000 Characters which needed to be handled manually.\n",
        "test=fvc.loc[13,'description'].split(',\\n')\n",
        "translated_test=[]\n",
        "\n",
        "for i in range(len(test)):\n",
        "  translated_test.append(translate(test[i]))\n",
        "\n",
        "final=\", \".join(translated_test)\n",
        "df.loc[13,'description']=final\n"
      ]
    },
    {
      "cell_type": "code",
      "execution_count": null,
      "metadata": {
        "id": "xycDiJgkwLfO"
      },
      "outputs": [],
      "source": [
        "# FVC dataset has been Cleaned and Preprocessed for Different Languages.\n",
        "df.to_csv(\"translated_fvc.csv\")"
      ]
    },
    {
      "cell_type": "markdown",
      "metadata": {
        "id": "yV1PQnE1a2ec"
      },
      "source": [
        "# Translate Combined Dataset"
      ]
    },
    {
      "cell_type": "code",
      "execution_count": null,
      "metadata": {
        "colab": {
          "base_uri": "https://localhost:8080/",
          "height": 519
        },
        "id": "EqN3E3dBwS6f",
        "outputId": "6581e22e-7765-44da-ae48-a8c4a37f357d"
      },
      "outputs": [
        {
          "data": {
            "application/vnd.google.colaboratory.intrinsic+json": {
              "summary": "{\n  \"name\": \"df1\",\n  \"rows\": 1856,\n  \"fields\": [\n    {\n      \"column\": \"video_id\",\n      \"properties\": {\n        \"dtype\": \"string\",\n        \"num_unique_values\": 1828,\n        \"samples\": [\n          \"qjBQhJutlC0\",\n          \"OJsGmX4aUkk\",\n          \"lgw93uaabyE\"\n        ],\n        \"semantic_type\": \"\",\n        \"description\": \"\"\n      }\n    },\n    {\n      \"column\": \"LABEL\",\n      \"properties\": {\n        \"dtype\": \"category\",\n        \"num_unique_values\": 2,\n        \"samples\": [\n          \"REAL\",\n          \"FAKE\"\n        ],\n        \"semantic_type\": \"\",\n        \"description\": \"\"\n      }\n    },\n    {\n      \"column\": \"title\",\n      \"properties\": {\n        \"dtype\": \"string\",\n        \"num_unique_values\": 1820,\n        \"samples\": [\n          \"Deleted Scene - Vidya Balan | Shakuntala Devi | Amazon Prime Video\",\n          \"French mounted police arrest motorcycle passenger\"\n        ],\n        \"semantic_type\": \"\",\n        \"description\": \"\"\n      }\n    },\n    {\n      \"column\": \"description\",\n      \"properties\": {\n        \"dtype\": \"string\",\n        \"num_unique_values\": 1733,\n        \"samples\": [\n          \"CNN News18 film critic Rajeev Masand reviews this week\\u2019s new Hindi film #KabirSingh, starring #ShahidKapoor and #KiaraAdvani, and directed by Sandeep Reddy Vanga. This review first aired on CNN News18 on June 21, 2019\\n\\nSubscribe our channel for latest news updates: \\nhttps://www.youtube.com/user/ibnlive?sub_confirmation=1\\n\\n#GetCloserToTheNews with latest headlines on politics, sports and entertainment on www.news18.com\\n\\nTo stay updated on-the-go, download the News18 App: \\n\\u00b7               Google Play Store: http://bit.ly/2VcRTRc\\n\\u00b7               Apple App Store: https://apple.co/2JceAmY\\n \\nFollow us for latest news, photos & videos:\\n\\u00b7               Facebook: http://bit.ly/2vOO22u\\n\\u00b7               Twitter: http://bit.ly/2HdNKch\\n\\u00b7               Instagram: http://bit.ly/2PRgfiz\\n\\nCNN-News18 is India\\u2019s most awarded English News Channel, and is one of the most respected and dynamic media brands in the country today. CNN-News18 has in a short time, redefined the limits and has set new standards for journalism in Indian news television through its differentiated programming and philosophy of inclusive journalism the spirit of \\u2018Whatever It Takes'. CNN-News18 continues to be India\\u2019s window to the world and world\\u2019s window into India. CNN-News18 has been awarded all the prestigious awards in the General News category in the country.\",\n          \"Last year we put 100 drones in the sky and broke a world record. This year we set a new challenge: 500 drones. Watch our new world record performance in action. \\n\\nSubscribe now to Intel on YouTube: https://intel.ly/3IX1bN2\\n\\nAbout Intel:\\nIntel, the world leader in silicon innovation, develops technologies, products and initiatives to continually advance how people work and live. Founded in 1968 to build semiconductor memory products, Intel introduced the world's first microprocessor in 1971. This decade, our mission is to create and extend computing technology to connect and enrich the lives of every person on Earth.\\n\\nConnect with Intel: \\nVisit Intel WEBSITE: https://intel.ly/Intel\\nFollow Intel on TWITTER: https://intel.ly/Twitter\\nFollow Intel on INSTAGRAM: https://intel.ly/Instagram\\nFollow Intel on LINKEDIN: https://intel.ly/LinkedIn\\nFollow Intel on TIKTOK: https://intel.ly/TikTok\\n\\nIntel's 500 Drone Light Show | Intel\\nhttps://www.youtube.com/intel\"\n        ],\n        \"semantic_type\": \"\",\n        \"description\": \"\"\n      }\n    },\n    {\n      \"column\": \"likes\",\n      \"properties\": {\n        \"dtype\": \"number\",\n        \"std\": 1994840,\n        \"min\": 0,\n        \"max\": 42738686,\n        \"num_unique_values\": 1583,\n        \"samples\": [\n          29702,\n          2000078\n        ],\n        \"semantic_type\": \"\",\n        \"description\": \"\"\n      }\n    },\n    {\n      \"column\": \"comments\",\n      \"properties\": {\n        \"dtype\": \"number\",\n        \"std\": 145108,\n        \"min\": 0,\n        \"max\": 4830302,\n        \"num_unique_values\": 1176,\n        \"samples\": [\n          376,\n          39556\n        ],\n        \"semantic_type\": \"\",\n        \"description\": \"\"\n      }\n    },\n    {\n      \"column\": \"views\",\n      \"properties\": {\n        \"dtype\": \"number\",\n        \"std\": 296339217,\n        \"min\": 3,\n        \"max\": 6215739431,\n        \"num_unique_values\": 1829,\n        \"samples\": [\n          48729,\n          2169456\n        ],\n        \"semantic_type\": \"\",\n        \"description\": \"\"\n      }\n    }\n  ]\n}",
              "type": "dataframe",
              "variable_name": "df1"
            },
            "text/html": [
              "\n",
              "  <div id=\"df-5d22b437-f072-410e-8557-b7194236cdd9\" class=\"colab-df-container\">\n",
              "    <div>\n",
              "<style scoped>\n",
              "    .dataframe tbody tr th:only-of-type {\n",
              "        vertical-align: middle;\n",
              "    }\n",
              "\n",
              "    .dataframe tbody tr th {\n",
              "        vertical-align: top;\n",
              "    }\n",
              "\n",
              "    .dataframe thead th {\n",
              "        text-align: right;\n",
              "    }\n",
              "</style>\n",
              "<table border=\"1\" class=\"dataframe\">\n",
              "  <thead>\n",
              "    <tr style=\"text-align: right;\">\n",
              "      <th></th>\n",
              "      <th>video_id</th>\n",
              "      <th>LABEL</th>\n",
              "      <th>title</th>\n",
              "      <th>description</th>\n",
              "      <th>likes</th>\n",
              "      <th>comments</th>\n",
              "      <th>views</th>\n",
              "    </tr>\n",
              "  </thead>\n",
              "  <tbody>\n",
              "    <tr>\n",
              "      <th>0</th>\n",
              "      <td>rxTuq8gymc0</td>\n",
              "      <td>FAKE</td>\n",
              "      <td>Dharmendra Death</td>\n",
              "      <td>Dharmendra won the Filmfare magazine's new tal...</td>\n",
              "      <td>67</td>\n",
              "      <td>12</td>\n",
              "      <td>20230</td>\n",
              "    </tr>\n",
              "    <tr>\n",
              "      <th>1</th>\n",
              "      <td>4N3hPrJLbEw</td>\n",
              "      <td>FAKE</td>\n",
              "      <td>Abhishek Bachchan and Shweta Bachchan in Koffe...</td>\n",
              "      <td>IBC24, Abhishek Bachchan and Shweta Bachchan i...</td>\n",
              "      <td>1548</td>\n",
              "      <td>95</td>\n",
              "      <td>499773</td>\n",
              "    </tr>\n",
              "    <tr>\n",
              "      <th>2</th>\n",
              "      <td>CfvUr6WAEWM</td>\n",
              "      <td>FAKE</td>\n",
              "      <td>How To Get 6 Pack Abs In One Day</td>\n",
              "      <td>Follow this simple workout and you can have ri...</td>\n",
              "      <td>4715</td>\n",
              "      <td>1095</td>\n",
              "      <td>797613</td>\n",
              "    </tr>\n",
              "    <tr>\n",
              "      <th>3</th>\n",
              "      <td>i1rlytoxQ1o</td>\n",
              "      <td>FAKE</td>\n",
              "      <td>Dark Secrets of Bachchan Family</td>\n",
              "      <td>Dirty Secrets of the Bachchan Family. Do you k...</td>\n",
              "      <td>22494</td>\n",
              "      <td>1603</td>\n",
              "      <td>6107009</td>\n",
              "    </tr>\n",
              "    <tr>\n",
              "      <th>4</th>\n",
              "      <td>jkytlp91onQ</td>\n",
              "      <td>FAKE</td>\n",
              "      <td>10 Secret Wife of Bollywood Actors</td>\n",
              "      <td>These are the Secret Wife of Bollywood Stars :...</td>\n",
              "      <td>583</td>\n",
              "      <td>7</td>\n",
              "      <td>58117</td>\n",
              "    </tr>\n",
              "    <tr>\n",
              "      <th>5</th>\n",
              "      <td>H5k7n8HL3zw</td>\n",
              "      <td>FAKE</td>\n",
              "      <td>Secret Brothers and Sisters of Star Kids in Bo...</td>\n",
              "      <td>These are the Unknown Siblings of Bollywood St...</td>\n",
              "      <td>5052</td>\n",
              "      <td>84</td>\n",
              "      <td>519137</td>\n",
              "    </tr>\n",
              "    <tr>\n",
              "      <th>6</th>\n",
              "      <td>SM_tuZcFicU</td>\n",
              "      <td>FAKE</td>\n",
              "      <td>10 Beautiful Mothers of Bollywood Actors</td>\n",
              "      <td>These are the Beautiful Mothers of Bollywood A...</td>\n",
              "      <td>17657</td>\n",
              "      <td>223</td>\n",
              "      <td>2469886</td>\n",
              "    </tr>\n",
              "    <tr>\n",
              "      <th>7</th>\n",
              "      <td>d_tXC7bkeWM</td>\n",
              "      <td>FAKE</td>\n",
              "      <td>amitabh bachchan  death today</td>\n",
              "      <td>bollywood muzic tv</td>\n",
              "      <td>1</td>\n",
              "      <td>2</td>\n",
              "      <td>238</td>\n",
              "    </tr>\n",
              "    <tr>\n",
              "      <th>8</th>\n",
              "      <td>zpM7AumRDSg</td>\n",
              "      <td>FAKE</td>\n",
              "      <td>amitabh bachchan death today</td>\n",
              "      <td>amitabh bachchan death today</td>\n",
              "      <td>3</td>\n",
              "      <td>1</td>\n",
              "      <td>439</td>\n",
              "    </tr>\n",
              "    <tr>\n",
              "      <th>9</th>\n",
              "      <td>BBzkcPxC2R4</td>\n",
              "      <td>FAKE</td>\n",
              "      <td>Apple iPhone 13 Pro Max - Sneak Peak [𝗖𝗢𝗡𝗖𝗘𝗣𝗧𝗨...</td>\n",
              "      <td>Welcome to Hasan Kaymak Innovations Official Y...</td>\n",
              "      <td>841</td>\n",
              "      <td>56</td>\n",
              "      <td>85225</td>\n",
              "    </tr>\n",
              "    <tr>\n",
              "      <th>10</th>\n",
              "      <td>97I_wJxDepI</td>\n",
              "      <td>FAKE</td>\n",
              "      <td>Priyanka Chopra UPSET With Shah Rukh Khan For ...</td>\n",
              "      <td>#ShahRukhKhan was one of the stars who got an ...</td>\n",
              "      <td>1550</td>\n",
              "      <td>171</td>\n",
              "      <td>270150</td>\n",
              "    </tr>\n",
              "    <tr>\n",
              "      <th>11</th>\n",
              "      <td>OrV6rc_VjhI</td>\n",
              "      <td>FAKE</td>\n",
              "      <td>10 Bollywood Couples Who Are in Long Distance ...</td>\n",
              "      <td>Bollywood Couples Who Are in Long Distance Mar...</td>\n",
              "      <td>1450</td>\n",
              "      <td>69</td>\n",
              "      <td>434689</td>\n",
              "    </tr>\n",
              "    <tr>\n",
              "      <th>12</th>\n",
              "      <td>1NZiG99SN7g</td>\n",
              "      <td>FAKE</td>\n",
              "      <td>Bollywood Stars who Got Divorced in 2020</td>\n",
              "      <td>These are the Bollywood stars who got divorced...</td>\n",
              "      <td>1477</td>\n",
              "      <td>78</td>\n",
              "      <td>477577</td>\n",
              "    </tr>\n",
              "    <tr>\n",
              "      <th>13</th>\n",
              "      <td>ttBZffinQeE</td>\n",
              "      <td>FAKE</td>\n",
              "      <td>Why Jaya Wanted to Divorce Amitabh Bachchan</td>\n",
              "      <td>Why Jaya Wants to Divorce Amitabh Bachchan?Ami...</td>\n",
              "      <td>1204</td>\n",
              "      <td>128</td>\n",
              "      <td>376795</td>\n",
              "    </tr>\n",
              "    <tr>\n",
              "      <th>14</th>\n",
              "      <td>zk-DRuNjkc4</td>\n",
              "      <td>FAKE</td>\n",
              "      <td>Bollywood Villains and Their Beautiful Wife</td>\n",
              "      <td>These are the Bollywood Villains and Their uns...</td>\n",
              "      <td>1459</td>\n",
              "      <td>33</td>\n",
              "      <td>205762</td>\n",
              "    </tr>\n",
              "  </tbody>\n",
              "</table>\n",
              "</div>\n",
              "    <div class=\"colab-df-buttons\">\n",
              "\n",
              "  <div class=\"colab-df-container\">\n",
              "    <button class=\"colab-df-convert\" onclick=\"convertToInteractive('df-5d22b437-f072-410e-8557-b7194236cdd9')\"\n",
              "            title=\"Convert this dataframe to an interactive table.\"\n",
              "            style=\"display:none;\">\n",
              "\n",
              "  <svg xmlns=\"http://www.w3.org/2000/svg\" height=\"24px\" viewBox=\"0 -960 960 960\">\n",
              "    <path d=\"M120-120v-720h720v720H120Zm60-500h600v-160H180v160Zm220 220h160v-160H400v160Zm0 220h160v-160H400v160ZM180-400h160v-160H180v160Zm440 0h160v-160H620v160ZM180-180h160v-160H180v160Zm440 0h160v-160H620v160Z\"/>\n",
              "  </svg>\n",
              "    </button>\n",
              "\n",
              "  <style>\n",
              "    .colab-df-container {\n",
              "      display:flex;\n",
              "      gap: 12px;\n",
              "    }\n",
              "\n",
              "    .colab-df-convert {\n",
              "      background-color: #E8F0FE;\n",
              "      border: none;\n",
              "      border-radius: 50%;\n",
              "      cursor: pointer;\n",
              "      display: none;\n",
              "      fill: #1967D2;\n",
              "      height: 32px;\n",
              "      padding: 0 0 0 0;\n",
              "      width: 32px;\n",
              "    }\n",
              "\n",
              "    .colab-df-convert:hover {\n",
              "      background-color: #E2EBFA;\n",
              "      box-shadow: 0px 1px 2px rgba(60, 64, 67, 0.3), 0px 1px 3px 1px rgba(60, 64, 67, 0.15);\n",
              "      fill: #174EA6;\n",
              "    }\n",
              "\n",
              "    .colab-df-buttons div {\n",
              "      margin-bottom: 4px;\n",
              "    }\n",
              "\n",
              "    [theme=dark] .colab-df-convert {\n",
              "      background-color: #3B4455;\n",
              "      fill: #D2E3FC;\n",
              "    }\n",
              "\n",
              "    [theme=dark] .colab-df-convert:hover {\n",
              "      background-color: #434B5C;\n",
              "      box-shadow: 0px 1px 3px 1px rgba(0, 0, 0, 0.15);\n",
              "      filter: drop-shadow(0px 1px 2px rgba(0, 0, 0, 0.3));\n",
              "      fill: #FFFFFF;\n",
              "    }\n",
              "  </style>\n",
              "\n",
              "    <script>\n",
              "      const buttonEl =\n",
              "        document.querySelector('#df-5d22b437-f072-410e-8557-b7194236cdd9 button.colab-df-convert');\n",
              "      buttonEl.style.display =\n",
              "        google.colab.kernel.accessAllowed ? 'block' : 'none';\n",
              "\n",
              "      async function convertToInteractive(key) {\n",
              "        const element = document.querySelector('#df-5d22b437-f072-410e-8557-b7194236cdd9');\n",
              "        const dataTable =\n",
              "          await google.colab.kernel.invokeFunction('convertToInteractive',\n",
              "                                                    [key], {});\n",
              "        if (!dataTable) return;\n",
              "\n",
              "        const docLinkHtml = 'Like what you see? Visit the ' +\n",
              "          '<a target=\"_blank\" href=https://colab.research.google.com/notebooks/data_table.ipynb>data table notebook</a>'\n",
              "          + ' to learn more about interactive tables.';\n",
              "        element.innerHTML = '';\n",
              "        dataTable['output_type'] = 'display_data';\n",
              "        await google.colab.output.renderOutput(dataTable, element);\n",
              "        const docLink = document.createElement('div');\n",
              "        docLink.innerHTML = docLinkHtml;\n",
              "        element.appendChild(docLink);\n",
              "      }\n",
              "    </script>\n",
              "  </div>\n",
              "\n",
              "\n",
              "<div id=\"df-0084fb54-8531-4984-9563-782839c13b43\">\n",
              "  <button class=\"colab-df-quickchart\" onclick=\"quickchart('df-0084fb54-8531-4984-9563-782839c13b43')\"\n",
              "            title=\"Suggest charts\"\n",
              "            style=\"display:none;\">\n",
              "\n",
              "<svg xmlns=\"http://www.w3.org/2000/svg\" height=\"24px\"viewBox=\"0 0 24 24\"\n",
              "     width=\"24px\">\n",
              "    <g>\n",
              "        <path d=\"M19 3H5c-1.1 0-2 .9-2 2v14c0 1.1.9 2 2 2h14c1.1 0 2-.9 2-2V5c0-1.1-.9-2-2-2zM9 17H7v-7h2v7zm4 0h-2V7h2v10zm4 0h-2v-4h2v4z\"/>\n",
              "    </g>\n",
              "</svg>\n",
              "  </button>\n",
              "\n",
              "<style>\n",
              "  .colab-df-quickchart {\n",
              "      --bg-color: #E8F0FE;\n",
              "      --fill-color: #1967D2;\n",
              "      --hover-bg-color: #E2EBFA;\n",
              "      --hover-fill-color: #174EA6;\n",
              "      --disabled-fill-color: #AAA;\n",
              "      --disabled-bg-color: #DDD;\n",
              "  }\n",
              "\n",
              "  [theme=dark] .colab-df-quickchart {\n",
              "      --bg-color: #3B4455;\n",
              "      --fill-color: #D2E3FC;\n",
              "      --hover-bg-color: #434B5C;\n",
              "      --hover-fill-color: #FFFFFF;\n",
              "      --disabled-bg-color: #3B4455;\n",
              "      --disabled-fill-color: #666;\n",
              "  }\n",
              "\n",
              "  .colab-df-quickchart {\n",
              "    background-color: var(--bg-color);\n",
              "    border: none;\n",
              "    border-radius: 50%;\n",
              "    cursor: pointer;\n",
              "    display: none;\n",
              "    fill: var(--fill-color);\n",
              "    height: 32px;\n",
              "    padding: 0;\n",
              "    width: 32px;\n",
              "  }\n",
              "\n",
              "  .colab-df-quickchart:hover {\n",
              "    background-color: var(--hover-bg-color);\n",
              "    box-shadow: 0 1px 2px rgba(60, 64, 67, 0.3), 0 1px 3px 1px rgba(60, 64, 67, 0.15);\n",
              "    fill: var(--button-hover-fill-color);\n",
              "  }\n",
              "\n",
              "  .colab-df-quickchart-complete:disabled,\n",
              "  .colab-df-quickchart-complete:disabled:hover {\n",
              "    background-color: var(--disabled-bg-color);\n",
              "    fill: var(--disabled-fill-color);\n",
              "    box-shadow: none;\n",
              "  }\n",
              "\n",
              "  .colab-df-spinner {\n",
              "    border: 2px solid var(--fill-color);\n",
              "    border-color: transparent;\n",
              "    border-bottom-color: var(--fill-color);\n",
              "    animation:\n",
              "      spin 1s steps(1) infinite;\n",
              "  }\n",
              "\n",
              "  @keyframes spin {\n",
              "    0% {\n",
              "      border-color: transparent;\n",
              "      border-bottom-color: var(--fill-color);\n",
              "      border-left-color: var(--fill-color);\n",
              "    }\n",
              "    20% {\n",
              "      border-color: transparent;\n",
              "      border-left-color: var(--fill-color);\n",
              "      border-top-color: var(--fill-color);\n",
              "    }\n",
              "    30% {\n",
              "      border-color: transparent;\n",
              "      border-left-color: var(--fill-color);\n",
              "      border-top-color: var(--fill-color);\n",
              "      border-right-color: var(--fill-color);\n",
              "    }\n",
              "    40% {\n",
              "      border-color: transparent;\n",
              "      border-right-color: var(--fill-color);\n",
              "      border-top-color: var(--fill-color);\n",
              "    }\n",
              "    60% {\n",
              "      border-color: transparent;\n",
              "      border-right-color: var(--fill-color);\n",
              "    }\n",
              "    80% {\n",
              "      border-color: transparent;\n",
              "      border-right-color: var(--fill-color);\n",
              "      border-bottom-color: var(--fill-color);\n",
              "    }\n",
              "    90% {\n",
              "      border-color: transparent;\n",
              "      border-bottom-color: var(--fill-color);\n",
              "    }\n",
              "  }\n",
              "</style>\n",
              "\n",
              "  <script>\n",
              "    async function quickchart(key) {\n",
              "      const quickchartButtonEl =\n",
              "        document.querySelector('#' + key + ' button');\n",
              "      quickchartButtonEl.disabled = true;  // To prevent multiple clicks.\n",
              "      quickchartButtonEl.classList.add('colab-df-spinner');\n",
              "      try {\n",
              "        const charts = await google.colab.kernel.invokeFunction(\n",
              "            'suggestCharts', [key], {});\n",
              "      } catch (error) {\n",
              "        console.error('Error during call to suggestCharts:', error);\n",
              "      }\n",
              "      quickchartButtonEl.classList.remove('colab-df-spinner');\n",
              "      quickchartButtonEl.classList.add('colab-df-quickchart-complete');\n",
              "    }\n",
              "    (() => {\n",
              "      let quickchartButtonEl =\n",
              "        document.querySelector('#df-0084fb54-8531-4984-9563-782839c13b43 button');\n",
              "      quickchartButtonEl.style.display =\n",
              "        google.colab.kernel.accessAllowed ? 'block' : 'none';\n",
              "    })();\n",
              "  </script>\n",
              "</div>\n",
              "\n",
              "    </div>\n",
              "  </div>\n"
            ],
            "text/plain": [
              "       video_id LABEL                                              title  \\\n",
              "0   rxTuq8gymc0  FAKE                                   Dharmendra Death   \n",
              "1   4N3hPrJLbEw  FAKE  Abhishek Bachchan and Shweta Bachchan in Koffe...   \n",
              "2   CfvUr6WAEWM  FAKE                   How To Get 6 Pack Abs In One Day   \n",
              "3   i1rlytoxQ1o  FAKE                    Dark Secrets of Bachchan Family   \n",
              "4   jkytlp91onQ  FAKE                 10 Secret Wife of Bollywood Actors   \n",
              "5   H5k7n8HL3zw  FAKE  Secret Brothers and Sisters of Star Kids in Bo...   \n",
              "6   SM_tuZcFicU  FAKE           10 Beautiful Mothers of Bollywood Actors   \n",
              "7   d_tXC7bkeWM  FAKE                      amitabh bachchan  death today   \n",
              "8   zpM7AumRDSg  FAKE                       amitabh bachchan death today   \n",
              "9   BBzkcPxC2R4  FAKE  Apple iPhone 13 Pro Max - Sneak Peak [𝗖𝗢𝗡𝗖𝗘𝗣𝗧𝗨...   \n",
              "10  97I_wJxDepI  FAKE  Priyanka Chopra UPSET With Shah Rukh Khan For ...   \n",
              "11  OrV6rc_VjhI  FAKE  10 Bollywood Couples Who Are in Long Distance ...   \n",
              "12  1NZiG99SN7g  FAKE           Bollywood Stars who Got Divorced in 2020   \n",
              "13  ttBZffinQeE  FAKE        Why Jaya Wanted to Divorce Amitabh Bachchan   \n",
              "14  zk-DRuNjkc4  FAKE        Bollywood Villains and Their Beautiful Wife   \n",
              "\n",
              "                                          description  likes  comments  \\\n",
              "0   Dharmendra won the Filmfare magazine's new tal...     67        12   \n",
              "1   IBC24, Abhishek Bachchan and Shweta Bachchan i...   1548        95   \n",
              "2   Follow this simple workout and you can have ri...   4715      1095   \n",
              "3   Dirty Secrets of the Bachchan Family. Do you k...  22494      1603   \n",
              "4   These are the Secret Wife of Bollywood Stars :...    583         7   \n",
              "5   These are the Unknown Siblings of Bollywood St...   5052        84   \n",
              "6   These are the Beautiful Mothers of Bollywood A...  17657       223   \n",
              "7                                  bollywood muzic tv      1         2   \n",
              "8                        amitabh bachchan death today      3         1   \n",
              "9   Welcome to Hasan Kaymak Innovations Official Y...    841        56   \n",
              "10  #ShahRukhKhan was one of the stars who got an ...   1550       171   \n",
              "11  Bollywood Couples Who Are in Long Distance Mar...   1450        69   \n",
              "12  These are the Bollywood stars who got divorced...   1477        78   \n",
              "13  Why Jaya Wants to Divorce Amitabh Bachchan?Ami...   1204       128   \n",
              "14  These are the Bollywood Villains and Their uns...   1459        33   \n",
              "\n",
              "      views  \n",
              "0     20230  \n",
              "1    499773  \n",
              "2    797613  \n",
              "3   6107009  \n",
              "4     58117  \n",
              "5    519137  \n",
              "6   2469886  \n",
              "7       238  \n",
              "8       439  \n",
              "9     85225  \n",
              "10   270150  \n",
              "11   434689  \n",
              "12   477577  \n",
              "13   376795  \n",
              "14   205762  "
            ]
          },
          "execution_count": 4,
          "metadata": {},
          "output_type": "execute_result"
        }
      ],
      "source": [
        "df1 = combined\n",
        "df1.head(15)"
      ]
    },
    {
      "cell_type": "code",
      "execution_count": null,
      "metadata": {
        "id": "7iTQVuNRwTHP"
      },
      "outputs": [],
      "source": [
        "df2 = dataframe_translate(df1,['title','description'])\n",
        "df2"
      ]
    },
    {
      "cell_type": "code",
      "execution_count": null,
      "metadata": {
        "id": "fjF8nINca2ed"
      },
      "outputs": [],
      "source": [
        "df2"
      ]
    },
    {
      "cell_type": "code",
      "execution_count": null,
      "metadata": {
        "colab": {
          "base_uri": "https://localhost:8080/",
          "height": 430
        },
        "id": "RgzCrQKagAox",
        "outputId": "f6d81544-42ea-4405-bd83-6eb1c680df08"
      },
      "outputs": [
        {
          "data": {
            "image/png": "[encoded data removed]",
            "text/plain": [
              "<Figure size 640x480 with 1 Axes>"
            ]
          },
          "metadata": {},
          "output_type": "display_data"
        }
      ],
      "source": [
        "fake_real_graph(df2)\n",
        "\n"
      ]
    },
    {
      "cell_type": "code",
      "execution_count": null,
      "metadata": {
        "id": "Rmj512Njf52O"
      },
      "outputs": [],
      "source": [
        "# Combined dataset has been Cleaned and Preprocessed.\n",
        "df2.to_csv('combined_translated.csv',index = False )"
      ]
    },
    {
      "cell_type": "markdown",
      "metadata": {
        "id": "yx2j9pmBCzvm"
      },
      "source": [
        "# Translate MVD Dataset"
      ]
    },
    {
      "cell_type": "code",
      "execution_count": null,
      "metadata": {
        "id": "WEpkidcK7FDX"
      },
      "outputs": [],
      "source": [
        "mvd = pd.read_csv('https://raw.githubusercontent.com/skywalker290/Misleading-Video-Detection-Model/main/Datasets/Updated_MVD.csv?token=GHSAT0AAAAAACOAQOPG73KKJ7PVIRURGIAUZPURYUA')"
      ]
    },
    {
      "cell_type": "code",
      "execution_count": null,
      "metadata": {
        "id": "Cd0iImezFHpi"
      },
      "outputs": [],
      "source": [
        "mvd"
      ]
    },
    {
      "cell_type": "code",
      "execution_count": null,
      "metadata": {
        "id": "rXsXi20LFIlG"
      },
      "outputs": [],
      "source": [
        "df3 = dataframe_translate(mvd,['title','description'])\n",
        "df3"
      ]
    },
    {
      "cell_type": "code",
      "execution_count": null,
      "metadata": {
        "id": "TUuxTVm9SF2h"
      },
      "outputs": [],
      "source": [
        "df3.to_csv('translated_mvd.csv',index = False)"
      ]
    },
    {
      "cell_type": "markdown",
      "metadata": {
        "id": "HPnG-jx_SZMX"
      },
      "source": [
        "# Translate BollyBait"
      ]
    },
    {
      "cell_type": "code",
      "execution_count": null,
      "metadata": {
        "id": "Nnxf_r8tSQjY"
      },
      "outputs": [],
      "source": [
        "bolly = pd.read_csv('https://raw.githubusercontent.com/skywalker290/Misleading-Video-Detection-Model/main/Datasets/Updated_BollyBAIT.csv?token=GHSAT0AAAAAACOAQOPGUF4XBSJABABSNU3AZPUTP4A')"
      ]
    },
    {
      "cell_type": "code",
      "execution_count": null,
      "metadata": {
        "colab": {
          "base_uri": "https://localhost:8080/"
        },
        "id": "5XqdBKh7StGw",
        "outputId": "3d791c79-8dd6-427a-84fb-95afdfa121ae"
      },
      "outputs": [
        {
          "name": "stderr",
          "output_type": "stream",
          "text": [
            "Translating: 100%|██████████| 1686/1686 [01:57<00:00, 14.35it/s] \n"
          ]
        }
      ],
      "source": [
        "df4 = dataframe_translate(bolly,['title','description'])"
      ]
    },
    {
      "cell_type": "code",
      "execution_count": null,
      "metadata": {
        "id": "7IAhS1QWS1LJ"
      },
      "outputs": [],
      "source": [
        "df4"
      ]
    },
    {
      "cell_type": "code",
      "execution_count": null,
      "metadata": {
        "id": "TY20W3uwTcn1"
      },
      "outputs": [],
      "source": [
        "df4.to_csv('translate_bollybait.csv',index = False)"
      ]
    },
    {
      "cell_type": "markdown",
      "metadata": {
        "id": "oy8o7yJ-Hik2"
      },
      "source": [
        "# converting text files\n"
      ]
    },
    {
      "cell_type": "code",
      "execution_count": null,
      "metadata": {
        "colab": {
          "base_uri": "https://localhost:8080/"
        },
        "id": "WlZB_cKEHpeM",
        "outputId": "8fd97abc-67a5-4404-ee6b-951ac1c26323"
      },
      "outputs": [
        {
          "name": "stderr",
          "output_type": "stream",
          "text": [
            "100%|██████████| 1003/1003 [00:42<00:00, 23.63it/s]"
          ]
        },
        {
          "name": "stdout",
          "output_type": "stream",
          "text": [
            "Error Occured In translate Function {RequestError()} &lt;🅣🅗🅘🅢 🅘🅢 🅐 🅕🅔🅜🅘🅝🅘🅢🅣 🅟🅡🅞🅟🅐🅖🅐🅝🅓🅐 🅕🅘🅛🅜 🅓🅔🅢🅟🅘🅣🅔 🅦🅗🅐🅣 🅣🅗🅔 🅛🅘🅐🅡🅢 🅐🅡🅔 🅢🅐🅨🅘🅝🅖. 🅨🅞🅝-🅡🅞🅖🅖 🅛🅘🅔🅢 🅣🅞 🅒🅐🅡🅞🅛 🅦🅘🅣🅗 🅟🅛🅐🅝🅢 🅣🅞 🅤🅢🅔 🅗🅔🅡, 🅦🅗🅘🅒🅗 🅟🅡🅞🅜🅞🅣🅔🅢 🅣🅗🅔 🅕🅔🅜🅘🅝🅘🅢🅣 🅑🅔🅛🅘🅔🅕 🅞🅕 🅜🅘🅢🅞🅖🅨🅝🅨. 🅒🅐🅡🅞🅛 🅗🅐🅢 🅣🅗🅔 🅑🅔🅛🅘🅔🅕 🅣🅗🅐🅣 🅐🅝🅨🅣🅗🅘🅝🅖 🅨🅞🅝-🅡🅞🅖🅖 🅒🅐🅝 🅓🅞 🅢🅗🅔 🅒🅐🅝 🅓🅞 🅑🅔🅣🅣🅔🅡. 🅑🅔🅒🅐🅤🅢🅔 🅒🅐🅡🅞🅛 🅘🅢 🅐 🅦🅞🅜🅐🅝 🅐🅝🅓 🅐🅛🅛 🅣🅗🅐🅣 🅕🅔🅜🅘🅝🅘🅢🅣 🅔🅠🅤🅐🅛🅘🅣🅨 🅝🅞🅝🅢🅔🅝🅢🅔. 🅒🅐🅡🅞🅛 🅐🅛🅢🅞 🅢🅣🅔🅐🅛🅢 🅐 🅜🅐🅝&#39;🅢 🅜🅞🅣🅞🅡🅒🅨🅒🅛🅔 🅕🅞🅡 &quot;🅞🅑🅙🅔🅒🅣🅘🅕🅨🅘🅝🅖&quot; 🅒🅐🅡🅞🅛 🅑🅨 🅢🅐🅨🅘🅝🅖 &quot;🅢🅜🅘🅛🅔 🅖🅞🅡🅖🅔🅞🅤🅢&quot;. 🅣🅗🅘🅢 🅟🅡🅞🅜🅞🅣🅔🅢 🅕🅔🅜🅘🅝🅘🅢🅣 🅘🅓🅔🅞🅛🅞🅖🅘🅔🅢 🅞🅕 🅜🅔🅝 🅞🅝🅛🅨 🅣🅡🅔🅐🅣🅘🅝🅖 🅦🅞🅜🅔🅝 🅐🅢 🅢🅔🅧 🅞🅑🅙🅔🅒🅣🅢. 🅒🅐🅡🅞🅛 🅢🅟🅔🅝🅓🅢 🅗🅔🅡 🅒🅗🅘🅛🅓🅗🅞🅞🅓 🅡🅔🅟🅔🅐🅣🅔🅓🅛🅨 🅣🅡🅨🅘🅝🅖 🅣🅞 🅞🅥🅔🅡🅒🅞🅜🅔 🅜🅐🅛🅔🅢 🅦🅗🅞 🅐🅡🅔 🅢🅤🅟🅟🅡🅔🅢🅢🅘🅝🅖 🅗🅔🅡 🅐🅝🅓 🅑🅔🅛🅘🅣🅣🅛🅘🅝🅖 🅒🅐🅡🅞🅛. 🅜🅐🅛🅔🅢 🅐🅡🅔 🅟🅡🅞🅜🅞🅣🅔🅓 🅐🅢 🅑🅔🅘🅝🅖 🅑🅤🅛🅛🅘🅔🅢 🅐🅝🅓 🅜🅘🅢🅞🅖🅨🅝🅘🅢🅣🅢 🅞🅤🅣 🅣🅞 🅞🅟🅟🅡🅔🅢🅢 🅒🅐🅡🅞🅛. 🅣🅗🅔 🅕🅘🅛🅜 🅢🅐🅨🅢 🅢🅣🅐🅝🅓 🅐🅖🅐🅘🅝🅢🅣 🅜🅘🅢🅞🅖🅨🅝🅨 🅐🅝🅓 🅔🅜🅑🅡🅐🅒🅔 🅨🅞🅤🅡 🅘🅝🅝🅔🅡 🅖🅘🅡🅛 🅟🅞🅦🅔🅡. 🅣🅗🅔 🅔🅝🅣🅘🅡🅔 🅕🅘🅛🅜 🅘🅢 🅐🅛🅢🅞 🅐🅑🅞🅤🅣 🅜🅔🅝 🅤🅢🅘🅝🅖 🅔🅜🅞🅣🅘🅞🅝🅢 🅐🅢 🅦🅔🅐🅟🅞🅝🅢 🅐🅖🅐🅘🅝🅢🅣 🅦🅞🅜🅔🅝. 🅞🅝🅒🅔 🅐🅖🅐🅘🅝 🅐 🅕🅔🅜🅘🅝🅘🅢🅣 🅑🅔🅛🅘🅔🅕 🅘🅝 🅡🅔🅟🅡🅔🅢🅢🅘🅞🅝 🅐🅝🅓 🅔🅝🅢🅛🅐🅥🅔🅜🅔🅝🅣 🅑🅨 🅣🅗🅔 🅜🅐🅚🅔-🅑🅔🅛🅘🅔🅥🅔 🅟🅐🅣🅡🅘🅐🅡🅒🅗🅨. 🅣🅗🅔🅡🅔&#39;🅢 🅐 🅟🅐🅡🅣 🅘🅝 🅣🅗🅔 🅕🅘🅛🅜 🅦🅗🅔🅡🅔 🅐 🅐🅘🅡 🅕🅞🅡🅒🅔 🅖🅤🅨 🅐🅓🅜🅞🅝🅘🅢🅗🅔🅢 🅣🅗🅔 🅦🅞🅜🅔🅝 🅑🅨 🅡🅔🅕🅔🅡🅡🅘🅝🅖 🅣🅞 🅣🅗🅔 🅒🅞🅒🅚🅟🅘🅣. 🅒🅐🅡🅞🅛 🅟🅤🅝🅒🅗🅔🅢 🅨🅞🅝-🅡🅞🅖🅖 🅦🅗🅘🅛🅔 🅨🅞🅝-🅡🅞🅖🅖 🅘🅢 &quot;🅜🅐🅝🅢🅟🅛🅐🅘🅝🅘🅝🅖&quot;. 🅨🅞🅝-🅡🅞🅖🅖 🅡🅔🅟🅔🅐🅣🅔🅓🅛🅨 🅓🅔🅜🅞🅣🅘🅥🅐🅣🅔🅢 🅥🅔🅡🅢 🅣🅗🅡🅞🅤🅖🅗🅞🅤🅣 🅣🅗🅔 🅕🅘🅛🅜. 🅐🅖🅐🅘🅝 🅔🅥🅘🅛 🅜🅐🅛🅔🅢 🅕🅔🅜🅘🅝🅘🅢🅣 🅣🅡🅞🅟🅔 🅤🅢🅘🅝🅖 🅔🅜🅞🅣🅘🅞🅝🅢 🅐🅖🅐🅘🅝🅢🅣 🅦🅞🅜🅔🅝. 🅕🅔🅜🅘🅝🅘🅢🅣 🅢🅣🅐🅝🅓 🅤🅟 🅐🅖🅐🅘🅝🅢🅣 🅣🅗🅔 🅟🅐🅣🅡🅘🅐🅡🅒🅗🅨 🅝🅞🅝🅢🅔🅝🅢🅔. 🅣🅗🅔 🅕🅘🅛🅜 🅘🅢 🅢🅔🅣 🅘🅝 ➊➒➒⓿&#39;🅢 🅐🅝🅓 🅐 🅜🅐🅙🅞🅡🅘🅣🅨 🅞🅕 🅣🅗🅔 🅢🅞🅝🅖🅢 🅕🅔🅐🅣🅤🅡🅔 🅕🅔🅜🅐🅛🅔 🅐🅡🅣🅘🅢🅣🅢. 🅜🅐🅡🅘🅐 🅘🅢 🅐 🅢🅐🅢🅢🅨 🅑🅛🅐🅒🅚 🅢🅘🅝🅖🅛🅔 🅜🅞🅣🅗🅔🅡 🅦🅗🅞 🅗🅔🅛🅟🅢 🅟🅡🅞🅜🅞🅣🅔 🅣🅗🅔 🅘🅝🅣🅔🅡🅢🅔🅒🅣🅘🅞🅝🅐🅛 🅕🅔🅜🅘🅝🅘🅢🅣 🅟🅡🅞🅟🅐🅖🅐🅝🅓🅐 🅑🅡🅘🅔 🅛🅐🅡🅢🅞🅝 🅣🅐🅛🅚🅔🅓 🅐🅑🅞🅤🅣. 🅐🅢 🅐 🅜🅐🅣🅣🅔🅡 🅞🅕 🅕🅐🅒🅣 🅢🅘🅧 🅦🅞🅜🅔🅝 🅐🅝🅓 🅞🅝🅔 🅜🅐🅝 🅒🅞🅛🅛🅐🅑🅞🅡🅐🅣🅔🅓 🅞🅝 🅣🅗🅔 🅒🅐🅟🅣🅐🅘🅝 🅜🅐🅡🅥🅔🅛 🅕🅘🅛🅜. 🅣🅗🅔 🅕🅘🅛🅜 🅘🅢 🅐🅛🅢🅞 🅗🅔🅐🅥🅘🅛🅨 🅘🅝🅕🅛🅤🅔🅝🅒🅔🅓 🅑🅨 🅣🅗🅔 🅕🅔🅜🅘🅝🅘🅢🅣 🅒🅞🅜🅘🅒🅢 🅦🅡🅘🅣🅣🅔🅝 🅑🅨 🅕🅔🅜🅘🅝🅘🅢🅣 🅚🅔🅛🅛🅨 🅢🅤🅔 🅓🅔🅒🅞🅝🅝🅘🅒🅚. 🅚🅔🅛🅛🅨 🅢🅤🅔 🅓🅔🅒🅞🅝🅝🅘🅒🅚 🅐🅒🅣🅔🅓 🅐🅢 🅐 🅒🅞🅝🅢🅤🅛🅣🅐🅝🅣 🅞🅝 🅣🅗🅔 🅕🅘🅛🅜 🅒🅞🅐🅒🅗🅘🅝🅖 🅑🅡🅘🅔 🅛🅐🅡🅢🅞🅝 🅞🅝 🅗🅞🅦 🅣🅞 🅟🅞🅡🅣🅡🅐🅨 🅒🅐🅟🅣🅐🅘🅝 🅜🅐🅡🅥🅔🅛. 🅣🅗🅔 🅕🅔🅜🅐🅛🅔🅢 🅐🅡🅔 🅣🅗🅔 🅟🅡🅞🅜🅘🅝🅔🅝🅣 🅗🅔🅡🅞🅔🅢 🅘🅝 🅣🅗🅔 🅕🅘🅛🅜 🅦🅗🅔🅡🅔 🅣🅗🅔 🅜🅐🅛🅔🅢 🅐🅡🅔 🅓🅞🅦🅝🅟🅛🅐🅨🅔🅓. 🅐🅖🅐🅘🅝 🅕🅔🅜🅘🅝🅘🅢🅣 🅟🅡🅞🅟🅐🅖🅐🅝🅓🅐 🅟🅡🅞🅜🅞🅣🅘🅝🅖 🅖🅘🅡🅛 🅟🅞🅦🅔🅡.&gt;\n",
            "\n"
          ]
        },
        {
          "name": "stderr",
          "output_type": "stream",
          "text": [
            "\n"
          ]
        }
      ],
      "source": [
        "translate_file('/content/Datasets/Combined_Comments/0LHxvxdRnYc.txt','/content/drive/MyDrive/Translated_comments/0LHxvxdRnYc.txt')"
      ]
    },
    {
      "cell_type": "code",
      "execution_count": 42,
      "metadata": {
        "id": "PDo7TEH4GR5k"
      },
      "outputs": [],
      "source": [
        "directory = '/content/Datasets/Combined_Comments/'\n",
        "save = '/content/drive/MyDrive/Translated_comments/'\n",
        "files = os.listdir(directory)"
      ]
    },
    {
      "cell_type": "code",
      "execution_count": 43,
      "metadata": {
        "id": "P7HKYe5HNmG0"
      },
      "outputs": [],
      "source": [
        "Comments_log=[]"
      ]
    },
    {
      "cell_type": "code",
      "execution_count": null,
      "metadata": {
        "id": "RJseP81FOaOg"
      },
      "outputs": [],
      "source": [
        "import os\n",
        "from concurrent.futures import ThreadPoolExecutor\n",
        "import tqdm\n",
        "counter = 0\n",
        "\n",
        "# Here A thread pool is created from which we assign each thread to translate a file from the files list.\n",
        "\n",
        "def process_file(file):\n",
        "    global counter\n",
        "    try:\n",
        "        print(file)\n",
        "        print(counter,\"/1704\")\n",
        "        counter = counter +1\n",
        "        # if not os.path.exists(save + file):\n",
        "        translate_file(directory + file, save + file)\n",
        "\n",
        "    except Exception as e:\n",
        "        return f\"{file}: {str(e)}\"\n",
        "    return None\n",
        "\n",
        "with ThreadPoolExecutor() as executor, tqdm.tqdm(total=len(files), desc='Overall Progress') as pbar:\n",
        "    results = list(executor.map(process_file, files))\n",
        "    Comments_log = [result for result in results if result is not None]\n",
        "    pbar.update(len(files))\n",
        "\n",
        "Comments_log\n"
      ]
    },
    {
      "cell_type": "code",
      "source": [
        "# This Function finds all the filenames at the given directory which have a <error> tag in them and then returns a list.\n",
        "def find_error_files(directory):\n",
        "    error_files = []\n",
        "    for filename in os.listdir(directory):\n",
        "        try:\n",
        "            with open(os.path.join(directory, filename), 'r') as f:\n",
        "                for line in f:\n",
        "                    if line.startswith(\"<error>:\"):\n",
        "                        error_files.append(filename)\n",
        "                        break\n",
        "        except Exception as e:\n",
        "            print(f\"Error processing file {filename}: {e}\")\n",
        "\n",
        "    return error_files\n",
        "\n",
        "\n",
        "directory = \"/content/drive/MyDrive/Translated_comments/\"\n",
        "\n",
        "error_files = find_error_files(directory)\n",
        "\n",
        "with tqdm.tqdm(total=len(error_files), desc=\"Finding error files\") as pbar:\n",
        "    for filename in error_files:\n",
        "        print(filename)\n",
        "        pbar.update(1)\n",
        "\n"
      ],
      "metadata": {
        "colab": {
          "base_uri": "https://localhost:8080/"
        },
        "id": "CFs5Ao8THFZ3",
        "outputId": "a7b1295c-634d-4262-f585-ab23f572b0a4"
      },
      "execution_count": 50,
      "outputs": [
        {
          "output_type": "stream",
          "name": "stderr",
          "text": [
            "Finding error files: 0it [00:00, ?it/s]\n"
          ]
        }
      ]
    },
    {
      "cell_type": "markdown",
      "source": [
        "Here we process the error files which have got a <error> tag in them\n"
      ],
      "metadata": {
        "id": "k41NWBhZ_H_u"
      }
    },
    {
      "cell_type": "code",
      "source": [
        "from concurrent.futures import ThreadPoolExecutor\n",
        "\n",
        "counter = 0\n",
        "def process_file(file):\n",
        "    global counter\n",
        "    try:\n",
        "        print(file)\n",
        "        print(counter,\"/214\")\n",
        "        counter = counter +1\n",
        "        # if not os.path.exists(save + file):\n",
        "        translate_file(directory + file, save + file)\n",
        "\n",
        "    except Exception as e:\n",
        "        return f\"{file}: {str(e)}\"\n",
        "    return None\n",
        "\n",
        "with ThreadPoolExecutor() as executor, tqdm.tqdm(total=len(error_files), desc='Overall Progress') as pbar:\n",
        "    results = list(executor.map(process_file, error_files))\n",
        "    Comments_log = [result for result in results if result is not None]\n",
        "    pbar.update(len(error_files))\n",
        "\n",
        "Comments_log\n"
      ],
      "metadata": {
        "id": "2U5UQifunPAy"
      },
      "execution_count": null,
      "outputs": []
    },
    {
      "cell_type": "markdown",
      "source": [
        "Now we remove all the emojis from the files."
      ],
      "metadata": {
        "id": "VbK_4fWt_jEv"
      }
    },
    {
      "cell_type": "code",
      "source": [
        "from cleantext import clean\n",
        "\n",
        "def remove_emoji(text):\n",
        "  return clean(text, no_emoji=True)"
      ],
      "metadata": {
        "id": "arC5-fVsK4oM"
      },
      "execution_count": 5,
      "outputs": []
    },
    {
      "cell_type": "code",
      "source": [
        "import cleantext\n",
        "\n",
        "directory = \"/content/drive/MyDrive/Translated_comments/\"\n",
        "\n",
        "for filename in tqdm(os.listdir(directory)):\n",
        "  file_path = os.path.join(directory, filename)\n",
        "  with open(file_path, 'r') as f:\n",
        "    lines = f.readlines()\n",
        "\n",
        "  with open(file_path, 'w', encoding='utf-8') as f:\n",
        "      for line in lines:\n",
        "          cleaned_line = remove_emoji(line)\n",
        "          f.write(cleaned_line.strip() + '\\n')"
      ],
      "metadata": {
        "colab": {
          "base_uri": "https://localhost:8080/",
          "height": 228
        },
        "id": "0iiZv_FFNUW6",
        "outputId": "876806ac-8fba-4894-ba33-35b555cf033e"
      },
      "execution_count": 14,
      "outputs": [
        {
          "output_type": "stream",
          "name": "stderr",
          "text": [
            "100%|█████████▉| 1081/1082 [01:25<00:00, 12.63it/s]\n"
          ]
        },
        {
          "output_type": "error",
          "ename": "IsADirectoryError",
          "evalue": "[Errno 21] Is a directory: '/content/drive/MyDrive/Translated_comments/Translated_comments'",
          "traceback": [
            "\u001b[0;31m---------------------------------------------------------------------------\u001b[0m",
            "\u001b[0;31mIsADirectoryError\u001b[0m                         Traceback (most recent call last)",
            "\u001b[0;32m<ipython-input-14-1a5865d1418f>\u001b[0m in \u001b[0;36m<cell line: 12>\u001b[0;34m()\u001b[0m\n\u001b[1;32m     12\u001b[0m \u001b[0;32mfor\u001b[0m \u001b[0mfilename\u001b[0m \u001b[0;32min\u001b[0m \u001b[0mtqdm\u001b[0m\u001b[0;34m(\u001b[0m\u001b[0mos\u001b[0m\u001b[0;34m.\u001b[0m\u001b[0mlistdir\u001b[0m\u001b[0;34m(\u001b[0m\u001b[0mdirectory\u001b[0m\u001b[0;34m)\u001b[0m\u001b[0;34m)\u001b[0m\u001b[0;34m:\u001b[0m\u001b[0;34m\u001b[0m\u001b[0;34m\u001b[0m\u001b[0m\n\u001b[1;32m     13\u001b[0m   \u001b[0mfile_path\u001b[0m \u001b[0;34m=\u001b[0m \u001b[0mos\u001b[0m\u001b[0;34m.\u001b[0m\u001b[0mpath\u001b[0m\u001b[0;34m.\u001b[0m\u001b[0mjoin\u001b[0m\u001b[0;34m(\u001b[0m\u001b[0mdirectory\u001b[0m\u001b[0;34m,\u001b[0m \u001b[0mfilename\u001b[0m\u001b[0;34m)\u001b[0m\u001b[0;34m\u001b[0m\u001b[0;34m\u001b[0m\u001b[0m\n\u001b[0;32m---> 14\u001b[0;31m   \u001b[0;32mwith\u001b[0m \u001b[0mopen\u001b[0m\u001b[0;34m(\u001b[0m\u001b[0mfile_path\u001b[0m\u001b[0;34m,\u001b[0m \u001b[0;34m'r'\u001b[0m\u001b[0;34m)\u001b[0m \u001b[0;32mas\u001b[0m \u001b[0mf\u001b[0m\u001b[0;34m:\u001b[0m\u001b[0;34m\u001b[0m\u001b[0;34m\u001b[0m\u001b[0m\n\u001b[0m\u001b[1;32m     15\u001b[0m     \u001b[0mlines\u001b[0m \u001b[0;34m=\u001b[0m \u001b[0mf\u001b[0m\u001b[0;34m.\u001b[0m\u001b[0mreadlines\u001b[0m\u001b[0;34m(\u001b[0m\u001b[0;34m)\u001b[0m\u001b[0;34m\u001b[0m\u001b[0;34m\u001b[0m\u001b[0m\n\u001b[1;32m     16\u001b[0m \u001b[0;34m\u001b[0m\u001b[0m\n",
            "\u001b[0;31mIsADirectoryError\u001b[0m: [Errno 21] Is a directory: '/content/drive/MyDrive/Translated_comments/Translated_comments'"
          ]
        }
      ]
    },
    {
      "cell_type": "code",
      "source": [
        "directory = \"/content/drive/MyDrive/Translated_comments/\"\n",
        "\n",
        "for filename in os.listdir(directory):\n",
        "    file_path = os.path.join(directory, filename)\n",
        "    with open(file_path, 'r') as f:\n",
        "        lines = f.readlines()\n",
        "        if len(lines) >= 2:\n",
        "            print(lines[1])"
      ],
      "metadata": {
        "colab": {
          "base_uri": "https://localhost:8080/"
        },
        "id": "umGl7GA6O6Ta",
        "outputId": "7dcb54bd-5369-4348-9c98-cd78afac2ef9"
      },
      "execution_count": 9,
      "outputs": [
        {
          "output_type": "stream",
          "name": "stdout",
          "text": [
            "8 & you can always buy an sd card for more memoryshould i upgrade from galaxy note 10 plus to s20 ultrasamsung with the galaxy s20 ultra just founded the stalkers club. loluh was i the only one that got really uncomfortable when he was spinning the phone around in his hand over the edge at <a href=\"\">6:38</a>2020: galaxy s20 ultra2022: galaxy s20 ultra instinct2025: galaxy s20 god modei'm ready to pre-order the ultra, trading in my note 10 plus. i like the 5g speed i'm getting on my oneplus 7t 5g mclaren and i can't wait to see this massive 6.9\" screen!or you could get a nice s6 or s7 and an amazing camera for photoswhen people expected for s11, samsung made s20 :di am going for the s20+ because i think after awhile with having the ultra that huge camera bump will start to annoy the heck out of me but this is making me leave my pixel to retirepeople need to stop throwing money at flagships. $1400 for a phone that will be topped in a year is stupid. at this point smart phones are commodities. the flagships dont actually net you anything than luxury and brand. mind you, you can buy a used s9 for sub $200 pretty easily.why the fuck arent your videos doing 60fps?just give a thicker phone and remove the camera bumps? could have been a 6000 amp battery they are already so thin k with a case sure it would be way to thick but not every one is so unlucky or stupid to drop his phonei hope you do a giveaway, with my wedding coming up my wife to be will only let me get this phone if i win itlol u are a apple lover !!!!!when a phone has more ram than your gaming laptop<a href=\"\">1:28</a> nicedex?yo i'm just going to wait until 2022 until the s20 ultra is being sold for $700man the audio in this is satisfying.these prices are just ridiculousthis phone has more ram than nasa had on all the apollo missons combined...its storage is also triple the storage the soyuz missions had available until the breakup of the soviet union...that camera thing on the back is hideoussamsung s20: zoom 100xiphone 12 : microscope<b>i doubt the battery would last even 15 hours. with 6.9&quot; screen and 200+ hz refresh rate, one would need power bank all the times</b>my only issue is for 1399 you have to provide more than 3 years of slow software updates. it's ludicrous at this point to think otherwise! -still want the phone thoughpretty much $1,000 of camera and $400 of actual phone. this is made for women who spent their lives taking pictures of themselves and their meals.why didn't they just add a pen and call this the note?still wanna know where he bought this shirti wanna know where he got this shirt, its dope.my samsung s8 plus phone is still best phone in the world.jordan 1it has 108 mp wide angle camera..u r wronggive away that phone to me pleaselens is irrelevant. it's the sensor that creates the quality and phones can only accommodate a teeny tiny sensor.so looks like samsung completed the oven rangerazer phone 2 had that display 1-2 years before the samsung s20 ultra!(watching on my razer phone 2)honestly the only thing i'm pissed about is the massive phone size.i wish the s20 ultra came in a 6.1 inch size or 5.9, my current s9+ is already hard to use with one hand.i wish phones were more small-hand friendly, shit fucking sucks.used to be something called a 7\" laptop...this one run autocad or archicad ?! or maybe catia ? loli'm not coming back!i got mines pre-ordered through an upgrade program so i'm getting the phone for like 800 because i can trade in my samsung s9+ to get a 100 discount + the extra 200 o2 is giving me and the phone is like 1,200 here in the uk.everytime a galaxy comes out :this is the best display evermaybe the phone should be called the \"s20 ultra flex\"i'm still running my galaxy s8, but shes getting slow and the battery drains faster these days. eyeing the s20+ probs keep it 4g toosounds and looks awesome, can't wait for it to hit the shelves!!!samsung: let's release a 1399$ phone to all these broke tech enthusiasts. us geeks that wanna support advancements in technology: well that wasn't very plus ultra of youdid not watch the other viddo you think that the s20 ultra will work fine with the osmo 3 gimbal?@marques: please upload the camera comparison with other flagships!!! this would great helpi have noticed that mkbhd from an impartial assessor had become iphone fan and samsung hater. i watch the videos because i hope he would get out of this enchantment but i notice the opposite - the enchantment goes deeper.huawei : 50x zoomsamsung : 100x zoomagain huawei : 500x zoomagain samsung : 1000x zoomapple : hold my 2x zoomwhen a phone gets better than your old shitty desktop pc, you might should upgrade your desktop pc :pcan you give me this mobile i must need thisipad will gonna be a pocket phonewhy don't you record 60fps for particular videos?please give me.......my contact no.+91-9993275521 please sirlots of phone tech is boring. what will i be doing with 16gb of ram on a phone? crappy isn't it!for me its ultralooks like a bad copy of iphone 11 proi actually did go watch the other video first loli watch you as technical guruji is a b*tch and always uploads in hindii can't wait to see phone in 10 years from now they are gonna be insaneyou could strap on a $8,000 dslr camera to and android and the snapchat quality will still be the same as an iphone 3gthis phone can produce 120hz (40 more than my monitor.)it has almost as much ram as my pc and it has 4k resolution. i might as well run bfv on a phone. or i should get a super computeruseless<a href=\"\">7:33</a> subscibed.. you mispelled subscribed :)honestly wish they would just let apple do their cameras for them just like they've been making screens for apple.wish i have one of that for freethe ipad mini was 4:3 . this is 400:9 hahahahawhere's the health sensor? the pulse oximeter sensor??oh, a lot of camera together that looks like it doesn't make me wanna puke.i will go from a samsung s8 to the s20+ i thinkim german and that camera can do 5x optical and 10x digital.them phone prices have gotten ridiculously too damn high. 20 years from now people will have to make a decision to buy a new or buy a new .8k vid when 4k ain't even mainstreamyou get 6.6 million views and the only test you do with the camera which is the highlight of the model is zooming in on a book hahashould i go for the s20 ultra it the iphone 11pro max? please reply16 gb ram and all the latest spec.. well.. does it have a 'snake' game like my nokia 3310?\"i don't know what you do with your periscope\"they copied apples camera designwe are now in the land of diminishing returns with phones, if you have the s9 or the s10 the update will not feel substantial.who else actually went and watched the video i clicked on this first because it had 108 megapixels in the title but mkbhd said go and watch the first one so i did and i am glad i did otherwise i probably wouldn't have understood it properlyloving my m30s...watching this on my iphone 7. i'm guud.yeh mkbhd ...........bhai bhai bhaimaybe the s20+ is the sweet spot but why don't you try xiaomi mi 10 proultra!!!!!nooooooo!!!! i need my edge display!!!instagram \"models\" everywhere are rejoicing & running out to get this phone. of course in payments.marques talking 'bout the 108 mpix kamera, and says: \"i've already made a whole video about this, and i'll link it below\"where do i find that link... or even better the video itself?<a href=\"\">1:18</a> materials are another same as s20 and s20+. s20 ultra have stainless steel frame same a iphone.this is not a phoneno phone jack - deal killersamsung is desperate to keep up on applethis guy is great. unbox therapy started doing loot crate scams and other forms of blatant cuckholdery so it looks like this is the spot nowthis is crazy af brosounds and looks amazing, so glad they have moved away from the waterfall edge and upped their camera game... but what does this ultra mean for the note?what you say about numbers is very true.i'm still super pleased with my galaxy a70.. i'm curious what will be out when it starts to fade on me..deez nuts goodem. <a href=\"\">1:34</a>officiall end of headphone jack *rip*.i'm going to wait for the final review to make my decision but i definitely need an upgrade.you haven't actually used this phone. everything you've just mentioned we can look up. sorry man but your review was now help. next time actually try the phone out.why 865 and not 855?arun's video on oppo reno 10x zoom too zoomed to moon. no no samsung, you're just motivating creepsters who spy!skip all the s20s go to the ultrapollii sadanamsamsung has been lazy for a while but man what is the point of this??? who is this even for? how does this even remotely make my life easier/better for 1400?the phone looks great but at that price there's no way. phone prices are really getting out of hand.with all these useless upgrades, we cant even use it to show off over youtube, instagram, facebook, etc coz all photos or videos doesnt support high resolution upload..no matter how good the hardware is but if they have junk processing software, camera will still suck!! biggesr regret is buying s9+ at launch instead of waiting for a couple of months for huawei p30 pro.hey marques, gime the phone for freethis or pixel 4 camera?samsung galaxy s20 ultra. how's the big battery treating?is there an \"e\" version again? i really want a smaller phone and not an ipad mini as you described.nice, but no! it's over kill. however it still looks awesome!100 times zoom is perfect for stalking lolis it a phone or a camera with a sim option .suck next look like note 10 lol are you f*<b>***</b> kidding me samsung s phones suckholy shittttt.....i wish i could afford this device one dayi want itheyyy...it look like iphone 11 camera !a 64 and 128mp camera with a 120hz quad hd screen and 128gb base storage etc. yeahhhh the new iphone is going to be shit in comparisonmay i ask where did you get that t-shirt? really cool! great reviewwhy don't you understand people. you guys compare latest 2020 flagship work last years iphone and declare a winner. but them releases their new 2020 iphone they become king again. lol sand for other companies hahahahahaahnow apple will release aphone for 2000$samsung runs the phone game, i dont know why everyone is so stuck on iphones.. i'm planning on getting this phone even if it's more expensive than the best iphone.. it's worth ithe: welcome backme: i didn't go nowhereplease make a zoom video$1400 but they are too cheap to put in a headphone jack.i wish i am also the one you to give me at least samsung s9 plus..my phone samsung s6 is broke it touch i can't use it properly and its too old. i want to use latest samsung flagship. i appreciate so much if you granted my wish..i am also your #1 huge fan always watching your youtube videos..good one..the best review ever<a href=\"\">5:37</a> ohh, you know... you know exactly what they&#39;re doing...this phone has more ram than my dam laptop what the helli used to be excited about new phones, now they all seem the same.still not an iphonethe point is the price.. samsung exceeding their price apple will increase their price of 2020 models aswell then and everyone will just have fun in comments for the price but the truth is these prices are crossing their limits.. no phone makes sense of this price range.yo bring back the histogram shirtlol huawei. is bestiphone 6s's base storage was 16 gb. and that was just five years ago.can you do a review on the new galaxy buds +ultra100x zoom & 5000mah battery!! i hope it doesn't blow off. by the way, you guessed it right, i'm an iphone userwe need a camera testso samsung makes an expensive phone, people stress.. yet apple has been selling over priced rubbish for ages.. hypocrites.<a href=\"\">1:15</a> i want this wallpaperplease make a video for the best bang/buck phone, which one is worth the money in reality. thank you!ohhh i hear the xiaomi mi 10 pro is the highest ranked phone on dxo marks at the moment, hope this phone'll beat it!!!so this is bigger than any note. will the the note still be relevant? how can they make it different to thisnobody got time for that , i'm skipping your this video now .attach the phone with high zoom to a drone: pervs and pedophiles getting excited.marques the g.o.a.t.this guy only likes samsung and iphones if it was lg with that bump in the back...this phone got more ram than my both laptops combined...design mmmm going backwards...the galaxy s20 ultra cannot do 960fps super slow mo, but the normal s20 and s20+ can.your intro's always wake my kid up. -.-i went to watch the other video then came back to \"ok welcome back\" right on timei like your rainbow carpetdont tell me what to do, bitch!isn't it funny how they have such a massive jump in name from s10 to s20, yet it's the smallest innovation since the s series of phonesit doesnt automatically mean the camera us better but it is betterdo you allow to record 4k video longer than 5 minutes?the phones are fantastic yet i'm still using a 512mb ram, 4gb storage phone and i believe its the slowest \"smart\"phone in the world!!!i am buying the ultras20 ultra vs rog phone ii???lagai from syria lost my family in the war and needed helphe seems salty he doesn't have 5g yeti love samsungi kinda like my \"old\" s10e, i mean i use the backpack for the laptop and all i have left are regular pockets...the s20 ultra's display is 1 sq inch smaller than an ipad mini'slet that sink inwhen note 20 ultra flip?can't wait to see what oneplus comes out with this yearcan you give me that phonelike flossy says...the price is tgh for mei'd stilkl choose my all screen mi mixx 3in hopes that samsung's software is even remotely close to the pixel's, i'm going to pick up the s20 ultra... i may wait to see some camera comparisons though.how about a telescope instead of 108 mp camera & encyclopedia ^encyclopedia instead of 512/t....&&this phone already scores more than i did in my 14 years in school and 5 years in collegethis dude is boring....&quot;it&#39;s a 6.9 inch [...] display, which is <b><i>nuts</i></b> ... it&#39;s just <i>absolutely massive</i> to have that nearly 7-inch screen in your pocket.&quot;oh, marques.in future we may have a phone that can zoom into other galaxiescamera pixel 108 fake pixel just number i think huawei p30 pro camera is mach betterskeptical on the mp counts about how they perform. in-camera composites? either way, it's still on in a camera phone. not going to look at good as interchangeable lens cameras for dof.i didn't know cameras came with phones!why stop at 4 cameras? just go balls out and make the entire back a camera.goodwowultra foreverwe no need 100x zoomno one realizes that this has slofie?!?!?i disable bixby over googlenokia, motorola did mistake not switching on anoroid. samsung iphone took all market.this man is anti samsungram byte is the same as my desktop...man its ugly.i lovd samsung brand the best .but my money only cam afford a midrange samsung phonei guess this is the first phone that actually looks huge in marques hands1399 usd for a phone: no, thanks!this back is really uglywhat a huge disappointment: no 4k video at 120 hz!what a huge disappointment: no 4k video at 120 hz!what a huge disappointment: no 4k video at 120 hz!this guy has more ram than my pccan phone makers stop adding more cameras and just start making a single jaw dropping one. dslr level.<a href=\"\">0:44</a> aint nobody got time for thatmy s10+ is doing great ill stick with ityear by year , smartphones gonna cost same as your motorcyclecile stworth itultradoes it have wireless powershare like the s10 and n10 did?unfortunately, samsung is still married to android. the only deal-breaker for all samsung phones in my opinion. if they made their own software and convinced google to let them do it, they would have tremendous changes. like iphones, things like snapchat and the front camera would feel extremely smooth. no matter how good the hardware is, there is always that \"android lag\" that feels disappointing.do a comparison vs the xiaomi mi 10 prowell shit. no more relying on samsung for the best phones while cheap.wait... why 240hz tho?s20 ultra definitely. unless a better phone comes out from one of the other phone companies.but can it make a phone call ?<a href=\"\">7:02</a> you wrote all that on the phone.apple : lets launch a $1500 iphone<a href=\"\">1:38</a> whose foot is that?i did not see the s20 video.........are you angry?why am i watching this when i just have an s7 with a cracked screenin this case, rockstar please port gta v on androidalmost as ugly as the iphonepeople in 2007: \"oh my phone has a camera\"2020:\"oh my camera has a phone\"thick phone for best batteryi better be able to call obama if im gonna buy a phone for 1,400 dollarswell that crazy zoom will come in handy when you are travelling i guess - imagine, you can now zoom in properly and take a great photo of that iguana ;)very reasonable and unbiased points as always, this is why you're a great tech reviewer!what's it with pajeets and new releases ? flooding the comment sections with stolen memesmarques \"but\" brownlee<a href=\"\">5:55</a> when you cant point anything samsung doesnt have than you just dislike their developed featuressmhwhat i&#39;m more interested in is why this phone is dangling over the ledge at <a href=\"\">6:23</a>... just please take like 2 steps back, my palms are sweaty.at school in the hallway i used wrap photo film in aluminum foil set it on fire too create an awesome smoke bomb.. the whole school would get evacuated .... i miss those daysbut does it have imessagegreat video . i'm going for the ultra or the note 20 if they make it. i have an s9 plus so i'm waiting for android 10 on the verizon network. by august after the note comes out i will make the decision.ugh. this thing is hemorrhaging gimmick after gimmick after gimmick. samsung doesn't care about making the ux awesome. they only care about what their devices look like on paper. it still has a tiny sensor so 108 megapixels is so useless. all it's doing is taking up farrrrrr more memory on your phone. or forcing you to pay for cloud storage, or buy a ton of extra physical memory for the thing. it isn't a well thought out execution and it's so obvious. instead of packing a device to the brim with crap like ram and megapixels they ought to think about how they can make their devices more optimized for a better experience.iphone 11pro max: no one can beat me samsung s20 ultra: hold my beer..subsribe my channel please2k 4k 8k resolution video ram increased to few kb to 16 gb of ram, camera resolution increased to vga to 108 mp .where will these rat race end in terms of insane specs.6.9 inch display. nicewelcome to ugly phone design ...fyi, huawei and oppo periscope lens are from samsung israel subsidiary corephotonicsit's a very fast and capable spyware. people should stop for a second and ask why they (big tech companies) need to own so much information from us with such subtle details? we are we willingly giving them the access to own our life by supporting their new \"products\"love itapples got some work to do for the iphone 12didn't expect this from samsung,now even they have turned greedy to attract noobswho the hell is going to film their kids' soccer game in 8k??!!samsung:we have 108 megapixelsnokia: 108mp, at $2000, we have 240mp for only $500$2000,the camera bump is acan't wait to see how that space zoom perform, i'm liking that 40 mg front camera and larger display. samsung may get that 1399 from me.maybe someone will finally find sasquatch.the phone is good just the colors can be better and the price can be lowers20+ worth upgradingpeacei honestly don't like the way it looks and prefer the standard s20s. the ultra looks chunky in the wrong places.i know a way for you to show the refresh rate use a slow mo shot i am pretty sure your red can handle itnice jordans!samsung: 16gb ram phoneme: cry in 4gb ram laptopstill no facetimeand everybody said apple was gonna have soooo many camerassamsung is god.any only apple users change to android? consideringcan you still call someone though?please can you review the samsung a71it better take pictures the same resolution of my eyes or im gonna kill somebodyultra rules for me but first i need to see que oneplus 8t mclaren editioni will take one!you know as well as all of us.. if apple comes out with the same cameras.. we would be praising it more then you are now.. i have a iphone xs...if the ios 12 doesn't deliver... i will be going back to samsung.mahalo for the videocool phone but will be forgotten about because samsung won't update the software after 2022my gf will need that 100x zoomyou need to get a normal sized hands person to hold this for you.damn your hair cut ugly asffuck right off samsung.you talk about a mobile like it was a nasa spacial transponder...& you know something? it is not.i bought my hyundai elantra 1.6 motor with 13000km on it with zero problems for less than 1300$ in sweden , phones are getting really expensive men thats alot of money for a fucking phone that just do the same shit that any other phone since 2015 does. we just keep buying just because of \"\" yea why not \"\" . that's stupidam getting this onethey're in the 20th already tf$1400 and no headphone jack and ir blaster.does this mean all samsung users are now gonna have better insta stories or nah?google pixel and iphone users hit a thumbit's the lebron james of phones...a locomotive coming at you at full speed!!!samsung make great phones and always new things add to their phones6,9 inchesnicesamsung: 16gb ramme: my phone 16gb storage am ok no big differencethey should call it: quick flexonce samsung realized that customers would pay more than $1.2k they went crazy over the price of flagship phones.thanks appleit's expensive6,358,240 - 4,439,796 = 1,918,444view for s20 ultra minus views for s20 and s20+looks like ya'll been cheating here.nice bro ...frombro i use s3 mini, i follow it so much, don't you have a conscience, would you die if you gave your brother a nice gift ? hiiiinicehey marques, nice one theres. what's the name of your wallpaper behind you? can i get a link to where you got it? want to get some for my new place. would appreciate the help. thanks<a href=\"\">5:03</a> omg...i used to like it when the word to use before 'pro' or ultra' or whatever was turbo. everything was turbo. even turbo sunglasses lol100 times zoom to see the alienssoon if samsung keeps on going the way it is we will explore the new galaxies with the phone but i have i phone just because the app and google maps looks too good in it..this shit sick fham i rather get this not yeo<a href=\"\">1:31</a> oops it&#39;s samsungawful designno under display camera, so old tech here. i'll waiti'd never thought that i'd see 16g ram, and 108 megapixel camera, 40 megapixel selfie, and 8k video on the phone in 2020....samsung did again!!s20 ultra has no snapdragon 865 in europe, it has exynos 990 which is 20% slower (but is doesn't cost less money). many europeans will miss that fact and wont understand why gameplay isn't stable and smooth all the time on their device. for europeans, if you want the best, the s20 series aren't because of this.hey marq do you think it's worth it to upgrade from an iphone xs max to this ? i like watching videos on my phone mainly youtube\\snapchat and gaming so i definitely dig the bigger screen and i'm sick of the face lock and want to use the fingerprint thing like the old dayshonestly prices on flagship phones r getting bizzare...next gen price will prolly be within 3000 dollar range...there is no sub-6 in malaysia and some other countries in my region. also, s20 and s20+ that will be sold in my region will not support 5g completely.still snapchat will suck on ityou know it's crazy tech when there is zero talk of call quality!do you think that there is a note version is coming?'ultra' is samsung's version of 'pro', they dont throw that word around as gratuitously as some other manufacturers right now.im dyingbut it doesn't have a headphone jack..i don't even use the camera on my phone that much...15,510 comments - you will need an ai machine to read them. telephoto lens and 100x zoom is great for construction sites.don't see the link to the 108mp camera video.yo marques. am a fan of yours but after watching so many of your reviews on samsung phones i noticed a subtle sarcasm and fallacy towards samsung devices. are you on apple's payroll? you should be grateful for how samsung is pushing technologies forward unlike apple. your reviews used to be neutral and informative which helped greatly in the past when it came to packing that purchase decision. now you seem very bias. come clean to us please.my brain-s20 ultramy heart-s20 plusmy hands-s20just one question ....what will i do with 16 gb of ram?6.9 inches. nicewelcome to my channel that provides the best voices for the recitations of the holy quran.sniper version of smartphones cameradoes its camera look as good as a professional camera help me out should i get a iphone 11 and a professional camera ora samsung s20 ultrai don't like big phones. one hand should be able to hold it comfortably while my other hand is busy. if you know, you know.why i have a feeling that mkbhd now-a-days does not recommend any other smartphone other than apple iphone.s u b s s u b s here returned helpwhen phone getting 40mp selfi cameraand i have still mobile with 16mp main camera16gb ram is a dream come true for emulationthe day a smartphone became a laptop in the pocket !no headphone jack?finally i'm going to capture ufo's now\"why did samsung and apple skip 9?\"\"bcz 7, 8, 9\"i only have one camera on my phonei got to $1400... do the people who buy these lie/pretend they brought the cheaper verion to avoid judgement? anyone on here thinking they need this?rip headphone jacknot sure why mmwave is supported on ultra but not on s20,althought both have same sd865modem40 mp front camera? come on, that's just retarded.this s**t is getting boring. there is nothing unique at all just big numbers.. my s8 is still working just fine.will you buy s20 or face mask? pick your choice.and here i am with my galaxy s7...greatone + 7t pro is unbeatableadd the word impressions at the very start of the video. because as of now, it is worthless as it is. i am in for reviews and not for a quick glimpse and a tease.jesus they are making phones uglier each yearwhy is samsung more expensive then a iphone?2025: samsung is more branded than appleme with samsung: i want apple!!me: is that a gas stove on the back?the s20 camera looking at me like wtfthe world of technology is more complex than medicine nowdynamic amoled displayhi marques,you are very well explanation for all videos .peace we are following @turkey.honestly,you are hearty video.that phone chunkysamsung cheat .... they should have samsung s11 first.. they jumped staright to s20hello everyone.. good day.! i'm new on youtube. i knew mkbhd most popular channel at all time. thats why i came here for promote my channel.. please check it out my channel & subscribe for logo designs. i hope you support us.. thankswhy they don't launches samsung devices with snapdragon in india even though exynos is a good processor still many people prefer snapdragon this really feels bad they are destroying their own market bcz india plays a big role in market shares as people are just crazy heir in buying devices when they comes to marketbring on the 7 inch phones!!!is \"call\" feature still in there?might as well make the whole back the camera now, damnin vietnam, s20 ultra only 1150$i want that but idont have moneyi read that qualcomm modem x55 used in s20 series supports all bands of 5g frequencies i.e. low, mid and high bands. then, why is it that different models of s20 ultra are offering selected frequencies only for 5g. is the limitation due to the fact that different frequencies require different antennas in addition to the x55 modem and there is not enough space in the phone to accommodate all these antennas? but, i see no such limitation for 2g, 3g and 4g bands as s20 series is offering virtually all the bands for 2g to 4g. is it because only a few antennas are required for 2g to 4g?it's here, it's uglyno curved screen :(in india s20 ultra is cheaper than 11 pro..lolwhen is apple going to do something about iti had a 5100mah in the lenovo p2... so this is the least they could do. impressive nonetheless, what sucks with samsung though is that we in europe get the shitty exynos. snapdragon version is much faster in multicore, as usual.this guy is paid by apple to mock samsungp30: u can zoom the moon.s20: behind moon.even tho the phone is so big, it still looks small in marques' handi'm still using my fkn core prime.this is why i choose samsung every time! and in my opinion, my s8+ s9+, and s105g all had amazing cameras. i was even complimented by an iphone user who's phone was six months newer. so there's that.lmao this phone has as much ram as my gaming pc.2019: phone that comes with a camera2020: camera that comes with a phonesamsung needed that 45w charger money damn. i see a switch to the new oneplus in a few months when the hype dies down.i like turtles.samsung releases phone with 16 gb ramand my phone still has 16 gb internal storage : (insanesamsung releases a new flagship:everyone: <b>this is the best display samsung has ever made</b>go to r/android on reddit. seems like people are finding out samsung has lied about some camera specs on their new s20, s20pkus and s20 ultra. there's a few upset people in there. did samsung lie?in 2021 this device will cost adequate amount of money and we can talking about it )nice videothey should've called it samsung galaxy s20 + ultra ;)2032:the whole back has camera'ssoon we r gonna see a camera with a \" calling option\" as the highlight.the hell you gon do with 16gb of ram? 8gb is sufficient, they should make the chips faster and more efficient in terms of battery consuming not stacking rams up.ouch, samsung finally got 108mp.xiaomi got a new challenger.what about software support?until new iphone comes ins20of course its worth 1399!i have an iphone xr about to change to galaxy s20s20 67,000s20+ 74,000s20 ultra 93,000iphone 11 pro 100,000and $1000 iphone 11 pro sold for $1500 in india.we must apperciate samsungso no heart rate sensornext: samsung galaxy s80 with 8,992832 megapixelsprice:$1293840me: ahh shit here we go again. i need to sell my other kidney, again.so, basically they made this phone for espionage.huawei: we are first to have 50x zoom into the moonsamsung: 100x zoom into the space, wow i see captain marvelhi sir, i really like your videos and i really like the way you actually review the products. i just want you to upload a video on apple service. the way they take huge amount of money for nothing. apart from that on their exchange scheme. which we pay more than half the amount of the product to get back the same product. i really want a video on that coz companies listen to you. and please guide me and contact me if you can help me with my iphone 8 plus issue.anyone have the link for the video he mentioned at <a href=\"\">4:24</a> about the main camera?<a href=\"\">1:30</a> i saw him try to do the iphone backswipedid you changed your mic? it is very \"echoed\" (dont know the real term).it all sounds delightful.but i have absolutely no idea what you're talking about..i just dont understand interpreting specs!?! is it just me? im not tech savy and have a note 9..er still not entirely sure how to use my s pen . must be showing my age!u need a stand for the 100 zoom..i'll wait till august or so for the price to drop a little bit and i'll get the ultra!is it me or galaxys phones are getting more expensive than iphoness10 ke bad s11 nhi sida s20 samsung things aur back camera ka design apple se liya lagta haimehnow where's that winning lottery ticket?? mmm...i am sorry but this is the problem with society. tablets dont emphasize their cameras. it is based mostly on performance. why do cell phones make it a main focus to broadcast the capabilities of their cameras? social media has forced phones to go into this direction. i purchase devices based on performance and functionalitynever count digital zoom as zoom. ever.it's less money than iphone 11 pro max and much better than iphone tooimagine 12/16 gb ram and snapdragon 865ultra impression!on october 4, 2019, the dutch national newspaper trouw published a report with the headline \"tribunal names china a criminal country.\"the opening paragraph read:\"the chinese communist party (ccp) has seized power for seventy years. let us review it together.\"the subsequent text described the ccp's harvesting of organs from living falun gong practitioners and the final judgment of the independent china tribunal in london earlier this year.dutch national newspaper trouw carries a report entitled \"tribunal names china a criminal country\" on october 4.the article stated that the china tribunal's investigations were based on solid evidence and firsthand testimony.\"in order to get live organs and kill people, ccp doctors select organs when the victims are still alive,\" the author wrote.\"as early as 2006, there have been reports that the falun gong practice group is the main target. the ccp's live organ harvesting crimes from falun gong practitioners was confirmed by the tribunal. in addition, the china tribunal also suspects that an ever-increasing body of evidence indicates that the killing for organs also occurs on uighurs.\"my samsung s5 cam zoom donald trump from bosnia on toilet in white houseare you are about only the ultra having mmwave? i thought the plus had it too.fun fact: no one does zoom that much in any time in their lifewatching this on my s8 plus any one ?glue on a domino.when my note 8 dies new phone's / camera 2023 imagineonly mkbhd can hold a 6.9 inch phone and make it look regular sized.the thing about samsung is that, when you process the photos in a photo editing app the result is really bad. the quality is not good unlike iphone, huawei and lg phones i i think they have considered this aspect.i will never pay to a phone more than 700 usd. no matter how much i earn. i think its really a waste since there will be better version coming next year.how ironic he uses the apple watch series 5awesome video bro i like the way you do your jobi've yet to see a phone review where anyone actually talks about it's ability to make & receive calls...but sony is freaking out about asking 500 for the ps5you know what we will be doing with that zoomall these smart \"phones\" are way too massive. cannot wait for these manufacturers evolve deeper into the 21st century. i'll wait for the new foldable flip phones.i think phones are bad for your eyesight. when will tablets take overjoe: you said 100x zoom ?what's ur favourite phone !!?hiwhen you take good pictures of someone but they look away because of the camerayou are always bias you never talk well about samsung .....unfollowing asap<a href=\"\">6:00</a> no marques, lumia 808 and 1020 had the best smartphone camera for years..if this was running win10, im in !the s20 ultra is overpriced and a niche product. and if you are using 100x zoom that would be really creepy in most cases.you are ugly as fuck marquesmarques can you please do a review on laptops that are suitable for students in 2020 please. thank you i appreciate it.man, these phones are getting crazy. i love galaxies, but for me it's still simple, i like small phones with my goddamned jack! phones are tools, they have to fit to my use and not the other way around.. so if new phones have 20 inch screens, fold 7 times and send signals to jupiter, awesome! but i still want screens that fit in my hand and headphones that don't need battery. call me crazy.i just got a new phoneultraultra or zjust got the note 10+, wish i didn't rush out to replace my dying iphone. done with apple, love owning my files!i'm at the point with smartphones that i would rather get something like nokia 7.2 because it has android one and it's good enough. i don't like bloat, and i don't honestly see any reason to get flagship phones anymore. and i have had flagship phones since iphone 4. i'm just regular phone user, though i like to customize my phone with nova launcher and such. i need battery life, decent camera and small bezels. unless you game on your phone, you just don't need massive performance. only games that need that amount of power are rpg and fps games and it's just crappy experience no matter how you go about it. there's literally no reason to get flagship aside from being amazed at it for a while and then you just do all the same things in it you could have done in your previous phone or some cheaper phone.i would buy samsung phones if they made android one versions, i would even be willing to even pay some extra. i think samsung still makes the best phones. though i don't think i would buy anything that's more than $600. as technology has gotten better, my priority has changed to os and price. because you can pretty much ignore specs and even low end phones have decent camera and small bezels.in marques we trustmaybe hacker could do something with the zoom<a href=\"\">6:25</a> the moment you notice he&#39;s holding a $1400 phone over the edge of a balconycamera still sucks..even 12mp pixel and nokia can beat this what a joke from samsung just failed with the camera and the design so ugly almost like iphone 11 even im not apple fanspls came out with your fresh phone idea of design getting expansive same like apple u know smartphone price will drop samsung from top now at bottom so many model come out so fast please don't be like other smartphone (chinese) brand poor samsungafter he said 1400 dollars i just stopped watching, no piece of crap that will be obsolete as soon as i buy is it worth that muchkiller camerahere i am thinking should i buy s20ultra or a new bike.competition is great for business...i love the times we're living in...camera looks ugly.this video has 6m views and that video @mkbhd is asking us to watch before this has just 4.3m views. people: don't worry we will understand what u sayat this point, samsung is just coming off as try hard like redmi, oppo etc, with gimmicks and marketing stunts. for one thing, apple has done its marketing right.i never left why are u welcoming mei feel gansta when i did not click on the other video and just kept wachting this videothe camera bump should not matter, any sane person buys a good protective case anywayapple: this year we should make a camera which turn to a phonecan you please next time talk about safety on android phoneswow! 100x zoom every stalker will going to love it..love from indiai pre-ordered mine on wednesday! i'm excited. i currently have the s10+ so hopefully it won't be too bigi'll wait some 5 years until this technology becomes commonplace and affordablecmon bruh samsung isn't that bad they did perfect justice which iphone never thinks of. the price is perfect because these aint mi 108 cameras but they are samsung's. apple sells a phone at 1400$ with an 18 w charger. a note 10 or an s10 or oneplus 7t is a better buy then 11maxproall the phone upgrades of the last two years seems pointless to me except for higher refresh rates. i don't feel the desire to buy a new phone and my htc u11+ is from 2017. it's not only that i don't need it, i just don't want to, whereas with cars and clothes and watches it always happen to me that i'd like to buy more. phones used to feel the same way to me. i think that's a symptom of the smartphones companies not being able to offer significant functionality upgrades in the last two years.will apple in september able to show up?....this is big even though on paper...cupertino hope u have smthng up ur sleeve.what????. my laptop is 8gb ram and this phone is 16gb. oohh nooregular s20 is going to be my way to go.hilarious a bit when a phone gets 16gb ram while my pc still runs 4gb ram...hilariously painful though...well i guess that 100x zoom equals no excuses for capturing poor quality cryptid vids.this makes my iphone 11 looks 5 year old. good job samsungmmi think next nikon/canon will make phone better than samsung and applebut apple have superior emojisalready pre-order my samsung galaxy s20 ultra! bye apple apple iphone x useryou can spot your girlfriend's pimples miles away.make your phone beach!wow i am the person who made this new word phodslr.just a few months away from making a phodslr.i don't understand why samsung copied iphone design?the camera technology of this mainstream junk was stolen from huawei p30 pro .priceyway too expensive, waiting for apples answer to that... i think will be much better optionspec is insane. this might finally push me to buy a samsung phonedo rog phone 2 vs s20 linei could never spend that money for a phone with a giant hole in the screenwow! you talk so clear and educated!they should have release this 3 years from now to earlywtf 108mphow did you get the phone before release date?wtf 16 gb ram???...my i5 laptop has 4gb ...i am looking for kidney jokes in the comment section!when phones have 16 gb ram, but my pc only have 4gb.dear mkbhd i am a subscriber to you and a regular viewar. i want to know the problems that the oneplus 7t pro mclaren edition 5g had?bring back taking video on pro mode please!!!you guys are hitting all over the places20 ultra- im the champ!note 20 ultra- hold my lens brothaindia has been paying $1500 for iphones since iphone 8 launch so now same pricing model is being followed in the us as wellsamsung is the fashion nova of technology100 mp digital zoom = 100 mp of bs.ultra, ultra, ultra, ultra, ultra! tj combo winssamsung in 2022: \"our phones are no more fingerprint magnet. we have achieved it by filling rear of the phone with 32 lenses. no place to put your fingers on...!!!\"12/16 gb ram? that's more ram than my laptop...i am in for the flippy screen one!!i don't like iphones, but when other brands make ugly sensors no one says anything about itmalayalikal undoshow some pictures or images taken vs quality dumb.16 gb of ram my phone calls are going to have insane fps browhy does everybody think big screen = good screen?i need a new wallet its ripped( literally) , i hope that they come up with wallet in ? or on ? the phone, that will be awesome!!!!!im an android user but somehow i agree on the 12mp iphone vs 100mp samsung. how i wish samsung make better camera than iphone.<b>marques asks to watch his previous video</b> <b>literally this video having more views than his previous video*. *marques: am i a joke to you</b>at this point i don't even care anymore about phones what a waste of money now so much more you could do with 1500im so excited for when the note comes... who knows what samsung has under its sleeve for that... im pretty sure the note20 is going to be a monsterultrai'm waiting for the next galaxy note plus or the galaxy note ultra phone... will probably be about $1,500, but i'm still using the galaxy s8+, which still works well and looks awesome, so i've had time to save $$$... i'll be crying & kicking myself once i spend it though... lol... i spent $1,500 on the apple ipad pro 12.9 256gb with accessories... it was almost worth it- minus the $180 dead beat keyboard...it's funny how we thought the \"galaxy mega\" from 2013 was huge (6.3\") and nobody would buy.. and now ppl are buying (6.9\") phones for 1400$.what a crazy little world we live in. :/next year 144hz displayremember when the most important part of a phone was the sound and if you can hear the other person's voice clearlyliked the new intro with neomorphism1400 euro for an mid end exynos cpu in europe...nice intro. airpods pro suckwhat is that small black dot under the flash in the quad camera setup?????compare ultra wide with iphone specifically it has larger sensor check qualityrip apple samsung destroys applenow i will see a lice for my grandmother using optical zoom galaxy s20 ultrahahahahaha what the fmy parents live under the flight path of an air force base. that 100x would be great to capture the aircraft flying overhead.just discovered your channel a few weeks ago...wish i would've found earlier...great job~~ i was wondering if you knew the names of the companies making the cameras/sensors in the s20s? i know there are multiple camera companies but can't seem to find which companies are making the cameras for this galaxy version. thanks for answering and wish you continued success on the channel.where is the video about the 108mp camera he&#39;s talking about at <a href=\"\">4:32</a> ?16g ram or what?????i phone copy samsungdear mr. brownlee , please compare the photocapability to the xiaomi mi note 10 . i like to know if it has the same edgeproblems with the quality in photos. its the same sensor , it should ^^ . you know alot about camtech, please tell us why that isdid he just say \"bleeding edge\" ???lols20 ultrasony used to rule all with image sensors.now it's becoming yesterday's newsplease review galaxy tab s6im going to wait for black fridaydood i'd be low-key scared to buy this phone even if i had the moneymarques gets phones so early samsung gave him an s20 but we have to go through s10,11,12,13.....all cameras backsize10years lateri miss the headphonejack.ultra of coursei noticed the breds before the actual phone lolwho tha fuccckk puts a 20sec ad... seriously man.. wtfask for one, dudeah, and there we go with the \"oh apple products are better\" and the \"oh samsung is the best\"like y can't we jussay that apple and samsung products are good.i need 1399 bucks :)homie forgot about the selfie camwhat makes this phone expensive is just the camera, the camera that we don't need.just now pre booked s20 ultra ..very exticted to have in hands. bye bye my s10+and iphone users will still beleive that their phone is betterhi marques i asking you for a favour if you can give me this s20 ultra as a gift and i will be appreciated thatiphone 11 pro or this samsung?so.. where is the camera video?i'm honestly between the ultra and the s20+. not sure if the camera and battery will be worth the extra $200you know you broke when a android phone has better spec than your pcxiaomi mi 10 pro half the money more beautiful designi still love iphonethe samsung software + bloatware is still terrible. i cant buy samsung until they sort this out.support metrump will have this phone banned in the usa due to its 100x zoom. will think its a spy tool.hey please review about mi 10 and mi 10 pro.sooooooo the note isn't the ultra flagship anymore? i don't know what samsung is doing anymore with all the different phones that they're throwing at us but at least they're naming scheme is easier to follow than sony'syeah the weird black rear camera bump is becoming a trend in the smartphone industry,like how fake exhaust tips on m0st cars now.what brand watch are you wearing?if samsung doesn't release a son goku ui themed variant of this, i will literally buy an iphone.<a href=\"\">3:13</a> beautifull shoot i loved itstarting at $1,400 samsung and i aren't speaking the same language at all also i intensely dislike the back design i hated it on the iphone, on the samsung it just reminds me of a six burner stovewait till xiaomi bring out a phone with similar specs but 1/4 the pricewouldn't it become 1 gigapixel already?how fast is the charging speed?why s10 to direct s20 because of its 2020 ? just curiosity..talk to me when they make something practical like technology for having the camera behind the display and appear when you use it so they don't have that ridiculous hole punch at the top of the phone.regular s20hole punch still a failwatching this in my galaxy s8. eeeeerrrrrr.....damn ads they are everywhere\"mark-ass bownleyy\"how does this compare to the note 10 plus? is 120hz really that much faster, for example? i was really looking forward to getting the note 10 plus, but now, i am not so sure.without spen. it is garbage!this guy is so deeply in samsung's pocket, it's not even funny!samsung is showing off now, finally.jahntu phoneno matter how much costly it is, we will be able to buy it for 300 to 500 dollars within year 2022.. i'm gonna buy it than...i am waiting for alon musk to come up with his phone... it will be called phonex, and will be run by hydrocells!you need it for fancams lmaocan anyone subscribe me ?because of this phone, you can just buy a genad seat on concerts and zoom in on the artists faces2 months later: oneplus offers 216 mp cameras in their phones, at half the price.) forbes magazine published an article by ewelina u. ochab titled \"organ harvesting in china and the many questions to be answered\" on october 16, 2018.in the article, ochab stated that the claims that china's communist regime is killing prisoners of conscience, and in particular falun gong practitioners, to supply its organ harvesting industry, are supported by substantial evidence.forbes said that the chinese communist regime harvests organs from falun gong practitioners.she stated that organ transplantation is a highly regulated medical procedure, and the world health organization has produced a publication called the guiding principles on human cell, tissue and organ transplantation to clarify international standards for organ transplantations.reminds me of them chinese that put 100 megapixels on the box but in reality there are only 5.looks like the smartphones technology reached its topno jack no partynothing else to say, just ew.so cool asf\"6.9 inch which is nuts\" i like that part.samsung guyz are renewing interfaces and launching new technologies but why people are still fond of using iphones which have the same interfaces and technologies since such a long time?? the answer would be android still sucks and iphone rules the marketfuck what did you do to 108 mega pixel it will never be a great and nice picture 12 megapixel get the nice and great picture! i dont get why they put 108 mega pixel hahah lol! iphone 11 pro max still the best!jerry rig everythingi want a cellphone with a camera not a camera with a cellphoneloving samsung s20 ultrafirst 5g phone108 mpl x zooming camera12/16gb ram wireless chargingwho loves this phoneseen and touched the s20 utra phone .....wondering about waiting for a few month to get same tech as us gets?marques brownlee chipset? in new zealand no full-fat snapdragon 865 that the us and other regions get? nz gets exynos chipsets (slighterworse battery performance/ day running? what difference to consider? 64mp or 128 gb microsd?which phone do you like?bro for a person who travels a lot is this s20 ultra phone would be good in camera context i meani know you talked about camera etc an number don't matter but would you rather choose a 64hz or a 120 hz screen i mean big numbers don't matter lolxiaomi poco f3 hold my beer.it's a flop. samsung's trying too hardhow much pricenonethe phone you need to run elder scrolls blades smoothly in 2020samsung is in race with nasa.awesome!you should make a 60/120 fps 1080p video so that we can experience the smoothness of that display xdstill wastestill cheaper than iphone 11 pro max, which costs approx 1500 usd for base 256gb variant here in india.i hope these phones don't blow up like the note 7skoreans so exorbitant. according..their economydoes it still have heart rate sensor?it's not a smartphone, it's a superphonegive me pleseiphone looks ugly i hate iphone even in s20 ultra there will be lot of fun to get 100x zoomyes it's better camera than iphone make camera comparison with iphone it's better than iphone camera, display and iphone is nothing in front of s20 ultranow canon and nikon should add a mobile features on their camera'sdream s20 ultraholding tecno spark 2 walletthey bumping all these specs and it still won't out perform whatever apple comes out with.samsung is shitefinally...a worthy successor to the google nexus 7you are gay on appledoes it do the 120 in qhd or just fhdwatching on my s20 ultrajokeemy brain: samsung s20 ultramy heart: apple 11 pro maxmy wallet: redmi go<a href=\"\">03:14</a> - <a href=\"\">03:23</a> who took that shot?best smartphone everthis phone is a beast and also it's pricewhen will pocket sizes catch up with smartphones?price plzplayed with the 108mp at best buy today with a few of the sale people. tested out the zoom on the phone. pretty good up to 20x after that pictures started looking like trash. at 100x zoom the pictures looked like blurry blobs. played with other features of phone for about an hour. difference in cpu speed was negligible. screen didn't look any more vibrant then the note 10 plus next to it. 120hz was good but screen lost some punch cuz well 1080p. not sure if there is a real need for 120hz as there isn't much for content that uses it. it seems more like a spec war like who's dick is bigger. compared some photos between s20 ultra and iphone 11 pro max and didn't see much of a difference. software is still same as note 10 plus. 16gb ram vs 12gb ram absolutely no difference. then looked at price tag and laughed hysterically. 2500.00!!!!! . wow samsung. you didn't just move up a bit you took a running jump. clearly isn't worth it full price. asked about financing and at 78 dollars a month this is ridiculous. gonna wait to see what comes out from other companies this year. cuz clearly i want to be able to afford a couple mortgage payments instead of marginal upgrade. this is my true unpaid review of the s20 ultra.not enough storage spaceeventually i understood. i will have to wait for the launch of galaxy s 40 and then i can afford this one.finally i can buy s7 now.\"so this brings us to the most important part of the phone... the camera. \". why do we even call it a phone anymore?? hahahaha2010: 3.5in display2020: 3.5in camera bumpi'm xs max user and bored, will take this s20 ultraapple: when did you come out with thissamsung: whenapple: yuhsamsung: no when did i askone day we gonna make a phone which has a fan,a mixer,a cooler,a oven,and a....a...bathtub everything in it.hole punch wtf? it's 2020 bruhso does this phone have the same restrictions for refresh rate as the non-ultra variants? you edited in a clip for them, but not sure if it applies to the phone with more ramneed advice. i got a student discount so i can get the s20+ for around 800 usd and the ultra for 1050$. i don't really need the 100x zoom but i think it's a pretty good deal?no more bixby button? sold!!!#3 on trending! they keep on adding more cameras (its going to look iike an octopus one day), keep on making the screen bigger ( will be a wacom tablet one day)... but they should; focus on screen durability so we can rock these cool cell designs without cases, they should develop a all in one camera, they should focus on making the batteries thinner but with larger capacities... you know... they should push the envelope and create! yet... they just add more cameras, usually use the same battery capacities, fragile materials... boringggggggggggggggggggg!future : full of cameras in the back with 5000 mega pixel camerano thank you, im gonna stick with my s9 lmao.the most ridiculous specs i've ever heard...huawei/xiaomi : makes zoom phonessamsung: makes zoom phonesthen apple comes and creates their own and calls it new and innovative\n",
            "'2blackmailing your present to ruin a beautiful futurei am in train and listening to this masterpiece what a great combowhenever i hear this song, i remember all my friendship and memories in my previous schoolnice songwow<a href=\"\">0:01</a> well that&#39;s not complete it is &quot;don&#39;t let your past blackmail your present to ruin your beautiful future&quot;the song is best ever and ever even after so many years thanks to this song its help me to understand the lifei this songdear zindegi full muvi dijiyega please pleaseyesterday i saw a girl that was watching boss baby and she 13my 2nd daughter licensed to this song since she was 3 years oldwah what a happy vibe you have my friendkha really me koi mshia mile jo hume srk k trha smjhatanice love you jindgilove you zindagii'm here in kota preparing for neet...since a few days i myself witnessed 10 suicide and trust me it the worst feeling ever to know a dreamer like you deid but here i am, to make me realise , i willl do it very easily, very beautifully because i love my parents, my life and most importantly myself...this is really helpful to make me feel light and loved!!!great positive vibe motivation songantidepressant drugthat song relised me that onces live for oirselfsongaliyathis song and this movie taught us to love ourselves, and our lives! this movie also taught us how to find the reason to be alive in this beautiful world!!!iove the zindagi........just saw this movie at tv3suffering from meantal taruma i have no one to share my feelings, future aim, insecurities, negativity, lack of self love and confident level down etc.......blackmail your present to be in a beautiful futureit's coollove you zindagii listen this song every day after my breakup this song give me strength to facing all problems and to get more success in my lifelove youuuuuu zindagitoday date is 18/06/23 &amp; at <a href=\"\">10:59</a> i&#39;m again broken badly and again i&#39;m listening this song kaash meri life me bhi koi aisa hota.,..joaaj fir mai tooti choudhary sahab apke words se 30/8khud achha bnne k liye log kaise badnam kr dete kisi dusre ko apni ex ko bolre ki y khud mere pichhe pdi h mai baat nhi krtaetna jhut koi kaise bol skta...this song giving me some posetive vibes to stay in between very dangerous worldjust love to your family and do every think for them we can also die just by helping them so be happy and respect youri didn't knew what is life and what is the meaning of this song....but now i am 22 and i understood what is the meaning of this song........love u zindagicheers to lifei am watching this song for jasleen's singing.plz make this kind of songs and movies more its help us a lot to come out from that phase thank you so much guys whenever i'm just about to go to that zone again i just plugin my earpods and start listening this and i feel so grateful to god for giving me this life and i will make sure that for nobody i will ruin my life ever once again a big thank you guys love youalia so cutei am very happygood morning have a good daythis song tell me that enjoy your life don't be sad.my girlfriend now i should call her my ex left me for someone else i was sad , depressed this song helped me alot to cope up with this mental truma now i am working on myself focusing on my carrier and i have completely moved on i am alone but i am happy the day she left me i played this song again and again in my free time and continued to do so for few days and it worked for me those who are in depression right now due to any reason i will say only one thing to them it will take time but one day you will be out of depression don't give up fight on life is worth more than few people or few circumstances or few things life is beautifulwhen i was sad then i listen this songstill my inspiration what a linesthis is the worst song i've heard in my life pls like thisshahrukh khan sir please come back with this kind of masterpiece movie againshahrukh khan sir miss usuper and yaadgar songsthe best singer sone of my friend suggest this on july 24 at <a href=\"\">02:22</a> pm when my mood was off for some reason .thank u hofrom - nirmal kumarodisha i hope u will forgive me and return .i cry after listening this songsuffering from depression to selected for the govt job. this song/ movie helps me to motivate my self each time. please get out of the depression zone. write the things which u want. make a schedule. even u feel u don't want to do anything, just make a habit of do the things daily. one day things will get better. cry how much u want to. you will reach your goal. and you will overcome this depression phase. all the best for futureno onemy grandma: \"is he playing the role of her dad?\"my favorite movietouched my heartvery impressivetwo's diagnosis: racism. the one test her genius level can pass. <a href=\"\">#schizo</a>may life ever give me a chance to say this\" love yuh life\"lifewhenever i feel depressed or any kinds of demotivate then i'll always came here to listen love you zindagibestie1 year older than meranalialove you ollwhenever i heard this, i refresh everything as one of today's youth generation! so much so, this is heartfelt.ever time favorite song,aliaplease do take this movie in tamil.i'll use this audio for my college assignment (digital media)p.s. thank you for making this masterpiecewaht a songlove from core of my heartsachme ye gaana ek dam best' he love you lifeblackmail ur present through a beautiful future!someone presented me this song when i was feeling low.....thank ulove you songjin kazuiya n upper bigger sir to putin juj mafia n laddakh myong sahabs from today i am not an avenger vavenger 1st vast.n i don't know who is the avenger and who is not the avenger or i don't know much meaning meaning samjhi bhosdiyo. now i know only this much that i am mohd siraj khan as per passport and my english name jin kazuiya or today does not matter much to me, what are the secrets of my life and what are the secret superstars in the world. i don't care if you are the mother's son. madarchod, have you read farji peech or do you want to listen to the song that will recharge my life with your money? whose father's food am i eating? kazuiya arf siraj.hahaha ok khallas n bhaaad me jaao.amit trivedi... you are a gem... just came back after listening to your latest classic \" zindagi ko haan kar de\" from \"uuchai\" ...it was wow and reminded of this classic from \" dear zindagi\"hi nice songit's so crazy to think that this song has probably saved countless lives. it makes me feel so happy when i'm low.everything will be okay maa friend please don't stresssince i was 5, loved this song. as time went by, i forgot about it. i just remembered how much i loved hindi songs, i watched multiple. this song never failed to make me smile :)love you zindagithis is my kind of songlove you zindagithis song gives the positive thought i listen this song everyday1 2 3 ram hi hi hibest motivational song <a href=\"\">#happydodohome</a>best movie and best song ever .this movie is an inspiration for mehhhh .i'm too much addicted to it.i also wanna spend my life like this .i mean i want this kind of freedom.this will be the best movie of my life .love uhhh alia ma'am,shahrukh sir .many many congratulations alia bhatt for becoming \"mother\" (sunday, 06.11.2022)srthimy favorite songschool competition solo song i will give first prizenice.....i felt like a sunlove yourself firsti love this songthis movie is so underated. i relate to this movie so much. i loved this so muchat night 3a.m watched this moviein depressionno one there to understand my things don't know what to doi love this song feel energeticfazool songbye bye past..... keep smileyou just think about your past good daysand keep smele enjoy your beutifull life........i love youlove you zindagi.....love me zindagiwhy should you worry aye aye aye ???this song really motivates me , no matter how sad i am in at times . i really love this songthis song gives me hopehug a tree .... closer to naturedon't worry too much about etna pelungawhoever listens to this beautiful and quiet song in the year 22 20 23 20no i'm pretty sure he's harassing me because i don't give a fuck that he's famous. <a href=\"\">#schizo</a>western women want to break up eastern woman's marriages because they are sexually frustrates and slutty. this also applies to westernized women. <a href=\"\">#bitter</a>when i feel sad that time i watch this video. i want a beautiful life. i want to enjoy my every moments. plese<a href=\"\">0:01</a> blackmail your present to ruin a beautiful futurei was listening this song while doing a stunt and i could not do the stunt so that's why just starts start by on my back and i thought i could not do the stunt but when i heard the song confident just i become confident and i tried the stunt again and it happened i could do this thatvery nice songi am in depression from past one year i feel like crying every time this songs helps to be happy alone and teaches enjoy every moment of my lifealya mam very beautiful song and very beautiful actalia bhatt faltu this moviebeing a victim of depresssion since 2016, this song prevents many disaster mindsets and suicidal thoughts, providing new and beautiful reason to live and enjoy everyday.forget your past, enjoy your present, stay focused on your future..\"hum jaise dekhe yeh jaahan hain waise hi...\" -life is all about perspectives, about how you see itkas aysa koi doctor mere life v koi aisa ata....jo mujhe mujhse milata feeling like i am in hell.this movie taught me self loveee!! most importantly if you love yourself there's no one the world who's going to stop you...ever!this movie taught me so much!!love u zindagi this line is so amazingthe line maalik ne jo chinta dii to durr karega vo is just for meeestill gives me good vibesthis song is not only song it's a medicine for hope, positivity and self lovegoodi know how this song helped me to get over from toxic person back in 2018blaaaahthose two dogs are mine. rocky and buibuisinger ko awards milna chahiye tha .jin kazuiya and putin the judge mafia, now i too am not getting much facility in this lab and on top of that, this clean mood is getting worse these days, so this bhosdvila is making me mad, i am telling you. what am i supposed to do? i don't know what to do, but after that, i will go to aminabad chowk and do my business there or from there i will go to the court also. after that, if this truth or shame comes to me then to take me home or to throw me in jail in anger, i will surrender silently. because i will go where i want, i will do what is mine. because i am the master, i will not do anything. whatever i want. i don't care.n yes i don't care because i am the one who is going to stick a stick in my ass because i was not born today n whoever tries to think can understand that he will kill me every night because i am the one who beats me and you humans 1 percent doesn't even trust me. because in jail, what happened in the spring, you think about the pets because you can't take care of them, then play with me and then tell me that you humans are the masters of hell by using the rules of the rajjals. now i am asking you what are the things in hell because that hell is very dangerous, it is not your fault that they will kill you in this world and you will show me in hell later. now i understand that my power is also from invisible power. i did not reach you. because the security is mine. hahahahaha. the rest of the hell, show your arrogance because you are hell. what is the story? then don't worry about me putin because you have seen everyone who has the power of kazuya. the rest of the time you will follow me as i have shown you how the sky works. hahahahaha the rest of the note is good. tak ij.whenever i listen this song feel so awsl = love + livingi = isf = fore = everyonelove you zindagi :)even though you sometimes betray me anyone watching this in 2022?aji au thare mane padla ho song sunikari nirmal kumarthis song is playing fast...wait for 2023these songs also help us a lot in starting a new life love you jindagidownload korta dan plz plz plz plz plz plz plz plz plz plz plz plz plz plz plz plz plz plz plz plz plz plz plz plz plz plz plz plz plz plz plz plz plz plz plz plz plz plz plz plz plz plz plz plz plz plz plz plz plz plz plz plz plz plz plz plz plzi fight against many problems in my life in that age that i don't no what is this entire world i never told my bad days to someone because i know that if they here me than they broke from bottom of heart thats why i forgot everything i think sometime i lost my self respect and i am not for anybody this all thinking make me a cry and i always try that i don't hurt anybody either they are my parents friends anybody that people i love and i never give my deppression to her this i always try because i am a reason of happiness not a sadnesslife is the most important thing for everyoneafter heartbreak i just continuously hear this song it give me strength to be happy (:i saw the movie yesterday, it makes me happythis song has saved so many lives i think me also thanks to all for ur efforti like silent songsone of my friend suggest this on july 24 at <a href=\"\">02:22</a> pm when my mood was off for some reason .thank u hofrom - nirmal kumarodisha i hope u will forgive me and return .gori aa ja zadu matzadu mre gauti cbd kesrk and alia! u just didn't know, what you made!!!!this film will be a forever classic in indian cinemaso nice and cute songbs...love u zindagimy motivation songwe should have more films in bollywood like this!0i am from guwahati. i like this song very much plz sport this songlovely songself love is most precious thing thisis biggest lesson in my life and accepting yourself in many flaws and let it go what the other person opinion about you because 7.5 billon people in this world you go with 1 person opinion so be happy in every conditions sooo love u zindagi or never stuck in any situation beacuse time gone very fastly enjoy life wrk hard develop good health and live life own wayenjoy every palnot wait for kalenjoycan't describe what's the value of this song for a neet aspirant!!!when i feel low listen this song and it invigorate me from energy so accept the situation take a deep breath and .and say love you zindagibeautiful songi love you zindgithis song made positive vibesbe happy, life's too short to be sadbhag to jaoi am a childi don't want to fly a kitenow i will love you lifemera relationship ki tudwayasuch a mind refreshing song!suffering from mental trauma. can't explain what's going on within me. i think if i talk to someone i will feel better. but i have no one to share my feelings. listening to this song and your warm comments are so sweet. i want to live:)madness of rabiyathis is not only song but waves of flying butterflythis is the best stress reliever song i have heard ever. tomorrow is my examination and i want to relieve my stress so i am hearing this song.love you king khanmujhe lagta hai kahi mai apni life me har jauyesterday my family and i were going through old songs, and this appeared. man the memories.always love your life!!!happy day .the beauty of this song you only find when you also say to your.....\" life-...\"\"l ve you zindagi.yesloveee thisss songgg!!my most most most fav movie and srk aliathere is so much of positivity in the comment sectionlove this song.a song which has more positivity than devotional songs ever !this is only applicable when you become successful in life.don't let the past blackmail ur present and ruin your futurea song to love yourself and accept yourself ,and livei love my jindagibecause my mother used to call me tu toh meri jindagi hvarna toh kabka jeena chod deti jeena jindagineed this song to move on in life , currently i am facing a challenge in my workplace and i need more backups and motivation to move on and reach my goal .. pray for me all those who are reading and god bless you all tooblackmail ur present to grow ur beautiful futuregoing back to my freinds , nav uday mental clients ....don't let the past blackmail in present to ruin your beautiful futurethose dogs at <a href=\"\">0:15</a>. theyre soooo cutelove you jindagi but with out examvery nice song ,what a beautiful song!!!life is own timethis song really makes me feel better.hope they create more songs like this, it really helps!this song make me happy and miss my best friendit is time we should address the issue openly...lost my friends becuase of this depression....not anymore...@india <i>_</i><i><a href=\"\">#reels</a></i><i></i> nyacnice songwhen i listen this song i suddenly become motivated and happyi was really feeling depressed from a few months...but then this song filled postive energy in meenjoy your lifeenjoy life have much you canthis movie was ahead of its time. alia 's character was ahead of its time. shah rukh's profession was ahead of its time. indian audience wasnt ready for it and i apologiseit's a very beautiful song and mind freshingmy favourite songthis song helps me to get rid of depression and makes mei will give you 5 stareternity. there fidgety. tv f2f change cm baby then run tv then then hmm t.v.hmm hmm h\n",
            "eligion of peaceturkey is cool i wished i was turkish..bring sharia law!!! the divine law!!did i just see a man get blown to pieces? :(russia should invade turkey and take out the tyrant erdoghead and bring freedom and peace and democracy and secularism back to that country.when this happend?those poor peoplecome on this is bullshit what kind of coup the military shots to parked cars , and avoid civilian casualties ? only a fake coup does thatnext battlefield game should be in turkey, so much material loli'm confused with what's going on in turkey.. like what is it turkey government vs who or what..looks like civilians cruising around in a tank at about <a href=\"\">2:40</a>? damn joyriders, like gta. apparently a bunch of the military thought they were only performing exercises / drills?wooow cool stuffare they using some sort of lazer around the <a href=\"\">1:50</a> mark??you mean the fake coup that erdogan staged? yeah...whatever\n",
            "8zdlphahahahahahahahahahahahahahhahahahaahahahaahahahahfake canadians aren't real.win lolfake! hahahoh shit, bird taking my ki... this grass looks pretty.that is written in the description.faaaaaaaaaaaaaaaaaaaaaaaaaaaaaaaaaaaaaaaaaake if seen it onthe newshorror!!)))this is not fake, i've seen it with my own eyes ._.that's right, i know alot of people who think it is fake. listen to this, i've been getting paid about $200 a week just for letting brands know what i prefer to buy. if you wanna try just try now: bit.ly'm3ftfake video -_-'play it backwards and you have a stork.too bad about it being fake. it's totally plausible. a big golden eagle can carry off about 7-12 kilos.oh my god lolvery convincing video.um...what? i was correcting the guy above me because he thought the video took place in the us. calm down and stop shaming your nation.it's fake :/stfu stop being so mean to canada what have we done to u????????????????ok, done my research and see that they did in fact do 400 hours work to make this look 'real'. what a waste of time. this does not negate the fact that golden eagles are quite capable of eating human toddlers. i still love golden eagles though.if it's fake it's a very good job, and i am speaking as a fairly good cgi artist. someone would have had to do a lot of work to make that look so real. why would they do that. look at the way that the shadow of the bird comes in so perfectly, the picking up and dropping of the child, not to mention making the whole thing look as if it's been taken on a cameraphone.fakethat'd be amazing.except this is canada.hahahahahalooks like the bald eagle must have snatched one from kenya instead :3fake.\n",
            "phase of the mcu by packaging every\n",
            "\n",
            "tabim don't craykal ho na ho ...virat kohli2024... every body her !!!we will meet again and again in comment section even after passing so many yearsnice songsome emotions can't be written... only felt and leave tears in our eyeskon kon 2024 me sun rha haianyone here in 2024anyone 2024?its 2024 but look lite yesterdaysha ruk khan du hast eine schone stimmesinger name pleasei came here because virat kohli sirthis song is masterpiece ,har pal ji bhar jiyo <a href=\"\">1:43</a> so enjoy every moment of life but no matter situation so enjoy and happywho is watching in 2024sonu nigam his voice wow1-1-24 lovenot just to listen this music we have to understand the each sentence1st jan 2024..hearing this with heart full of love <3theek se sad song bhi nahi sunne dete suru mein hi add aa jate hai. bahut dukh hai yrr jindagi mein.it's virat kohli favreat songman thus thing is a gem i stiil listen to it at 2024happy new year to allvirat kohli favourite song in childhoodcelebration of entering into 2024 with this master piecemy dad always played this song and i would dance in my sari to it. now i'm 16 years old listening to this gem.happy new year 2024my favourite songmai to is song ko isliye sunne aaya hu kyuki is song title ne 2022 mai grammy award jita haimy favourite songnice song2024virat kohlidec31 2023 2:24am it's healing me2023 a spanish girl like me listening to this yes is me...sonu sir voicevery nice songsrkbest song 2024......virat kohli ka fav h aur hamara fav king kohli ji will see this song after the one yearvirat kohli favourite song2024 me dekhne wale attendance masterpiece songlistening this gem in the end of 2023virat favlove is not heart of life,love is only part of life!it song virat kohli bhai ka favourite songthis song never gets oldand this line \" chaye tumhe jo puree dilse milta hei woo muskilse\" but mujhe tho wo nahi milaa chala gaya mujhe yesaii bich mei xodker30/12/23virat kohli ka favourite song hai isliye mera bhi favourite haimy king ka fev. song virat kohlidu hast eine schone stimmekal ho na hotrueking kohli childhood favorite songjust listen the simple lyricsvirat kohli favourite song\n"
          ]
        }
      ]
    },
    {
      "cell_type": "code",
      "source": [],
      "metadata": {
        "id": "ZMf8jAO4QLyd"
      },
      "execution_count": null,
      "outputs": []
    }
  ],
  "metadata": {
    "colab": {
      "provenance": [],
      "include_colab_link": true
    },
    "kernelspec": {
      "display_name": "Python 3",
      "name": "python3"
    },
    "language_info": {
      "codemirror_mode": {
        "name": "ipython",
        "version": 3
      },
      "file_extension": ".py",
      "mimetype": "text/x-python",
      "name": "python",
      "nbconvert_exporter": "python",
      "pygments_lexer": "ipython3",
      "version": "3.12.2"
    }
  },
  "nbformat": 4,
  "nbformat_minor": 0
}