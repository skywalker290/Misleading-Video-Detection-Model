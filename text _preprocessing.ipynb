{
 "cells": [
  {
   "cell_type": "code",
   "execution_count": 1,
   "metadata": {},
   "outputs": [
    {
     "name": "stderr",
     "output_type": "stream",
     "text": [
      "[nltk_data] Error loading punkt: <urlopen error [Errno -3] Temporary\n",
      "[nltk_data]     failure in name resolution>\n",
      "[nltk_data] Error loading stopwords: <urlopen error [Errno -3]\n",
      "[nltk_data]     Temporary failure in name resolution>\n",
      "[nltk_data] Error loading wordnet: <urlopen error [Errno -3] Temporary\n",
      "[nltk_data]     failure in name resolution>\n",
      "Processing DataFrame: 100%|██████████| 1856/1856 [00:01<00:00, 1283.24it/s]\n",
      "Processing DataFrame: 100%|██████████| 1856/1856 [00:02<00:00, 696.13it/s]\n"
     ]
    }
   ],
   "source": [
    "import os\n",
    "import shutil\n",
    "import pandas as pd\n",
    "import nltk\n",
    "from nltk.tokenize import word_tokenize\n",
    "nltk.download('punkt')\n",
    "nltk.download('stopwords')\n",
    "nltk.download('wordnet')\n",
    "from nltk.corpus import stopwords\n",
    "from nltk.tokenize import word_tokenize\n",
    "from nltk.stem import PorterStemmer, WordNetLemmatizer\n",
    "import spacy\n",
    "from tqdm import tqdm  # Import tqdm for the progress bar\n",
    "\n",
    "\n",
    "# Function to remove stop words from a text\n",
    "def text_processing(text):\n",
    "    text = str(text)\n",
    "    # Tokenization\n",
    "    tokens = word_tokenize(text)\n",
    "\n",
    "    # Stop words removal\n",
    "    stop_words = set(stopwords.words('english'))\n",
    "    filtered_tokens = [word for word in tokens if word.lower() not in stop_words]\n",
    "\n",
    "    # Lemmatization\n",
    "    lemmatizer = WordNetLemmatizer()\n",
    "    lemmatized_tokens = [lemmatizer.lemmatize(word) for word in filtered_tokens]\n",
    "\n",
    "    # Join the tokens back into a string\n",
    "    final_text = ' '.join(lemmatized_tokens)\n",
    "\n",
    "    return final_text\n",
    "\n",
    "# Read the CSV file into a DataFrame\n",
    "df = pd.read_csv('Datasets/Combined_dataset.csv')\n",
    "\n",
    "# Apply the text processing function to the desired columns in the DataFrame\n",
    "tqdm.pandas(desc=\"Processing DataFrame\")  # Use tqdm's progress_apply for pandas DataFrame\n",
    "df['title'] = df['title'].progress_apply(text_processing)\n",
    "df['description'] = df['description'].progress_apply(text_processing)\n",
    "\n",
    "# Save the processed data (without the original column) back to the CSV file\n",
    "df.to_csv('Datasets/final_data.csv', index=False)\n",
    "\n",
    "source_folder = 'Datasets/Combined_Comments'    \n",
    "destination_folder = 'Datasets/final_comments'\n",
    "\n",
    "# Create the destination folder if it doesn't exist\n",
    "if not os.path.exists(destination_folder):\n",
    "    os.makedirs(destination_folder)\n",
    "\n",
    "# Iterate over each file in the source folder\n",
    "for filename in os.listdir(source_folder):\n",
    "    if filename.endswith('.txt'):  # Check for .text extension\n",
    "        # Read the content of the text file\n",
    "        with open(os.path.join(source_folder, filename), 'r') as file:\n",
    "            text = file.read()\n",
    "\n",
    "        # Remove stop words from the text\n",
    "        cleaned_text = text_processing(text)\n",
    "\n",
    "        # Save the processed data to a new file in the destination folder\n",
    "        output_filepath = os.path.join(destination_folder, filename)\n",
    "        with open(output_filepath, 'w') as file:\n",
    "            file.write(cleaned_text)\n"
   ]
  }
 ],
 "metadata": {
  "kernelspec": {
   "display_name": "Python 3",
   "language": "python",
   "name": "python3"
  },
  "language_info": {
   "codemirror_mode": {
    "name": "ipython",
    "version": 3
   },
   "file_extension": ".py",
   "mimetype": "text/x-python",
   "name": "python",
   "nbconvert_exporter": "python",
   "pygments_lexer": "ipython3",
   "version": "3.10.12"
  }
 },
 "nbformat": 4,
 "nbformat_minor": 2
}
